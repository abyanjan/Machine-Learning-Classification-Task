{
 "cells": [
  {
   "cell_type": "markdown",
   "metadata": {},
   "source": [
    "### TalkingData AdTracking Fraud Detection Challenge"
   ]
  },
  {
   "cell_type": "markdown",
   "metadata": {},
   "source": [
    "TalkingData is a Chinese big data company, and one of their areas of expertise is mobile advertisements.\n",
    "\n",
    "In mobile advertisements, click fraud is a major source of losses. Click fraud is the practice of repeatedly clicking on an advertisement hosted on a website with the intention of generating revenue for the host website or draining revenue from the advertiser.\n",
    "\n",
    "In this case, TalkingData happens to be serving the advertisers (their clients). TalkingData cover a whopping approx. 70% of the active mobile devices in China, of which 90% are potentially fraudulent (i.e. the user is actually not going to download the app after clicking).\n",
    "\n",
    "You can imagine the amount of money they can help clients save if they are able to predict whether a given click is fraudulent (or equivalently, whether a given click will result in a download).\n",
    "\n",
    "Their current approach to solve this problem is that they've generated a blacklist of IP addresses - those IPs which produce lots of clicks, but never install any apps. Now, they want to try some advanced techniques to predict the probability of a click being genuine/fraud.\n",
    "\n",
    "In this problem, we will use the features associated with clicks, such as IP address, operating system, device type, time of click etc. to predict the probability of a click being fraud.\n",
    "\n",
    "They have released the problem on Kaggle (https://www.kaggle.com/c/talkingdata-adtracking-fraud-detection)"
   ]
  },
  {
   "cell_type": "markdown",
   "metadata": {},
   "source": [
    "#### Understanding the Data\n",
    "\n",
    "The data contains observations of about 240 million clicks, and whether a given click resulted in a download or not (1/0).\n",
    "\n",
    "On Kaggle, the data is split into train.csv and train_sample.csv (100,000 observations). We'll use the smaller train_sample.csv in this notebook for speed, though while training the model for Kaggle submissions, the full training data will obviously produce better results.\n",
    "\n",
    "The detailed data dictionary is mentioned here:\n",
    "\n",
    "- ip: ip address of click.\n",
    "- app: app id for marketing.\n",
    "- device: device type id of user mobile phone (e.g., iphone 6 plus, iphone 7, huawei mate 7, etc.)\n",
    "- os: os version id of user mobile phone\n",
    "- channel: channel id of mobile ad publisher\n",
    "- click_time: timestamp of click (UTC)\n",
    "- attributed_time: if user download the app for after clicking an ad, this is the time of the app download\n",
    "- is_attributed: the target that is to be predicted, indicating the app was downloaded"
   ]
  },
  {
   "cell_type": "code",
   "execution_count": 1,
   "metadata": {},
   "outputs": [],
   "source": [
    "import numpy as np\n",
    "import pandas as pd\n",
    "import sklearn\n",
    "import matplotlib.pyplot as plt\n",
    "import seaborn as sns\n",
    "\n",
    "from sklearn.model_selection import train_test_split\n",
    "from sklearn.model_selection import KFold\n",
    "from sklearn.model_selection import GridSearchCV\n",
    "from sklearn.model_selection import cross_val_score\n",
    "from sklearn.preprocessing import LabelEncoder\n",
    "from sklearn.tree import DecisionTreeClassifier\n",
    "from sklearn.ensemble import AdaBoostClassifier\n",
    "from sklearn.ensemble import GradientBoostingClassifier\n",
    "from sklearn import metrics\n",
    "\n",
    "import xgboost as xgb\n",
    "from xgboost import XGBClassifier\n",
    "from xgboost import plot_importance\n",
    "import gc # for deleting unused variables\n",
    "%matplotlib inline\n",
    "\n",
    "import os\n",
    "import warnings\n",
    "warnings.filterwarnings('ignore')\n"
   ]
  },
  {
   "cell_type": "code",
   "execution_count": 2,
   "metadata": {},
   "outputs": [],
   "source": [
    "# Data\n",
    "# specify column dtypes to save memory (by default pandas reads some columns as floats)\n",
    "dtypes = {\n",
    "        'ip'            : 'uint16',\n",
    "        'app'           : 'uint16',\n",
    "        'device'        : 'uint16',\n",
    "        'os'            : 'uint16',\n",
    "        'channel'       : 'uint16',\n",
    "        'is_attributed' : 'uint8',\n",
    "        'click_id'      : 'uint32' # note that click_id is only in test data, not training data\n",
    "        }\n",
    "\n",
    "colnames=['ip','app','device','os', 'channel', 'click_time', 'is_attributed']\n",
    "\n",
    "train_sample = pd.read_csv('train_sample.csv',dtype = dtypes, usecols = colnames)"
   ]
  },
  {
   "cell_type": "code",
   "execution_count": 3,
   "metadata": {},
   "outputs": [
    {
     "data": {
      "text/plain": [
       "(100000, 7)"
      ]
     },
     "execution_count": 3,
     "metadata": {},
     "output_type": "execute_result"
    }
   ],
   "source": [
    "# data size\n",
    "train_sample.shape"
   ]
  },
  {
   "cell_type": "code",
   "execution_count": 4,
   "metadata": {},
   "outputs": [
    {
     "data": {
      "text/html": [
       "<div>\n",
       "<style scoped>\n",
       "    .dataframe tbody tr th:only-of-type {\n",
       "        vertical-align: middle;\n",
       "    }\n",
       "\n",
       "    .dataframe tbody tr th {\n",
       "        vertical-align: top;\n",
       "    }\n",
       "\n",
       "    .dataframe thead th {\n",
       "        text-align: right;\n",
       "    }\n",
       "</style>\n",
       "<table border=\"1\" class=\"dataframe\">\n",
       "  <thead>\n",
       "    <tr style=\"text-align: right;\">\n",
       "      <th></th>\n",
       "      <th>ip</th>\n",
       "      <th>app</th>\n",
       "      <th>device</th>\n",
       "      <th>os</th>\n",
       "      <th>channel</th>\n",
       "      <th>click_time</th>\n",
       "      <th>is_attributed</th>\n",
       "    </tr>\n",
       "  </thead>\n",
       "  <tbody>\n",
       "    <tr>\n",
       "      <th>0</th>\n",
       "      <td>22004</td>\n",
       "      <td>12</td>\n",
       "      <td>1</td>\n",
       "      <td>13</td>\n",
       "      <td>497</td>\n",
       "      <td>2017-11-07 09:30:38</td>\n",
       "      <td>0</td>\n",
       "    </tr>\n",
       "    <tr>\n",
       "      <th>1</th>\n",
       "      <td>40024</td>\n",
       "      <td>25</td>\n",
       "      <td>1</td>\n",
       "      <td>17</td>\n",
       "      <td>259</td>\n",
       "      <td>2017-11-07 13:40:27</td>\n",
       "      <td>0</td>\n",
       "    </tr>\n",
       "    <tr>\n",
       "      <th>2</th>\n",
       "      <td>35888</td>\n",
       "      <td>12</td>\n",
       "      <td>1</td>\n",
       "      <td>19</td>\n",
       "      <td>212</td>\n",
       "      <td>2017-11-07 18:05:24</td>\n",
       "      <td>0</td>\n",
       "    </tr>\n",
       "    <tr>\n",
       "      <th>3</th>\n",
       "      <td>29048</td>\n",
       "      <td>13</td>\n",
       "      <td>1</td>\n",
       "      <td>13</td>\n",
       "      <td>477</td>\n",
       "      <td>2017-11-07 04:58:08</td>\n",
       "      <td>0</td>\n",
       "    </tr>\n",
       "    <tr>\n",
       "      <th>4</th>\n",
       "      <td>2877</td>\n",
       "      <td>12</td>\n",
       "      <td>1</td>\n",
       "      <td>1</td>\n",
       "      <td>178</td>\n",
       "      <td>2017-11-09 09:00:09</td>\n",
       "      <td>0</td>\n",
       "    </tr>\n",
       "  </tbody>\n",
       "</table>\n",
       "</div>"
      ],
      "text/plain": [
       "      ip  app  device  os  channel           click_time  is_attributed\n",
       "0  22004   12       1  13      497  2017-11-07 09:30:38              0\n",
       "1  40024   25       1  17      259  2017-11-07 13:40:27              0\n",
       "2  35888   12       1  19      212  2017-11-07 18:05:24              0\n",
       "3  29048   13       1  13      477  2017-11-07 04:58:08              0\n",
       "4   2877   12       1   1      178  2017-11-09 09:00:09              0"
      ]
     },
     "execution_count": 4,
     "metadata": {},
     "output_type": "execute_result"
    }
   ],
   "source": [
    "train_sample.head()"
   ]
  },
  {
   "cell_type": "markdown",
   "metadata": {},
   "source": [
    "### Exploring the Data \n",
    "#### Univariate Analysis"
   ]
  },
  {
   "cell_type": "code",
   "execution_count": 5,
   "metadata": {},
   "outputs": [
    {
     "name": "stdout",
     "output_type": "stream",
     "text": [
      "<class 'pandas.core.frame.DataFrame'>\n",
      "RangeIndex: 100000 entries, 0 to 99999\n",
      "Data columns (total 7 columns):\n",
      "ip               100000 non-null uint16\n",
      "app              100000 non-null uint16\n",
      "device           100000 non-null uint16\n",
      "os               100000 non-null uint16\n",
      "channel          100000 non-null uint16\n",
      "click_time       100000 non-null object\n",
      "is_attributed    100000 non-null uint8\n",
      "dtypes: object(1), uint16(5), uint8(1)\n",
      "memory usage: 1.8+ MB\n"
     ]
    }
   ],
   "source": [
    "# number of observations and missing values\n",
    "train_sample.info()"
   ]
  },
  {
   "cell_type": "markdown",
   "metadata": {},
   "source": [
    "We can see there are no missing values in the data."
   ]
  },
  {
   "cell_type": "code",
   "execution_count": 6,
   "metadata": {},
   "outputs": [
    {
     "name": "stdout",
     "output_type": "stream",
     "text": [
      "ip : 28470\n",
      "app : 161\n",
      "device : 100\n",
      "os : 130\n",
      "channel : 161\n",
      "click_time : 80350\n",
      "is_attributed : 2\n"
     ]
    }
   ],
   "source": [
    "# Number of unique values in each variable\n",
    "\n",
    "for var in train_sample.columns:\n",
    "    print(var,':', len(train_sample[var].unique()))"
   ]
  },
  {
   "cell_type": "code",
   "execution_count": 7,
   "metadata": {},
   "outputs": [
    {
     "data": {
      "text/plain": [
       "ip               uint16\n",
       "app              uint16\n",
       "device           uint16\n",
       "os               uint16\n",
       "channel          uint16\n",
       "click_time       object\n",
       "is_attributed     uint8\n",
       "dtype: object"
      ]
     },
     "execution_count": 7,
     "metadata": {},
     "output_type": "execute_result"
    }
   ],
   "source": [
    "# Data types\n",
    "train_sample.dtypes"
   ]
  },
  {
   "cell_type": "markdown",
   "metadata": {},
   "source": [
    "Besides, click_time all the variables are int type,but they are actually categorical."
   ]
  },
  {
   "cell_type": "code",
   "execution_count": 8,
   "metadata": {},
   "outputs": [
    {
     "data": {
      "text/plain": [
       "<matplotlib.axes._subplots.AxesSubplot at 0x1d5d1b0fa20>"
      ]
     },
     "execution_count": 8,
     "metadata": {},
     "output_type": "execute_result"
    },
    {
     "data": {
      "image/png": "[encoded data removed]",
      "text/plain": [
       "<matplotlib.figure.Figure at 0x1d5dbe5deb8>"
      ]
     },
     "metadata": {},
     "output_type": "display_data"
    }
   ],
   "source": [
    "# Distribution of app\n",
    "plt.figure(figsize = (14,8))\n",
    "sns.countplot(x = 'app', data = train_sample)"
   ]
  },
  {
   "cell_type": "markdown",
   "metadata": {},
   "source": [
    "The distribution of app looks very skewed, where most of the app have are very rare and few of the app represent very high number of observations in the data."
   ]
  },
  {
   "cell_type": "code",
   "execution_count": 9,
   "metadata": {},
   "outputs": [
    {
     "data": {
      "text/plain": [
       "<matplotlib.axes._subplots.AxesSubplot at 0x1d5dbe5d9b0>"
      ]
     },
     "execution_count": 9,
     "metadata": {},
     "output_type": "execute_result"
    },
    {
     "data": {
      "image/png": "[encoded data removed]",
      "text/plain": [
       "<matplotlib.figure.Figure at 0x1d5dca2fba8>"
      ]
     },
     "metadata": {},
     "output_type": "display_data"
    }
   ],
   "source": [
    "# Distribution of device\n",
    "plt.figure(figsize = (14,8))\n",
    "sns.countplot(x = 'device', data = train_sample)"
   ]
  },
  {
   "cell_type": "markdown",
   "metadata": {},
   "source": [
    "This looks very highly skewed, only very few of the device represents the maximum observations in the data."
   ]
  },
  {
   "cell_type": "code",
   "execution_count": 10,
   "metadata": {},
   "outputs": [
    {
     "data": {
      "text/plain": [
       "<matplotlib.axes._subplots.AxesSubplot at 0x1d5d1b9afd0>"
      ]
     },
     "execution_count": 10,
     "metadata": {},
     "output_type": "execute_result"
    },
    {
     "data": {
      "image/png": "[encoded data removed]",
      "text/plain": [
       "<matplotlib.figure.Figure at 0x1d5dcdd3dd8>"
      ]
     },
     "metadata": {},
     "output_type": "display_data"
    }
   ],
   "source": [
    "# channel\n",
    "plt.figure(figsize = (14,8))\n",
    "sns.countplot(x = 'channel', data = train_sample)"
   ]
  },
  {
   "cell_type": "markdown",
   "metadata": {},
   "source": [
    "Channel has fairly uniform distribution."
   ]
  },
  {
   "cell_type": "code",
   "execution_count": 11,
   "metadata": {},
   "outputs": [
    {
     "data": {
      "text/plain": [
       "<matplotlib.axes._subplots.AxesSubplot at 0x1d5dbe5dd68>"
      ]
     },
     "execution_count": 11,
     "metadata": {},
     "output_type": "execute_result"
    },
    {
     "data": {
      "image/png": "[encoded data removed]",
      "text/plain": [
       "<matplotlib.figure.Figure at 0x1d5dd004c18>"
      ]
     },
     "metadata": {},
     "output_type": "display_data"
    }
   ],
   "source": [
    "# OS\n",
    "plt.figure(figsize = (14,8))\n",
    "sns.countplot(x = 'os', data = train_sample)"
   ]
  },
  {
   "cell_type": "code",
   "execution_count": 12,
   "metadata": {},
   "outputs": [
    {
     "data": {
      "text/plain": [
       "0    99.773\n",
       "1     0.227\n",
       "Name: is_attributed, dtype: float64"
      ]
     },
     "execution_count": 12,
     "metadata": {},
     "output_type": "execute_result"
    }
   ],
   "source": [
    "# Distribution of the target variable \n",
    "train_sample['is_attributed'].value_counts(normalize = True) * 100"
   ]
  },
  {
   "cell_type": "markdown",
   "metadata": {},
   "source": [
    "The target is also highly imbalanced, where above 99.7% of the data are fraudluent and only about 0.23% of them are genuine clicks that download the apps."
   ]
  },
  {
   "cell_type": "markdown",
   "metadata": {},
   "source": [
    "### Segmented Univariate Analysis"
   ]
  },
  {
   "cell_type": "code",
   "execution_count": 13,
   "metadata": {},
   "outputs": [
    {
     "data": {
      "text/html": [
       "<div>\n",
       "<style scoped>\n",
       "    .dataframe tbody tr th:only-of-type {\n",
       "        vertical-align: middle;\n",
       "    }\n",
       "\n",
       "    .dataframe tbody tr th {\n",
       "        vertical-align: top;\n",
       "    }\n",
       "\n",
       "    .dataframe thead th {\n",
       "        text-align: right;\n",
       "    }\n",
       "</style>\n",
       "<table border=\"1\" class=\"dataframe\">\n",
       "  <thead>\n",
       "    <tr style=\"text-align: right;\">\n",
       "      <th></th>\n",
       "      <th>app</th>\n",
       "      <th>mean</th>\n",
       "      <th>count</th>\n",
       "      <th>ip</th>\n",
       "      <th>device</th>\n",
       "      <th>os</th>\n",
       "      <th>channel</th>\n",
       "      <th>click_time</th>\n",
       "      <th>is_attributed</th>\n",
       "    </tr>\n",
       "  </thead>\n",
       "  <tbody>\n",
       "    <tr>\n",
       "      <th>0</th>\n",
       "      <td>1</td>\n",
       "      <td>0.0</td>\n",
       "      <td>3135</td>\n",
       "      <td>17059</td>\n",
       "      <td>1</td>\n",
       "      <td>17</td>\n",
       "      <td>135</td>\n",
       "      <td>2017-11-09 01:17:58</td>\n",
       "      <td>0</td>\n",
       "    </tr>\n",
       "    <tr>\n",
       "      <th>1</th>\n",
       "      <td>1</td>\n",
       "      <td>0.0</td>\n",
       "      <td>3135</td>\n",
       "      <td>52432</td>\n",
       "      <td>1</td>\n",
       "      <td>13</td>\n",
       "      <td>115</td>\n",
       "      <td>2017-11-07 17:22:52</td>\n",
       "      <td>0</td>\n",
       "    </tr>\n",
       "    <tr>\n",
       "      <th>2</th>\n",
       "      <td>1</td>\n",
       "      <td>0.0</td>\n",
       "      <td>3135</td>\n",
       "      <td>23706</td>\n",
       "      <td>1</td>\n",
       "      <td>27</td>\n",
       "      <td>124</td>\n",
       "      <td>2017-11-07 09:37:21</td>\n",
       "      <td>0</td>\n",
       "    </tr>\n",
       "    <tr>\n",
       "      <th>3</th>\n",
       "      <td>1</td>\n",
       "      <td>0.0</td>\n",
       "      <td>3135</td>\n",
       "      <td>58458</td>\n",
       "      <td>1</td>\n",
       "      <td>19</td>\n",
       "      <td>101</td>\n",
       "      <td>2017-11-09 14:27:57</td>\n",
       "      <td>0</td>\n",
       "    </tr>\n",
       "    <tr>\n",
       "      <th>4</th>\n",
       "      <td>1</td>\n",
       "      <td>0.0</td>\n",
       "      <td>3135</td>\n",
       "      <td>34067</td>\n",
       "      <td>1</td>\n",
       "      <td>15</td>\n",
       "      <td>134</td>\n",
       "      <td>2017-11-07 15:06:06</td>\n",
       "      <td>0</td>\n",
       "    </tr>\n",
       "  </tbody>\n",
       "</table>\n",
       "</div>"
      ],
      "text/plain": [
       "   app  mean  count     ip  device  os  channel           click_time  \\\n",
       "0    1   0.0   3135  17059       1  17      135  2017-11-09 01:17:58   \n",
       "1    1   0.0   3135  52432       1  13      115  2017-11-07 17:22:52   \n",
       "2    1   0.0   3135  23706       1  27      124  2017-11-07 09:37:21   \n",
       "3    1   0.0   3135  58458       1  19      101  2017-11-09 14:27:57   \n",
       "4    1   0.0   3135  34067       1  15      134  2017-11-07 15:06:06   \n",
       "\n",
       "   is_attributed  \n",
       "0              0  \n",
       "1              0  \n",
       "2              0  \n",
       "3              0  \n",
       "4              0  "
      ]
     },
     "execution_count": 13,
     "metadata": {},
     "output_type": "execute_result"
    }
   ],
   "source": [
    "# relation of target with app\n",
    "app_target = train_sample.groupby('app')['is_attributed'].agg(['mean','count'])\n",
    "\n",
    "# taking only the most frequent apps for plotting (top 80%)\n",
    "frequent_apps = app_target[app_target['count'] > app_target['count'].quantile(0.80)]\n",
    "frequent_apps.reset_index(inplace = True)\n",
    "\n",
    "# add the target labels\n",
    "frequent_apps = frequent_apps.merge(train_sample, on = 'app', how = 'inner')\n",
    "frequent_apps.head()\n"
   ]
  },
  {
   "cell_type": "code",
   "execution_count": 14,
   "metadata": {},
   "outputs": [
    {
     "data": {
      "text/plain": [
       "<matplotlib.axes._subplots.AxesSubplot at 0x1d5dcfa0a20>"
      ]
     },
     "execution_count": 14,
     "metadata": {},
     "output_type": "execute_result"
    },
    {
     "data": {
      "image/png": "[encoded data removed]",
      "text/plain": [
       "<matplotlib.figure.Figure at 0x1d5dbe5d208>"
      ]
     },
     "metadata": {},
     "output_type": "display_data"
    }
   ],
   "source": [
    "plt.figure(figsize = (10,10))\n",
    "sns.countplot(y = 'app', hue = 'is_attributed', data = frequent_apps)"
   ]
  },
  {
   "cell_type": "code",
   "execution_count": 15,
   "metadata": {},
   "outputs": [
    {
     "data": {
      "text/html": [
       "<div>\n",
       "<style scoped>\n",
       "    .dataframe tbody tr th:only-of-type {\n",
       "        vertical-align: middle;\n",
       "    }\n",
       "\n",
       "    .dataframe tbody tr th {\n",
       "        vertical-align: top;\n",
       "    }\n",
       "\n",
       "    .dataframe thead th {\n",
       "        text-align: right;\n",
       "    }\n",
       "</style>\n",
       "<table border=\"1\" class=\"dataframe\">\n",
       "  <thead>\n",
       "    <tr style=\"text-align: right;\">\n",
       "      <th></th>\n",
       "      <th>device</th>\n",
       "      <th>count</th>\n",
       "    </tr>\n",
       "  </thead>\n",
       "  <tbody>\n",
       "    <tr>\n",
       "      <th>0</th>\n",
       "      <td>0</td>\n",
       "      <td>541</td>\n",
       "    </tr>\n",
       "    <tr>\n",
       "      <th>1</th>\n",
       "      <td>1</td>\n",
       "      <td>94338</td>\n",
       "    </tr>\n",
       "    <tr>\n",
       "      <th>2</th>\n",
       "      <td>2</td>\n",
       "      <td>4345</td>\n",
       "    </tr>\n",
       "    <tr>\n",
       "      <th>3</th>\n",
       "      <td>4</td>\n",
       "      <td>3</td>\n",
       "    </tr>\n",
       "    <tr>\n",
       "      <th>4</th>\n",
       "      <td>5</td>\n",
       "      <td>7</td>\n",
       "    </tr>\n",
       "    <tr>\n",
       "      <th>5</th>\n",
       "      <td>6</td>\n",
       "      <td>8</td>\n",
       "    </tr>\n",
       "    <tr>\n",
       "      <th>9</th>\n",
       "      <td>16</td>\n",
       "      <td>7</td>\n",
       "    </tr>\n",
       "    <tr>\n",
       "      <th>13</th>\n",
       "      <td>21</td>\n",
       "      <td>3</td>\n",
       "    </tr>\n",
       "    <tr>\n",
       "      <th>14</th>\n",
       "      <td>25</td>\n",
       "      <td>3</td>\n",
       "    </tr>\n",
       "    <tr>\n",
       "      <th>16</th>\n",
       "      <td>33</td>\n",
       "      <td>3</td>\n",
       "    </tr>\n",
       "    <tr>\n",
       "      <th>19</th>\n",
       "      <td>40</td>\n",
       "      <td>7</td>\n",
       "    </tr>\n",
       "    <tr>\n",
       "      <th>21</th>\n",
       "      <td>50</td>\n",
       "      <td>4</td>\n",
       "    </tr>\n",
       "    <tr>\n",
       "      <th>25</th>\n",
       "      <td>59</td>\n",
       "      <td>12</td>\n",
       "    </tr>\n",
       "    <tr>\n",
       "      <th>26</th>\n",
       "      <td>60</td>\n",
       "      <td>3</td>\n",
       "    </tr>\n",
       "    <tr>\n",
       "      <th>32</th>\n",
       "      <td>97</td>\n",
       "      <td>5</td>\n",
       "    </tr>\n",
       "    <tr>\n",
       "      <th>93</th>\n",
       "      <td>3032</td>\n",
       "      <td>371</td>\n",
       "    </tr>\n",
       "    <tr>\n",
       "      <th>96</th>\n",
       "      <td>3543</td>\n",
       "      <td>151</td>\n",
       "    </tr>\n",
       "    <tr>\n",
       "      <th>98</th>\n",
       "      <td>3866</td>\n",
       "      <td>93</td>\n",
       "    </tr>\n",
       "  </tbody>\n",
       "</table>\n",
       "</div>"
      ],
      "text/plain": [
       "    device  count\n",
       "0        0    541\n",
       "1        1  94338\n",
       "2        2   4345\n",
       "3        4      3\n",
       "4        5      7\n",
       "5        6      8\n",
       "9       16      7\n",
       "13      21      3\n",
       "14      25      3\n",
       "16      33      3\n",
       "19      40      7\n",
       "21      50      4\n",
       "25      59     12\n",
       "26      60      3\n",
       "32      97      5\n",
       "93    3032    371\n",
       "96    3543    151\n",
       "98    3866     93"
      ]
     },
     "execution_count": 15,
     "metadata": {},
     "output_type": "execute_result"
    }
   ],
   "source": [
    "# relation of device with target\n",
    "device_count = train_sample.groupby('device').size().reset_index(name= \"count\")\n",
    "\n",
    "# taking only frequent devices\n",
    "frequent_devices = device_count[device_count['count'] > device_count['count'].quantile(0.80)]\n",
    "frequent_devices"
   ]
  },
  {
   "cell_type": "code",
   "execution_count": 16,
   "metadata": {},
   "outputs": [
    {
     "data": {
      "text/html": [
       "<div>\n",
       "<style scoped>\n",
       "    .dataframe tbody tr th:only-of-type {\n",
       "        vertical-align: middle;\n",
       "    }\n",
       "\n",
       "    .dataframe tbody tr th {\n",
       "        vertical-align: top;\n",
       "    }\n",
       "\n",
       "    .dataframe thead th {\n",
       "        text-align: right;\n",
       "    }\n",
       "</style>\n",
       "<table border=\"1\" class=\"dataframe\">\n",
       "  <thead>\n",
       "    <tr style=\"text-align: right;\">\n",
       "      <th></th>\n",
       "      <th>device</th>\n",
       "      <th>count</th>\n",
       "      <th>is_attributed</th>\n",
       "    </tr>\n",
       "  </thead>\n",
       "  <tbody>\n",
       "    <tr>\n",
       "      <th>0</th>\n",
       "      <td>0</td>\n",
       "      <td>541</td>\n",
       "      <td>1</td>\n",
       "    </tr>\n",
       "    <tr>\n",
       "      <th>1</th>\n",
       "      <td>0</td>\n",
       "      <td>541</td>\n",
       "      <td>0</td>\n",
       "    </tr>\n",
       "    <tr>\n",
       "      <th>2</th>\n",
       "      <td>0</td>\n",
       "      <td>541</td>\n",
       "      <td>0</td>\n",
       "    </tr>\n",
       "    <tr>\n",
       "      <th>3</th>\n",
       "      <td>0</td>\n",
       "      <td>541</td>\n",
       "      <td>0</td>\n",
       "    </tr>\n",
       "    <tr>\n",
       "      <th>4</th>\n",
       "      <td>0</td>\n",
       "      <td>541</td>\n",
       "      <td>0</td>\n",
       "    </tr>\n",
       "  </tbody>\n",
       "</table>\n",
       "</div>"
      ],
      "text/plain": [
       "   device  count  is_attributed\n",
       "0       0    541              1\n",
       "1       0    541              0\n",
       "2       0    541              0\n",
       "3       0    541              0\n",
       "4       0    541              0"
      ]
     },
     "execution_count": 16,
     "metadata": {},
     "output_type": "execute_result"
    }
   ],
   "source": [
    "frequent_devices = frequent_devices.merge(train_sample[['device','is_attributed']], on = 'device', how = 'inner')\n",
    "frequent_devices.head()"
   ]
  },
  {
   "cell_type": "code",
   "execution_count": 17,
   "metadata": {},
   "outputs": [
    {
     "data": {
      "text/plain": [
       "<matplotlib.axes._subplots.AxesSubplot at 0x1d5d1bc2470>"
      ]
     },
     "execution_count": 17,
     "metadata": {},
     "output_type": "execute_result"
    },
    {
     "data": {
      "image/png": "[encoded data removed]",
      "text/plain": [
       "<matplotlib.figure.Figure at 0x1d5defaacf8>"
      ]
     },
     "metadata": {},
     "output_type": "display_data"
    }
   ],
   "source": [
    "plt.figure(figsize = (10,8))\n",
    "sns.countplot(y = 'device', hue = 'is_attributed', data = frequent_devices)"
   ]
  },
  {
   "cell_type": "code",
   "execution_count": 18,
   "metadata": {},
   "outputs": [
    {
     "data": {
      "text/plain": [
       "<matplotlib.axes._subplots.AxesSubplot at 0x1d5df02a400>"
      ]
     },
     "execution_count": 18,
     "metadata": {},
     "output_type": "execute_result"
    },
    {
     "data": {
      "image/png": "[encoded data removed]",
      "text/plain": [
       "<matplotlib.figure.Figure at 0x1d5de861cc0>"
      ]
     },
     "metadata": {},
     "output_type": "display_data"
    }
   ],
   "source": [
    "# relation between os and target\n",
    "os_count = train_sample.groupby('os').size().reset_index(name = 'count')\n",
    "\n",
    "# taking frequent os\n",
    "frequent_os = os_count[os_count['count'] > os_count['count'].quantile(0.50)]\n",
    "frequent_os = frequent_os.merge(train_sample, on = 'os', how = 'inner')\n",
    "\n",
    "plt.figure(figsize = (10,8))\n",
    "sns.countplot(y = 'os', hue = 'is_attributed', data = frequent_os)"
   ]
  },
  {
   "cell_type": "markdown",
   "metadata": {},
   "source": [
    "### Feature Enginnering\n",
    "\n",
    "Derive more features from the clik_time."
   ]
  },
  {
   "cell_type": "code",
   "execution_count": 19,
   "metadata": {},
   "outputs": [],
   "source": [
    "# creating datetime variables\n",
    "def get_timefeatures(df):\n",
    "    # derive new features using the click_time column\n",
    "    df[\"click_time\"] = pd.to_datetime(df['click_time'])\n",
    "    df['day_of_week'] = df['click_time'].dt.dayofweek\n",
    "    df['day_of_year'] = df['click_time'].dt.dayofyear\n",
    "    df['month'] = df['click_time'].dt.month\n",
    "    df['hour'] = df['click_time'].dt.hour\n",
    "    return df"
   ]
  },
  {
   "cell_type": "code",
   "execution_count": 20,
   "metadata": {},
   "outputs": [
    {
     "data": {
      "text/html": [
       "<div>\n",
       "<style scoped>\n",
       "    .dataframe tbody tr th:only-of-type {\n",
       "        vertical-align: middle;\n",
       "    }\n",
       "\n",
       "    .dataframe tbody tr th {\n",
       "        vertical-align: top;\n",
       "    }\n",
       "\n",
       "    .dataframe thead th {\n",
       "        text-align: right;\n",
       "    }\n",
       "</style>\n",
       "<table border=\"1\" class=\"dataframe\">\n",
       "  <thead>\n",
       "    <tr style=\"text-align: right;\">\n",
       "      <th></th>\n",
       "      <th>ip</th>\n",
       "      <th>app</th>\n",
       "      <th>device</th>\n",
       "      <th>os</th>\n",
       "      <th>channel</th>\n",
       "      <th>is_attributed</th>\n",
       "      <th>day_of_week</th>\n",
       "      <th>day_of_year</th>\n",
       "      <th>month</th>\n",
       "      <th>hour</th>\n",
       "    </tr>\n",
       "  </thead>\n",
       "  <tbody>\n",
       "    <tr>\n",
       "      <th>0</th>\n",
       "      <td>22004</td>\n",
       "      <td>12</td>\n",
       "      <td>1</td>\n",
       "      <td>13</td>\n",
       "      <td>497</td>\n",
       "      <td>0</td>\n",
       "      <td>1</td>\n",
       "      <td>311</td>\n",
       "      <td>11</td>\n",
       "      <td>9</td>\n",
       "    </tr>\n",
       "    <tr>\n",
       "      <th>1</th>\n",
       "      <td>40024</td>\n",
       "      <td>25</td>\n",
       "      <td>1</td>\n",
       "      <td>17</td>\n",
       "      <td>259</td>\n",
       "      <td>0</td>\n",
       "      <td>1</td>\n",
       "      <td>311</td>\n",
       "      <td>11</td>\n",
       "      <td>13</td>\n",
       "    </tr>\n",
       "    <tr>\n",
       "      <th>2</th>\n",
       "      <td>35888</td>\n",
       "      <td>12</td>\n",
       "      <td>1</td>\n",
       "      <td>19</td>\n",
       "      <td>212</td>\n",
       "      <td>0</td>\n",
       "      <td>1</td>\n",
       "      <td>311</td>\n",
       "      <td>11</td>\n",
       "      <td>18</td>\n",
       "    </tr>\n",
       "    <tr>\n",
       "      <th>3</th>\n",
       "      <td>29048</td>\n",
       "      <td>13</td>\n",
       "      <td>1</td>\n",
       "      <td>13</td>\n",
       "      <td>477</td>\n",
       "      <td>0</td>\n",
       "      <td>1</td>\n",
       "      <td>311</td>\n",
       "      <td>11</td>\n",
       "      <td>4</td>\n",
       "    </tr>\n",
       "    <tr>\n",
       "      <th>4</th>\n",
       "      <td>2877</td>\n",
       "      <td>12</td>\n",
       "      <td>1</td>\n",
       "      <td>1</td>\n",
       "      <td>178</td>\n",
       "      <td>0</td>\n",
       "      <td>3</td>\n",
       "      <td>313</td>\n",
       "      <td>11</td>\n",
       "      <td>9</td>\n",
       "    </tr>\n",
       "  </tbody>\n",
       "</table>\n",
       "</div>"
      ],
      "text/plain": [
       "      ip  app  device  os  channel  is_attributed  day_of_week  day_of_year  \\\n",
       "0  22004   12       1  13      497              0            1          311   \n",
       "1  40024   25       1  17      259              0            1          311   \n",
       "2  35888   12       1  19      212              0            1          311   \n",
       "3  29048   13       1  13      477              0            1          311   \n",
       "4   2877   12       1   1      178              0            3          313   \n",
       "\n",
       "   month  hour  \n",
       "0     11     9  \n",
       "1     11    13  \n",
       "2     11    18  \n",
       "3     11     4  \n",
       "4     11     9  "
      ]
     },
     "execution_count": 20,
     "metadata": {},
     "output_type": "execute_result"
    }
   ],
   "source": [
    "# create the features\n",
    "train_sample = get_timefeatures(train_sample)\n",
    "\n",
    "# drop the original variable\n",
    "train_sample.drop('click_time', axis = 1, inplace = True)\n",
    "train_sample.head()"
   ]
  },
  {
   "cell_type": "code",
   "execution_count": 21,
   "metadata": {},
   "outputs": [
    {
     "data": {
      "text/plain": [
       "ip               uint16\n",
       "app              uint16\n",
       "device           uint16\n",
       "os               uint16\n",
       "channel          uint16\n",
       "is_attributed     uint8\n",
       "day_of_week       int64\n",
       "day_of_year       int64\n",
       "month             int64\n",
       "hour              int64\n",
       "dtype: object"
      ]
     },
     "execution_count": 21,
     "metadata": {},
     "output_type": "execute_result"
    }
   ],
   "source": [
    "train_sample.dtypes"
   ]
  },
  {
   "cell_type": "markdown",
   "metadata": {},
   "source": [
    "The new variables created are in int types and for less memory we will convert them to lower dtype."
   ]
  },
  {
   "cell_type": "code",
   "execution_count": 22,
   "metadata": {},
   "outputs": [],
   "source": [
    "int_vars = ['day_of_week','day_of_year','month','hour']\n",
    "train_sample[int_vars] = train_sample[int_vars].astype('uint16')"
   ]
  },
  {
   "cell_type": "code",
   "execution_count": 23,
   "metadata": {},
   "outputs": [
    {
     "data": {
      "text/plain": [
       "ip               uint16\n",
       "app              uint16\n",
       "device           uint16\n",
       "os               uint16\n",
       "channel          uint16\n",
       "is_attributed     uint8\n",
       "day_of_week      uint16\n",
       "day_of_year      uint16\n",
       "month            uint16\n",
       "hour             uint16\n",
       "dtype: object"
      ]
     },
     "execution_count": 23,
     "metadata": {},
     "output_type": "execute_result"
    }
   ],
   "source": [
    "train_sample.dtypes"
   ]
  },
  {
   "cell_type": "markdown",
   "metadata": {},
   "source": [
    "### IP Grouping Based Features\n",
    "Let's now create some important features by grouping IP addresses with features such as os, channel, hour, day etc. Also, count of each IP address will also be a feature.\n",
    "\n",
    "Note that though we are deriving new features by grouping IP addresses, using IP adress itself as a features is not a good idea. This is because (in the test data) if a new IP address is seen, the model will see a new 'category' and will not be able to make predictions (IP is a categorical variable, it has just been encoded with numbers)."
   ]
  },
  {
   "cell_type": "code",
   "execution_count": 24,
   "metadata": {},
   "outputs": [
    {
     "data": {
      "text/html": [
       "<div>\n",
       "<style scoped>\n",
       "    .dataframe tbody tr th:only-of-type {\n",
       "        vertical-align: middle;\n",
       "    }\n",
       "\n",
       "    .dataframe tbody tr th {\n",
       "        vertical-align: top;\n",
       "    }\n",
       "\n",
       "    .dataframe thead th {\n",
       "        text-align: right;\n",
       "    }\n",
       "</style>\n",
       "<table border=\"1\" class=\"dataframe\">\n",
       "  <thead>\n",
       "    <tr style=\"text-align: right;\">\n",
       "      <th></th>\n",
       "      <th>ip</th>\n",
       "      <th>ip_count</th>\n",
       "    </tr>\n",
       "  </thead>\n",
       "  <tbody>\n",
       "    <tr>\n",
       "      <th>0</th>\n",
       "      <td>8</td>\n",
       "      <td>1</td>\n",
       "    </tr>\n",
       "    <tr>\n",
       "      <th>1</th>\n",
       "      <td>9</td>\n",
       "      <td>1</td>\n",
       "    </tr>\n",
       "    <tr>\n",
       "      <th>2</th>\n",
       "      <td>10</td>\n",
       "      <td>3</td>\n",
       "    </tr>\n",
       "    <tr>\n",
       "      <th>3</th>\n",
       "      <td>14</td>\n",
       "      <td>1</td>\n",
       "    </tr>\n",
       "    <tr>\n",
       "      <th>4</th>\n",
       "      <td>16</td>\n",
       "      <td>6</td>\n",
       "    </tr>\n",
       "  </tbody>\n",
       "</table>\n",
       "</div>"
      ],
      "text/plain": [
       "   ip  ip_count\n",
       "0   8         1\n",
       "1   9         1\n",
       "2  10         3\n",
       "3  14         1\n",
       "4  16         6"
      ]
     },
     "execution_count": 24,
     "metadata": {},
     "output_type": "execute_result"
    }
   ],
   "source": [
    "# number of clicks by count of IP address\n",
    "# note that we are explicitly asking pandas to re-encode the aggregated features \n",
    "# as 'int16' to save memory\n",
    "ip_count = train_sample.groupby('ip').size().reset_index(name = 'ip_count').astype('int16')\n",
    "ip_count.head()"
   ]
  },
  {
   "cell_type": "markdown",
   "metadata": {},
   "source": [
    "We can now merge this dataframe with the original training df. Similarly, we can create combinations of various features such as ip_day_hour (count of ip-day-hour combinations), ip_hour_channel, ip_hour_app, etc."
   ]
  },
  {
   "cell_type": "code",
   "execution_count": 25,
   "metadata": {},
   "outputs": [],
   "source": [
    "# creates groupings of IP addresses with other features and appends the new features to the df\n",
    "def grouped_features(df):\n",
    "    # ip_count\n",
    "    ip_count = df.groupby('ip').size().reset_index(name='ip_count').astype('uint16')\n",
    "    ip_day_hour = df.groupby(['ip', 'day_of_week', 'hour']).size().reset_index(name='ip_day_hour').astype('uint16')\n",
    "    ip_hour_channel = df[['ip', 'hour', 'channel']].groupby(['ip', 'hour', 'channel']).size().reset_index(name='ip_hour_channel').astype('uint16')\n",
    "    ip_hour_os = df.groupby(['ip', 'hour', 'os']).channel.count().reset_index(name='ip_hour_os').astype('uint16')\n",
    "    ip_hour_app = df.groupby(['ip', 'hour', 'app']).channel.count().reset_index(name='ip_hour_app').astype('uint16')\n",
    "    ip_hour_device = df.groupby(['ip', 'hour', 'device']).channel.count().reset_index(name='ip_hour_device').astype('uint16')\n",
    "    \n",
    "    # merge the new aggregated features with the df\n",
    "    df = pd.merge(df, ip_count, on='ip', how='left')\n",
    "    del ip_count\n",
    "    df = pd.merge(df, ip_day_hour, on=['ip', 'day_of_week', 'hour'], how='left')\n",
    "    del ip_day_hour\n",
    "    df = pd.merge(df, ip_hour_channel, on=['ip', 'hour', 'channel'], how='left')\n",
    "    del ip_hour_channel\n",
    "    df = pd.merge(df, ip_hour_os, on=['ip', 'hour', 'os'], how='left')\n",
    "    del ip_hour_os\n",
    "    df = pd.merge(df, ip_hour_app, on=['ip', 'hour', 'app'], how='left')\n",
    "    del ip_hour_app\n",
    "    df = pd.merge(df, ip_hour_device, on=['ip', 'hour', 'device'], how='left')\n",
    "    del ip_hour_device\n",
    "    \n",
    "    return df"
   ]
  },
  {
   "cell_type": "code",
   "execution_count": 26,
   "metadata": {},
   "outputs": [
    {
     "data": {
      "text/html": [
       "<div>\n",
       "<style scoped>\n",
       "    .dataframe tbody tr th:only-of-type {\n",
       "        vertical-align: middle;\n",
       "    }\n",
       "\n",
       "    .dataframe tbody tr th {\n",
       "        vertical-align: top;\n",
       "    }\n",
       "\n",
       "    .dataframe thead th {\n",
       "        text-align: right;\n",
       "    }\n",
       "</style>\n",
       "<table border=\"1\" class=\"dataframe\">\n",
       "  <thead>\n",
       "    <tr style=\"text-align: right;\">\n",
       "      <th></th>\n",
       "      <th>ip</th>\n",
       "      <th>app</th>\n",
       "      <th>device</th>\n",
       "      <th>os</th>\n",
       "      <th>channel</th>\n",
       "      <th>is_attributed</th>\n",
       "      <th>day_of_week</th>\n",
       "      <th>day_of_year</th>\n",
       "      <th>month</th>\n",
       "      <th>hour</th>\n",
       "      <th>ip_count</th>\n",
       "      <th>ip_day_hour</th>\n",
       "      <th>ip_hour_channel</th>\n",
       "      <th>ip_hour_os</th>\n",
       "      <th>ip_hour_app</th>\n",
       "      <th>ip_hour_device</th>\n",
       "    </tr>\n",
       "  </thead>\n",
       "  <tbody>\n",
       "    <tr>\n",
       "      <th>0</th>\n",
       "      <td>22004</td>\n",
       "      <td>12</td>\n",
       "      <td>1</td>\n",
       "      <td>13</td>\n",
       "      <td>497</td>\n",
       "      <td>0</td>\n",
       "      <td>1</td>\n",
       "      <td>311</td>\n",
       "      <td>11</td>\n",
       "      <td>9</td>\n",
       "      <td>8</td>\n",
       "      <td>1</td>\n",
       "      <td>1</td>\n",
       "      <td>1</td>\n",
       "      <td>1</td>\n",
       "      <td>1</td>\n",
       "    </tr>\n",
       "    <tr>\n",
       "      <th>1</th>\n",
       "      <td>40024</td>\n",
       "      <td>25</td>\n",
       "      <td>1</td>\n",
       "      <td>17</td>\n",
       "      <td>259</td>\n",
       "      <td>0</td>\n",
       "      <td>1</td>\n",
       "      <td>311</td>\n",
       "      <td>11</td>\n",
       "      <td>13</td>\n",
       "      <td>149</td>\n",
       "      <td>4</td>\n",
       "      <td>1</td>\n",
       "      <td>1</td>\n",
       "      <td>1</td>\n",
       "      <td>8</td>\n",
       "    </tr>\n",
       "    <tr>\n",
       "      <th>2</th>\n",
       "      <td>35888</td>\n",
       "      <td>12</td>\n",
       "      <td>1</td>\n",
       "      <td>19</td>\n",
       "      <td>212</td>\n",
       "      <td>0</td>\n",
       "      <td>1</td>\n",
       "      <td>311</td>\n",
       "      <td>11</td>\n",
       "      <td>18</td>\n",
       "      <td>2</td>\n",
       "      <td>1</td>\n",
       "      <td>1</td>\n",
       "      <td>1</td>\n",
       "      <td>1</td>\n",
       "      <td>1</td>\n",
       "    </tr>\n",
       "    <tr>\n",
       "      <th>3</th>\n",
       "      <td>29048</td>\n",
       "      <td>13</td>\n",
       "      <td>1</td>\n",
       "      <td>13</td>\n",
       "      <td>477</td>\n",
       "      <td>0</td>\n",
       "      <td>1</td>\n",
       "      <td>311</td>\n",
       "      <td>11</td>\n",
       "      <td>4</td>\n",
       "      <td>3</td>\n",
       "      <td>1</td>\n",
       "      <td>1</td>\n",
       "      <td>1</td>\n",
       "      <td>1</td>\n",
       "      <td>1</td>\n",
       "    </tr>\n",
       "    <tr>\n",
       "      <th>4</th>\n",
       "      <td>2877</td>\n",
       "      <td>12</td>\n",
       "      <td>1</td>\n",
       "      <td>1</td>\n",
       "      <td>178</td>\n",
       "      <td>0</td>\n",
       "      <td>3</td>\n",
       "      <td>313</td>\n",
       "      <td>11</td>\n",
       "      <td>9</td>\n",
       "      <td>4</td>\n",
       "      <td>1</td>\n",
       "      <td>1</td>\n",
       "      <td>1</td>\n",
       "      <td>1</td>\n",
       "      <td>1</td>\n",
       "    </tr>\n",
       "  </tbody>\n",
       "</table>\n",
       "</div>"
      ],
      "text/plain": [
       "      ip  app  device  os  channel  is_attributed  day_of_week  day_of_year  \\\n",
       "0  22004   12       1  13      497              0            1          311   \n",
       "1  40024   25       1  17      259              0            1          311   \n",
       "2  35888   12       1  19      212              0            1          311   \n",
       "3  29048   13       1  13      477              0            1          311   \n",
       "4   2877   12       1   1      178              0            3          313   \n",
       "\n",
       "   month  hour  ip_count  ip_day_hour  ip_hour_channel  ip_hour_os  \\\n",
       "0     11     9         8            1                1           1   \n",
       "1     11    13       149            4                1           1   \n",
       "2     11    18         2            1                1           1   \n",
       "3     11     4         3            1                1           1   \n",
       "4     11     9         4            1                1           1   \n",
       "\n",
       "   ip_hour_app  ip_hour_device  \n",
       "0            1               1  \n",
       "1            1               8  \n",
       "2            1               1  \n",
       "3            1               1  \n",
       "4            1               1  "
      ]
     },
     "execution_count": 26,
     "metadata": {},
     "output_type": "execute_result"
    }
   ],
   "source": [
    "# create the new features\n",
    "train_sample = grouped_features(train_sample)\n",
    "train_sample.head()"
   ]
  },
  {
   "cell_type": "code",
   "execution_count": 27,
   "metadata": {},
   "outputs": [
    {
     "data": {
      "text/plain": [
       "2070"
      ]
     },
     "execution_count": 27,
     "metadata": {},
     "output_type": "execute_result"
    }
   ],
   "source": [
    "# garbage collect (unused) object\n",
    "gc.collect()"
   ]
  },
  {
   "cell_type": "markdown",
   "metadata": {},
   "source": [
    "### Modeling\n",
    "\n",
    "Let's now build models to predict the variable is_attributed (downloaded). We'll try the several variants of boosting (adaboost, gradient boosting and XGBoost), tune the hyperparameters in each model and choose the one which gives the best performance."
   ]
  },
  {
   "cell_type": "code",
   "execution_count": 28,
   "metadata": {},
   "outputs": [
    {
     "name": "stdout",
     "output_type": "stream",
     "text": [
      "(80000, 15)\n",
      "(80000, 1)\n",
      "(20000, 15)\n",
      "(20000, 1)\n"
     ]
    }
   ],
   "source": [
    "# training and test splits\n",
    "\n",
    "# separate predictors and target\n",
    "X = train_sample.drop('is_attributed', axis = 1)\n",
    "y = train_sample[['is_attributed']]\n",
    "\n",
    "X_train, X_test, y_train, y_test = train_test_split(X, y, test_size = 0.20, random_state = 101)\n",
    "print(X_train.shape)\n",
    "print(y_train.shape)\n",
    "print(X_test.shape)\n",
    "print(y_test.shape)"
   ]
  },
  {
   "cell_type": "code",
   "execution_count": 29,
   "metadata": {},
   "outputs": [
    {
     "name": "stdout",
     "output_type": "stream",
     "text": [
      "is_attributed    0.002275\n",
      "dtype: float64\n",
      "is_attributed    0.00225\n",
      "dtype: float64\n"
     ]
    }
   ],
   "source": [
    "# check the average download rates in train and test data, should be comparable\n",
    "print(y_train.mean())\n",
    "print(y_test.mean())"
   ]
  },
  {
   "cell_type": "markdown",
   "metadata": {},
   "source": [
    "### AdaBoost"
   ]
  },
  {
   "cell_type": "code",
   "execution_count": 30,
   "metadata": {},
   "outputs": [],
   "source": [
    "# adaboost classifier with max 600 decision trees of depth=2\n",
    "# learning_rate/shrinkage=1.5\n",
    "\n",
    "# base estimator\n",
    "tree = DecisionTreeClassifier(max_depth=2)\n",
    "\n",
    "# adaboost with tree estimator\n",
    "adaboost_model_1 = AdaBoostClassifier(base_estimator=tree,\n",
    "                                      n_estimators = 600,\n",
    "                                      learning_rate = 1.5,\n",
    "                                      algorithm = \"SAMME\")"
   ]
  },
  {
   "cell_type": "code",
   "execution_count": 31,
   "metadata": {},
   "outputs": [
    {
     "data": {
      "text/plain": [
       "AdaBoostClassifier(algorithm='SAMME',\n",
       "          base_estimator=DecisionTreeClassifier(class_weight=None, criterion='gini', max_depth=2,\n",
       "            max_features=None, max_leaf_nodes=None,\n",
       "            min_impurity_decrease=0.0, min_impurity_split=None,\n",
       "            min_samples_leaf=1, min_samples_split=2,\n",
       "            min_weight_fraction_leaf=0.0, presort=False, random_state=None,\n",
       "            splitter='best'),\n",
       "          learning_rate=1.5, n_estimators=600, random_state=None)"
      ]
     },
     "execution_count": 31,
     "metadata": {},
     "output_type": "execute_result"
    }
   ],
   "source": [
    "# fit the model\n",
    "adaboost_model_1.fit(X_train, y_train)"
   ]
  },
  {
   "cell_type": "code",
   "execution_count": 32,
   "metadata": {},
   "outputs": [
    {
     "data": {
      "text/plain": [
       "array([[0.5259697 , 0.4740303 ],\n",
       "       [0.52720083, 0.47279917],\n",
       "       [0.533081  , 0.466919  ],\n",
       "       [0.52194781, 0.47805219],\n",
       "       [0.51032691, 0.48967309],\n",
       "       [0.52721323, 0.47278677],\n",
       "       [0.5183883 , 0.4816117 ],\n",
       "       [0.52170927, 0.47829073],\n",
       "       [0.52412251, 0.47587749],\n",
       "       [0.51552875, 0.48447125]])"
      ]
     },
     "execution_count": 32,
     "metadata": {},
     "output_type": "execute_result"
    }
   ],
   "source": [
    "# predictions in test data\n",
    "pred_test = adaboost_model_1.predict_proba(X_test)\n",
    "pred_test[:10]"
   ]
  },
  {
   "cell_type": "code",
   "execution_count": 33,
   "metadata": {},
   "outputs": [
    {
     "data": {
      "text/plain": [
       "0.928385534118433"
      ]
     },
     "execution_count": 33,
     "metadata": {},
     "output_type": "execute_result"
    }
   ],
   "source": [
    "# auc score\n",
    "metrics.roc_auc_score(y_test,pred_test[:,1])"
   ]
  },
  {
   "cell_type": "markdown",
   "metadata": {},
   "source": [
    "#### AdaBoost Hyperparameter Tuning"
   ]
  },
  {
   "cell_type": "code",
   "execution_count": 34,
   "metadata": {},
   "outputs": [],
   "source": [
    "# tune the max depth of the base estimatore(tree) and the n_estimators(number of trees)\n",
    "param_grid = {'base_estimator__max_depth':[2,5],\n",
    "             'n_estimators':[200,400,600]}"
   ]
  },
  {
   "cell_type": "code",
   "execution_count": 35,
   "metadata": {},
   "outputs": [],
   "source": [
    "# base estimator\n",
    "tree = DecisionTreeClassifier()\n",
    "\n",
    "# adaboost\n",
    "ABC = AdaBoostClassifier(base_estimator=tree, \n",
    "                        learning_rate = 0.6,\n",
    "                        algorithm = 'SAMME')\n",
    "\n",
    "# perform grid search\n",
    "grid_search_ABC = GridSearchCV(estimator=ABC, \n",
    "                               cv=3,\n",
    "                               param_grid=param_grid,\n",
    "                               scoring='roc_auc',\n",
    "                               return_train_score = True, \n",
    "                               verbose = 1,\n",
    "                               n_jobs = -1)"
   ]
  },
  {
   "cell_type": "code",
   "execution_count": 36,
   "metadata": {},
   "outputs": [
    {
     "name": "stdout",
     "output_type": "stream",
     "text": [
      "Fitting 3 folds for each of 6 candidates, totalling 18 fits\n"
     ]
    },
    {
     "name": "stderr",
     "output_type": "stream",
     "text": [
      "[Parallel(n_jobs=-1)]: Using backend LokyBackend with 4 concurrent workers.\n",
      "[Parallel(n_jobs=-1)]: Done  18 out of  18 | elapsed:  4.3min finished\n"
     ]
    },
    {
     "data": {
      "text/plain": [
       "GridSearchCV(cv=3, error_score='raise-deprecating',\n",
       "       estimator=AdaBoostClassifier(algorithm='SAMME',\n",
       "          base_estimator=DecisionTreeClassifier(class_weight=None, criterion='gini', max_depth=None,\n",
       "            max_features=None, max_leaf_nodes=None,\n",
       "            min_impurity_decrease=0.0, min_impurity_split=None,\n",
       "            min_samples_leaf=1, min_samples_split=2,\n",
       "            min_weight_fraction_leaf=0.0, presort=False, random_state=None,\n",
       "            splitter='best'),\n",
       "          learning_rate=0.6, n_estimators=50, random_state=None),\n",
       "       fit_params=None, iid='warn', n_jobs=-1,\n",
       "       param_grid={'base_estimator__max_depth': [2, 5], 'n_estimators': [200, 400, 600]},\n",
       "       pre_dispatch='2*n_jobs', refit=True, return_train_score=True,\n",
       "       scoring='roc_auc', verbose=1)"
      ]
     },
     "execution_count": 36,
     "metadata": {},
     "output_type": "execute_result"
    }
   ],
   "source": [
    "# fit the grid search\n",
    "grid_search_ABC.fit(X_train, y_train)"
   ]
  },
  {
   "cell_type": "code",
   "execution_count": 37,
   "metadata": {},
   "outputs": [
    {
     "data": {
      "text/html": [
       "<div>\n",
       "<style scoped>\n",
       "    .dataframe tbody tr th:only-of-type {\n",
       "        vertical-align: middle;\n",
       "    }\n",
       "\n",
       "    .dataframe tbody tr th {\n",
       "        vertical-align: top;\n",
       "    }\n",
       "\n",
       "    .dataframe thead th {\n",
       "        text-align: right;\n",
       "    }\n",
       "</style>\n",
       "<table border=\"1\" class=\"dataframe\">\n",
       "  <thead>\n",
       "    <tr style=\"text-align: right;\">\n",
       "      <th></th>\n",
       "      <th>mean_fit_time</th>\n",
       "      <th>std_fit_time</th>\n",
       "      <th>mean_score_time</th>\n",
       "      <th>std_score_time</th>\n",
       "      <th>param_base_estimator__max_depth</th>\n",
       "      <th>param_n_estimators</th>\n",
       "      <th>params</th>\n",
       "      <th>split0_test_score</th>\n",
       "      <th>split1_test_score</th>\n",
       "      <th>split2_test_score</th>\n",
       "      <th>mean_test_score</th>\n",
       "      <th>std_test_score</th>\n",
       "      <th>rank_test_score</th>\n",
       "      <th>split0_train_score</th>\n",
       "      <th>split1_train_score</th>\n",
       "      <th>split2_train_score</th>\n",
       "      <th>mean_train_score</th>\n",
       "      <th>std_train_score</th>\n",
       "    </tr>\n",
       "  </thead>\n",
       "  <tbody>\n",
       "    <tr>\n",
       "      <th>0</th>\n",
       "      <td>15.580008</td>\n",
       "      <td>0.290096</td>\n",
       "      <td>0.439490</td>\n",
       "      <td>0.013874</td>\n",
       "      <td>2</td>\n",
       "      <td>200</td>\n",
       "      <td>{'base_estimator__max_depth': 2, 'n_estimators...</td>\n",
       "      <td>0.926966</td>\n",
       "      <td>0.975725</td>\n",
       "      <td>0.955801</td>\n",
       "      <td>0.952831</td>\n",
       "      <td>0.020017</td>\n",
       "      <td>1</td>\n",
       "      <td>0.996306</td>\n",
       "      <td>0.995094</td>\n",
       "      <td>0.996461</td>\n",
       "      <td>0.995954</td>\n",
       "      <td>6.111043e-04</td>\n",
       "    </tr>\n",
       "    <tr>\n",
       "      <th>1</th>\n",
       "      <td>31.094520</td>\n",
       "      <td>0.198232</td>\n",
       "      <td>0.852057</td>\n",
       "      <td>0.022370</td>\n",
       "      <td>2</td>\n",
       "      <td>400</td>\n",
       "      <td>{'base_estimator__max_depth': 2, 'n_estimators...</td>\n",
       "      <td>0.920643</td>\n",
       "      <td>0.974585</td>\n",
       "      <td>0.956496</td>\n",
       "      <td>0.950575</td>\n",
       "      <td>0.022416</td>\n",
       "      <td>2</td>\n",
       "      <td>0.997991</td>\n",
       "      <td>0.996683</td>\n",
       "      <td>0.997996</td>\n",
       "      <td>0.997556</td>\n",
       "      <td>6.179779e-04</td>\n",
       "    </tr>\n",
       "    <tr>\n",
       "      <th>2</th>\n",
       "      <td>47.377646</td>\n",
       "      <td>0.559885</td>\n",
       "      <td>1.237360</td>\n",
       "      <td>0.015286</td>\n",
       "      <td>2</td>\n",
       "      <td>600</td>\n",
       "      <td>{'base_estimator__max_depth': 2, 'n_estimators...</td>\n",
       "      <td>0.921720</td>\n",
       "      <td>0.973335</td>\n",
       "      <td>0.953955</td>\n",
       "      <td>0.949670</td>\n",
       "      <td>0.021288</td>\n",
       "      <td>3</td>\n",
       "      <td>0.998494</td>\n",
       "      <td>0.997923</td>\n",
       "      <td>0.998417</td>\n",
       "      <td>0.998278</td>\n",
       "      <td>2.530744e-04</td>\n",
       "    </tr>\n",
       "    <tr>\n",
       "      <th>3</th>\n",
       "      <td>35.392361</td>\n",
       "      <td>0.594573</td>\n",
       "      <td>0.533905</td>\n",
       "      <td>0.001881</td>\n",
       "      <td>5</td>\n",
       "      <td>200</td>\n",
       "      <td>{'base_estimator__max_depth': 5, 'n_estimators...</td>\n",
       "      <td>0.902385</td>\n",
       "      <td>0.943840</td>\n",
       "      <td>0.937692</td>\n",
       "      <td>0.927972</td>\n",
       "      <td>0.018267</td>\n",
       "      <td>4</td>\n",
       "      <td>1.000000</td>\n",
       "      <td>1.000000</td>\n",
       "      <td>1.000000</td>\n",
       "      <td>1.000000</td>\n",
       "      <td>0.000000e+00</td>\n",
       "    </tr>\n",
       "    <tr>\n",
       "      <th>4</th>\n",
       "      <td>70.419366</td>\n",
       "      <td>0.671295</td>\n",
       "      <td>1.021271</td>\n",
       "      <td>0.004312</td>\n",
       "      <td>5</td>\n",
       "      <td>400</td>\n",
       "      <td>{'base_estimator__max_depth': 5, 'n_estimators...</td>\n",
       "      <td>0.892638</td>\n",
       "      <td>0.938943</td>\n",
       "      <td>0.945042</td>\n",
       "      <td>0.925541</td>\n",
       "      <td>0.023399</td>\n",
       "      <td>5</td>\n",
       "      <td>1.000000</td>\n",
       "      <td>1.000000</td>\n",
       "      <td>1.000000</td>\n",
       "      <td>1.000000</td>\n",
       "      <td>0.000000e+00</td>\n",
       "    </tr>\n",
       "    <tr>\n",
       "      <th>5</th>\n",
       "      <td>86.621374</td>\n",
       "      <td>8.392965</td>\n",
       "      <td>1.020950</td>\n",
       "      <td>0.175773</td>\n",
       "      <td>5</td>\n",
       "      <td>600</td>\n",
       "      <td>{'base_estimator__max_depth': 5, 'n_estimators...</td>\n",
       "      <td>0.882550</td>\n",
       "      <td>0.925758</td>\n",
       "      <td>0.937828</td>\n",
       "      <td>0.915378</td>\n",
       "      <td>0.023731</td>\n",
       "      <td>6</td>\n",
       "      <td>1.000000</td>\n",
       "      <td>1.000000</td>\n",
       "      <td>1.000000</td>\n",
       "      <td>1.000000</td>\n",
       "      <td>6.409876e-17</td>\n",
       "    </tr>\n",
       "  </tbody>\n",
       "</table>\n",
       "</div>"
      ],
      "text/plain": [
       "   mean_fit_time  std_fit_time  mean_score_time  std_score_time  \\\n",
       "0      15.580008      0.290096         0.439490        0.013874   \n",
       "1      31.094520      0.198232         0.852057        0.022370   \n",
       "2      47.377646      0.559885         1.237360        0.015286   \n",
       "3      35.392361      0.594573         0.533905        0.001881   \n",
       "4      70.419366      0.671295         1.021271        0.004312   \n",
       "5      86.621374      8.392965         1.020950        0.175773   \n",
       "\n",
       "  param_base_estimator__max_depth param_n_estimators  \\\n",
       "0                               2                200   \n",
       "1                               2                400   \n",
       "2                               2                600   \n",
       "3                               5                200   \n",
       "4                               5                400   \n",
       "5                               5                600   \n",
       "\n",
       "                                              params  split0_test_score  \\\n",
       "0  {'base_estimator__max_depth': 2, 'n_estimators...           0.926966   \n",
       "1  {'base_estimator__max_depth': 2, 'n_estimators...           0.920643   \n",
       "2  {'base_estimator__max_depth': 2, 'n_estimators...           0.921720   \n",
       "3  {'base_estimator__max_depth': 5, 'n_estimators...           0.902385   \n",
       "4  {'base_estimator__max_depth': 5, 'n_estimators...           0.892638   \n",
       "5  {'base_estimator__max_depth': 5, 'n_estimators...           0.882550   \n",
       "\n",
       "   split1_test_score  split2_test_score  mean_test_score  std_test_score  \\\n",
       "0           0.975725           0.955801         0.952831        0.020017   \n",
       "1           0.974585           0.956496         0.950575        0.022416   \n",
       "2           0.973335           0.953955         0.949670        0.021288   \n",
       "3           0.943840           0.937692         0.927972        0.018267   \n",
       "4           0.938943           0.945042         0.925541        0.023399   \n",
       "5           0.925758           0.937828         0.915378        0.023731   \n",
       "\n",
       "   rank_test_score  split0_train_score  split1_train_score  \\\n",
       "0                1            0.996306            0.995094   \n",
       "1                2            0.997991            0.996683   \n",
       "2                3            0.998494            0.997923   \n",
       "3                4            1.000000            1.000000   \n",
       "4                5            1.000000            1.000000   \n",
       "5                6            1.000000            1.000000   \n",
       "\n",
       "   split2_train_score  mean_train_score  std_train_score  \n",
       "0            0.996461          0.995954     6.111043e-04  \n",
       "1            0.997996          0.997556     6.179779e-04  \n",
       "2            0.998417          0.998278     2.530744e-04  \n",
       "3            1.000000          1.000000     0.000000e+00  \n",
       "4            1.000000          1.000000     0.000000e+00  \n",
       "5            1.000000          1.000000     6.409876e-17  "
      ]
     },
     "execution_count": 37,
     "metadata": {},
     "output_type": "execute_result"
    }
   ],
   "source": [
    "# cv results\n",
    "cv_results = pd.DataFrame(grid_search_ABC.cv_results_)\n",
    "cv_results"
   ]
  },
  {
   "cell_type": "code",
   "execution_count": 38,
   "metadata": {},
   "outputs": [
    {
     "data": {
      "image/png": "[encoded data removed]",
      "text/plain": [
       "<matplotlib.figure.Figure at 0x1d5e0992160>"
      ]
     },
     "metadata": {},
     "output_type": "display_data"
    }
   ],
   "source": [
    "# plotting AUC with hyperparameter combinations\n",
    "plt.figure(figsize = (16,6))\n",
    "for n, depth in enumerate(param_grid['base_estimator__max_depth']):\n",
    "    #subplot 1(of n)\n",
    "    plt.subplot(1,2,n+1)\n",
    "    depth_cv = cv_results[cv_results['param_base_estimator__max_depth'] == depth]\n",
    "    plt.plot(depth_cv['param_n_estimators'], depth_cv['mean_train_score'])\n",
    "    plt.plot(depth_cv['param_n_estimators'], depth_cv['mean_test_score'])\n",
    "    plt.xlabel(\"n_estimators\")\n",
    "    plt.ylabel(\"AUC\")\n",
    "    plt.title(\"max_depth = {}\".format(depth))\n",
    "    plt.ylim([0.60,1.02])\n",
    "    plt.legend(['train_score','test_score'], loc = 'lower left')"
   ]
  },
  {
   "cell_type": "markdown",
   "metadata": {},
   "source": [
    "The results above show that:\n",
    "\n",
    "- The ensemble with max_depth=5 is clearly overfitting (training auc is almost 1, while the test score is much lower)\n",
    "- At max_depth=2, the model performs slightly better (approx 95% AUC) with a higher test score\n",
    "Thus, we should go ahead with max_depth=2 and n_estimators=200."
   ]
  },
  {
   "cell_type": "code",
   "execution_count": 39,
   "metadata": {},
   "outputs": [
    {
     "data": {
      "text/plain": [
       "0.9478933155154654"
      ]
     },
     "execution_count": 39,
     "metadata": {},
     "output_type": "execute_result"
    }
   ],
   "source": [
    "#predictions\n",
    "pred_test = grid_search_ABC.predict_proba(X_test)[:,1]\n",
    "metrics.roc_auc_score(y_test,pred_test)"
   ]
  },
  {
   "cell_type": "markdown",
   "metadata": {},
   "source": [
    "We see a improvement in the auc score. The score can be further improved by tuning the learning rate."
   ]
  },
  {
   "cell_type": "markdown",
   "metadata": {},
   "source": [
    "### Gradient Boosting "
   ]
  },
  {
   "cell_type": "markdown",
   "metadata": {},
   "source": [
    "Let's now try the gradient boosting classifier. We'll experiment with two main hyperparameters now - learning_rate (shrinkage) and subsample.\n",
    "\n",
    "By adjusting the learning rate to less than 1, we can regularize the model. A model with higher learning_rate learns fast, but is prone to overfitting; one with a lower learning rate learns slowly, but avoids overfitting.\n",
    "\n",
    "Also, there's a trade-off between learning_rate and n_estimators - the higher the learning rate, the lesser trees the model needs (and thus we usually tune only one of them).\n",
    "\n",
    "Also, by subsampling (setting subsample to less than 1), we can have the individual models built on random subsamples of size subsample. That way, each tree will be trained on different subsets and reduce the model's variance.\n",
    "\n"
   ]
  },
  {
   "cell_type": "code",
   "execution_count": 40,
   "metadata": {},
   "outputs": [],
   "source": [
    "# parameter grid\n",
    "param_grid = {'learning_rate':[0.2, 0.6, 0.9],\n",
    "             \"subsample\":[0.3, 0.6, 0.9]}\n",
    "\n",
    "# base estimator\n",
    "GBC = GradientBoostingClassifier()\n"
   ]
  },
  {
   "cell_type": "code",
   "execution_count": 41,
   "metadata": {},
   "outputs": [
    {
     "name": "stdout",
     "output_type": "stream",
     "text": [
      "Fitting 3 folds for each of 9 candidates, totalling 27 fits\n"
     ]
    },
    {
     "name": "stderr",
     "output_type": "stream",
     "text": [
      "[Parallel(n_jobs=-1)]: Using backend LokyBackend with 4 concurrent workers.\n",
      "[Parallel(n_jobs=-1)]: Done  27 out of  27 | elapsed:   55.7s finished\n"
     ]
    },
    {
     "data": {
      "text/plain": [
       "GridSearchCV(cv=3, error_score='raise-deprecating',\n",
       "       estimator=GradientBoostingClassifier(criterion='friedman_mse', init=None,\n",
       "              learning_rate=0.1, loss='deviance', max_depth=3,\n",
       "              max_features=None, max_leaf_nodes=None,\n",
       "              min_impurity_decrease=0.0, min_impurity_split=None,\n",
       "              min_samples_leaf=1, min_sampl...      subsample=1.0, tol=0.0001, validation_fraction=0.1,\n",
       "              verbose=0, warm_start=False),\n",
       "       fit_params=None, iid='warn', n_jobs=-1,\n",
       "       param_grid={'learning_rate': [0.2, 0.6, 0.9], 'subsample': [0.3, 0.6, 0.9]},\n",
       "       pre_dispatch='2*n_jobs', refit=True, return_train_score=True,\n",
       "       scoring='roc_auc', verbose=1)"
      ]
     },
     "execution_count": 41,
     "metadata": {},
     "output_type": "execute_result"
    }
   ],
   "source": [
    "# grid search\n",
    "grid_search_GBC = GridSearchCV(estimator=GBC,\n",
    "                               cv=3,\n",
    "                               param_grid = param_grid,\n",
    "                               scoring = 'roc_auc',\n",
    "                               return_train_score = True,\n",
    "                               verbose = 1,\n",
    "                               n_jobs = -1)\n",
    "\n",
    "grid_search_GBC.fit(X_train, y_train)"
   ]
  },
  {
   "cell_type": "code",
   "execution_count": 42,
   "metadata": {},
   "outputs": [
    {
     "data": {
      "text/html": [
       "<div>\n",
       "<style scoped>\n",
       "    .dataframe tbody tr th:only-of-type {\n",
       "        vertical-align: middle;\n",
       "    }\n",
       "\n",
       "    .dataframe tbody tr th {\n",
       "        vertical-align: top;\n",
       "    }\n",
       "\n",
       "    .dataframe thead th {\n",
       "        text-align: right;\n",
       "    }\n",
       "</style>\n",
       "<table border=\"1\" class=\"dataframe\">\n",
       "  <thead>\n",
       "    <tr style=\"text-align: right;\">\n",
       "      <th></th>\n",
       "      <th>mean_fit_time</th>\n",
       "      <th>std_fit_time</th>\n",
       "      <th>mean_score_time</th>\n",
       "      <th>std_score_time</th>\n",
       "      <th>param_learning_rate</th>\n",
       "      <th>param_subsample</th>\n",
       "      <th>params</th>\n",
       "      <th>split0_test_score</th>\n",
       "      <th>split1_test_score</th>\n",
       "      <th>split2_test_score</th>\n",
       "      <th>mean_test_score</th>\n",
       "      <th>std_test_score</th>\n",
       "      <th>rank_test_score</th>\n",
       "      <th>split0_train_score</th>\n",
       "      <th>split1_train_score</th>\n",
       "      <th>split2_train_score</th>\n",
       "      <th>mean_train_score</th>\n",
       "      <th>std_train_score</th>\n",
       "    </tr>\n",
       "  </thead>\n",
       "  <tbody>\n",
       "    <tr>\n",
       "      <th>0</th>\n",
       "      <td>6.564777</td>\n",
       "      <td>0.081068</td>\n",
       "      <td>0.067487</td>\n",
       "      <td>0.004770</td>\n",
       "      <td>0.2</td>\n",
       "      <td>0.3</td>\n",
       "      <td>{'learning_rate': 0.2, 'subsample': 0.3}</td>\n",
       "      <td>0.837080</td>\n",
       "      <td>0.631676</td>\n",
       "      <td>0.531350</td>\n",
       "      <td>0.666704</td>\n",
       "      <td>0.127247</td>\n",
       "      <td>3</td>\n",
       "      <td>0.860104</td>\n",
       "      <td>0.722648</td>\n",
       "      <td>0.644796</td>\n",
       "      <td>0.742516</td>\n",
       "      <td>0.089014</td>\n",
       "    </tr>\n",
       "    <tr>\n",
       "      <th>1</th>\n",
       "      <td>8.685441</td>\n",
       "      <td>0.243570</td>\n",
       "      <td>0.064162</td>\n",
       "      <td>0.003291</td>\n",
       "      <td>0.2</td>\n",
       "      <td>0.6</td>\n",
       "      <td>{'learning_rate': 0.2, 'subsample': 0.6}</td>\n",
       "      <td>0.778422</td>\n",
       "      <td>0.572780</td>\n",
       "      <td>0.534780</td>\n",
       "      <td>0.628662</td>\n",
       "      <td>0.107028</td>\n",
       "      <td>4</td>\n",
       "      <td>0.795845</td>\n",
       "      <td>0.707240</td>\n",
       "      <td>0.667791</td>\n",
       "      <td>0.723626</td>\n",
       "      <td>0.053546</td>\n",
       "    </tr>\n",
       "    <tr>\n",
       "      <th>2</th>\n",
       "      <td>8.844680</td>\n",
       "      <td>0.276199</td>\n",
       "      <td>0.061171</td>\n",
       "      <td>0.001693</td>\n",
       "      <td>0.2</td>\n",
       "      <td>0.9</td>\n",
       "      <td>{'learning_rate': 0.2, 'subsample': 0.9}</td>\n",
       "      <td>0.871311</td>\n",
       "      <td>0.689015</td>\n",
       "      <td>0.643046</td>\n",
       "      <td>0.734459</td>\n",
       "      <td>0.098573</td>\n",
       "      <td>1</td>\n",
       "      <td>0.960454</td>\n",
       "      <td>0.649842</td>\n",
       "      <td>0.722555</td>\n",
       "      <td>0.777617</td>\n",
       "      <td>0.132649</td>\n",
       "    </tr>\n",
       "    <tr>\n",
       "      <th>3</th>\n",
       "      <td>6.651547</td>\n",
       "      <td>0.150202</td>\n",
       "      <td>0.061172</td>\n",
       "      <td>0.002488</td>\n",
       "      <td>0.6</td>\n",
       "      <td>0.3</td>\n",
       "      <td>{'learning_rate': 0.6, 'subsample': 0.3}</td>\n",
       "      <td>0.692653</td>\n",
       "      <td>0.533612</td>\n",
       "      <td>0.622388</td>\n",
       "      <td>0.616218</td>\n",
       "      <td>0.065075</td>\n",
       "      <td>5</td>\n",
       "      <td>0.845665</td>\n",
       "      <td>0.621279</td>\n",
       "      <td>0.689583</td>\n",
       "      <td>0.718842</td>\n",
       "      <td>0.093912</td>\n",
       "    </tr>\n",
       "    <tr>\n",
       "      <th>4</th>\n",
       "      <td>8.420816</td>\n",
       "      <td>0.116189</td>\n",
       "      <td>0.060839</td>\n",
       "      <td>0.000814</td>\n",
       "      <td>0.6</td>\n",
       "      <td>0.6</td>\n",
       "      <td>{'learning_rate': 0.6, 'subsample': 0.6}</td>\n",
       "      <td>0.643529</td>\n",
       "      <td>0.412614</td>\n",
       "      <td>0.691240</td>\n",
       "      <td>0.582460</td>\n",
       "      <td>0.121669</td>\n",
       "      <td>7</td>\n",
       "      <td>0.617593</td>\n",
       "      <td>0.346391</td>\n",
       "      <td>0.740025</td>\n",
       "      <td>0.568003</td>\n",
       "      <td>0.164482</td>\n",
       "    </tr>\n",
       "    <tr>\n",
       "      <th>5</th>\n",
       "      <td>8.897874</td>\n",
       "      <td>0.353645</td>\n",
       "      <td>0.061171</td>\n",
       "      <td>0.001246</td>\n",
       "      <td>0.6</td>\n",
       "      <td>0.9</td>\n",
       "      <td>{'learning_rate': 0.6, 'subsample': 0.9}</td>\n",
       "      <td>0.758840</td>\n",
       "      <td>0.271098</td>\n",
       "      <td>0.610542</td>\n",
       "      <td>0.546826</td>\n",
       "      <td>0.204154</td>\n",
       "      <td>8</td>\n",
       "      <td>0.740584</td>\n",
       "      <td>0.285591</td>\n",
       "      <td>0.637502</td>\n",
       "      <td>0.554559</td>\n",
       "      <td>0.194789</td>\n",
       "    </tr>\n",
       "    <tr>\n",
       "      <th>6</th>\n",
       "      <td>6.774549</td>\n",
       "      <td>0.132210</td>\n",
       "      <td>0.060505</td>\n",
       "      <td>0.003083</td>\n",
       "      <td>0.9</td>\n",
       "      <td>0.3</td>\n",
       "      <td>{'learning_rate': 0.9, 'subsample': 0.3}</td>\n",
       "      <td>0.438364</td>\n",
       "      <td>0.369174</td>\n",
       "      <td>0.633127</td>\n",
       "      <td>0.480220</td>\n",
       "      <td>0.111748</td>\n",
       "      <td>9</td>\n",
       "      <td>0.485707</td>\n",
       "      <td>0.384268</td>\n",
       "      <td>0.553399</td>\n",
       "      <td>0.474458</td>\n",
       "      <td>0.069504</td>\n",
       "    </tr>\n",
       "    <tr>\n",
       "      <th>7</th>\n",
       "      <td>8.349010</td>\n",
       "      <td>0.101941</td>\n",
       "      <td>0.062168</td>\n",
       "      <td>0.000469</td>\n",
       "      <td>0.9</td>\n",
       "      <td>0.6</td>\n",
       "      <td>{'learning_rate': 0.9, 'subsample': 0.6}</td>\n",
       "      <td>0.609151</td>\n",
       "      <td>0.568634</td>\n",
       "      <td>0.602827</td>\n",
       "      <td>0.593537</td>\n",
       "      <td>0.017798</td>\n",
       "      <td>6</td>\n",
       "      <td>0.678241</td>\n",
       "      <td>0.666673</td>\n",
       "      <td>0.617576</td>\n",
       "      <td>0.654163</td>\n",
       "      <td>0.026299</td>\n",
       "    </tr>\n",
       "    <tr>\n",
       "      <th>8</th>\n",
       "      <td>6.883590</td>\n",
       "      <td>0.604844</td>\n",
       "      <td>0.035241</td>\n",
       "      <td>0.007116</td>\n",
       "      <td>0.9</td>\n",
       "      <td>0.9</td>\n",
       "      <td>{'learning_rate': 0.9, 'subsample': 0.9}</td>\n",
       "      <td>0.817049</td>\n",
       "      <td>0.558564</td>\n",
       "      <td>0.718262</td>\n",
       "      <td>0.697958</td>\n",
       "      <td>0.106499</td>\n",
       "      <td>2</td>\n",
       "      <td>0.814931</td>\n",
       "      <td>0.639228</td>\n",
       "      <td>0.658069</td>\n",
       "      <td>0.704076</td>\n",
       "      <td>0.078763</td>\n",
       "    </tr>\n",
       "  </tbody>\n",
       "</table>\n",
       "</div>"
      ],
      "text/plain": [
       "   mean_fit_time  std_fit_time  mean_score_time  std_score_time  \\\n",
       "0       6.564777      0.081068         0.067487        0.004770   \n",
       "1       8.685441      0.243570         0.064162        0.003291   \n",
       "2       8.844680      0.276199         0.061171        0.001693   \n",
       "3       6.651547      0.150202         0.061172        0.002488   \n",
       "4       8.420816      0.116189         0.060839        0.000814   \n",
       "5       8.897874      0.353645         0.061171        0.001246   \n",
       "6       6.774549      0.132210         0.060505        0.003083   \n",
       "7       8.349010      0.101941         0.062168        0.000469   \n",
       "8       6.883590      0.604844         0.035241        0.007116   \n",
       "\n",
       "  param_learning_rate param_subsample  \\\n",
       "0                 0.2             0.3   \n",
       "1                 0.2             0.6   \n",
       "2                 0.2             0.9   \n",
       "3                 0.6             0.3   \n",
       "4                 0.6             0.6   \n",
       "5                 0.6             0.9   \n",
       "6                 0.9             0.3   \n",
       "7                 0.9             0.6   \n",
       "8                 0.9             0.9   \n",
       "\n",
       "                                     params  split0_test_score  \\\n",
       "0  {'learning_rate': 0.2, 'subsample': 0.3}           0.837080   \n",
       "1  {'learning_rate': 0.2, 'subsample': 0.6}           0.778422   \n",
       "2  {'learning_rate': 0.2, 'subsample': 0.9}           0.871311   \n",
       "3  {'learning_rate': 0.6, 'subsample': 0.3}           0.692653   \n",
       "4  {'learning_rate': 0.6, 'subsample': 0.6}           0.643529   \n",
       "5  {'learning_rate': 0.6, 'subsample': 0.9}           0.758840   \n",
       "6  {'learning_rate': 0.9, 'subsample': 0.3}           0.438364   \n",
       "7  {'learning_rate': 0.9, 'subsample': 0.6}           0.609151   \n",
       "8  {'learning_rate': 0.9, 'subsample': 0.9}           0.817049   \n",
       "\n",
       "   split1_test_score  split2_test_score  mean_test_score  std_test_score  \\\n",
       "0           0.631676           0.531350         0.666704        0.127247   \n",
       "1           0.572780           0.534780         0.628662        0.107028   \n",
       "2           0.689015           0.643046         0.734459        0.098573   \n",
       "3           0.533612           0.622388         0.616218        0.065075   \n",
       "4           0.412614           0.691240         0.582460        0.121669   \n",
       "5           0.271098           0.610542         0.546826        0.204154   \n",
       "6           0.369174           0.633127         0.480220        0.111748   \n",
       "7           0.568634           0.602827         0.593537        0.017798   \n",
       "8           0.558564           0.718262         0.697958        0.106499   \n",
       "\n",
       "   rank_test_score  split0_train_score  split1_train_score  \\\n",
       "0                3            0.860104            0.722648   \n",
       "1                4            0.795845            0.707240   \n",
       "2                1            0.960454            0.649842   \n",
       "3                5            0.845665            0.621279   \n",
       "4                7            0.617593            0.346391   \n",
       "5                8            0.740584            0.285591   \n",
       "6                9            0.485707            0.384268   \n",
       "7                6            0.678241            0.666673   \n",
       "8                2            0.814931            0.639228   \n",
       "\n",
       "   split2_train_score  mean_train_score  std_train_score  \n",
       "0            0.644796          0.742516         0.089014  \n",
       "1            0.667791          0.723626         0.053546  \n",
       "2            0.722555          0.777617         0.132649  \n",
       "3            0.689583          0.718842         0.093912  \n",
       "4            0.740025          0.568003         0.164482  \n",
       "5            0.637502          0.554559         0.194789  \n",
       "6            0.553399          0.474458         0.069504  \n",
       "7            0.617576          0.654163         0.026299  \n",
       "8            0.658069          0.704076         0.078763  "
      ]
     },
     "execution_count": 42,
     "metadata": {},
     "output_type": "execute_result"
    }
   ],
   "source": [
    "cv_results = pd.DataFrame(grid_search_GBC.cv_results_)\n",
    "cv_results"
   ]
  },
  {
   "cell_type": "code",
   "execution_count": 43,
   "metadata": {},
   "outputs": [
    {
     "data": {
      "image/png": "[encoded data removed]",
      "text/plain": [
       "<matplotlib.figure.Figure at 0x1d5dc21d390>"
      ]
     },
     "metadata": {},
     "output_type": "display_data"
    }
   ],
   "source": [
    "# plotting AUC with hyperparameter combinations\n",
    "plt.figure(figsize = (16,6))\n",
    "for n, subsample in enumerate(param_grid['subsample']):\n",
    "    #subplot 1(of n)\n",
    "    plt.subplot(1,3,n+1)\n",
    "    depth_cv = cv_results[cv_results['param_subsample'] == subsample]\n",
    "    plt.plot(depth_cv['param_learning_rate'], depth_cv['mean_train_score'])\n",
    "    plt.plot(depth_cv['param_learning_rate'], depth_cv['mean_test_score'])\n",
    "    plt.xlabel(\"learning_rate\")\n",
    "    plt.ylabel(\"AUC\")\n",
    "    plt.title(\"subsample = {}\".format(subsample))\n",
    "    plt.ylim([0.50,1.02])\n",
    "    plt.legend(['train_score','test_score'], loc = 'upper left')"
   ]
  },
  {
   "cell_type": "code",
   "execution_count": 44,
   "metadata": {},
   "outputs": [
    {
     "data": {
      "text/plain": [
       "0.6156702580806813"
      ]
     },
     "execution_count": 44,
     "metadata": {},
     "output_type": "execute_result"
    }
   ],
   "source": [
    "# predictions\n",
    "pred_test = grid_search_GBC.predict_proba(X_test)[:,1]\n",
    "metrics.roc_auc_score(y_test,pred_test)"
   ]
  },
  {
   "cell_type": "markdown",
   "metadata": {},
   "source": [
    "### XGBoost"
   ]
  },
  {
   "cell_type": "code",
   "execution_count": 45,
   "metadata": {},
   "outputs": [
    {
     "data": {
      "text/plain": [
       "XGBClassifier(base_score=0.5, booster='gbtree', colsample_bylevel=1,\n",
       "       colsample_bytree=1, gamma=0, learning_rate=0.1, max_delta_step=0,\n",
       "       max_depth=3, min_child_weight=1, missing=None, n_estimators=100,\n",
       "       n_jobs=1, nthread=None, objective='binary:logistic', random_state=0,\n",
       "       reg_alpha=0, reg_lambda=1, scale_pos_weight=1, seed=None,\n",
       "       silent=True, subsample=1)"
      ]
     },
     "execution_count": 45,
     "metadata": {},
     "output_type": "execute_result"
    }
   ],
   "source": [
    "# XGboost with default parameters\n",
    "xgb = XGBClassifier()\n",
    "xgb.fit(X_train, y_train)"
   ]
  },
  {
   "cell_type": "code",
   "execution_count": 46,
   "metadata": {},
   "outputs": [
    {
     "data": {
      "text/plain": [
       "0.9484868732425735"
      ]
     },
     "execution_count": 46,
     "metadata": {},
     "output_type": "execute_result"
    }
   ],
   "source": [
    "# predictions on test data\n",
    "pred_test = xgb.predict_proba(X_test)[:,1]\n",
    "metrics.roc_auc_score(y_test,pred_test)"
   ]
  },
  {
   "cell_type": "code",
   "execution_count": 47,
   "metadata": {},
   "outputs": [
    {
     "name": "stdout",
     "output_type": "stream",
     "text": [
      "Fitting 3 folds for each of 9 candidates, totalling 27 fits\n"
     ]
    },
    {
     "name": "stderr",
     "output_type": "stream",
     "text": [
      "[Parallel(n_jobs=-1)]: Using backend LokyBackend with 4 concurrent workers.\n",
      "[Parallel(n_jobs=-1)]: Done  27 out of  27 | elapsed:   59.7s finished\n"
     ]
    },
    {
     "data": {
      "text/plain": [
       "GridSearchCV(cv=3, error_score='raise-deprecating',\n",
       "       estimator=XGBClassifier(base_score=0.5, booster='gbtree', colsample_bylevel=1,\n",
       "       colsample_bytree=1, gamma=0, learning_rate=0.1, max_delta_step=0,\n",
       "       max_depth=3, min_child_weight=1, missing=None, n_estimators=100,\n",
       "       n_jobs=1, nthread=None, objective='binary:logistic', random_state=0,\n",
       "       reg_alpha=0, reg_lambda=1, scale_pos_weight=1, seed=None,\n",
       "       silent=True, subsample=1),\n",
       "       fit_params=None, iid='warn', n_jobs=-1,\n",
       "       param_grid={'learning_rate': [0.01, 0.1, 0.3], 'subsample': [0.5, 0.6, 0.8]},\n",
       "       pre_dispatch='2*n_jobs', refit=True, return_train_score=True,\n",
       "       scoring='roc_auc', verbose=1)"
      ]
     },
     "execution_count": 47,
     "metadata": {},
     "output_type": "execute_result"
    }
   ],
   "source": [
    "# hper parameter tuning\n",
    "param_grid = {'learning_rate': [0.01, 0.1, 0.3], \n",
    "             'subsample': [0.5, 0.6, 0.8]}\n",
    "\n",
    "xgb = XGBClassifier()\n",
    "\n",
    "grid_search_xgb = GridSearchCV(estimator=xgb,\n",
    "                              param_grid = param_grid,\n",
    "                              cv = 3,\n",
    "                              scoring = 'roc_auc',\n",
    "                              return_train_score = True,\n",
    "                              verbose = 1,\n",
    "                              n_jobs = -1)\n",
    "\n",
    "grid_search_xgb.fit(X_train,y_train)\n"
   ]
  },
  {
   "cell_type": "code",
   "execution_count": 48,
   "metadata": {},
   "outputs": [
    {
     "data": {
      "text/html": [
       "<div>\n",
       "<style scoped>\n",
       "    .dataframe tbody tr th:only-of-type {\n",
       "        vertical-align: middle;\n",
       "    }\n",
       "\n",
       "    .dataframe tbody tr th {\n",
       "        vertical-align: top;\n",
       "    }\n",
       "\n",
       "    .dataframe thead th {\n",
       "        text-align: right;\n",
       "    }\n",
       "</style>\n",
       "<table border=\"1\" class=\"dataframe\">\n",
       "  <thead>\n",
       "    <tr style=\"text-align: right;\">\n",
       "      <th></th>\n",
       "      <th>mean_fit_time</th>\n",
       "      <th>std_fit_time</th>\n",
       "      <th>mean_score_time</th>\n",
       "      <th>std_score_time</th>\n",
       "      <th>param_learning_rate</th>\n",
       "      <th>param_subsample</th>\n",
       "      <th>params</th>\n",
       "      <th>split0_test_score</th>\n",
       "      <th>split1_test_score</th>\n",
       "      <th>split2_test_score</th>\n",
       "      <th>mean_test_score</th>\n",
       "      <th>std_test_score</th>\n",
       "      <th>rank_test_score</th>\n",
       "      <th>split0_train_score</th>\n",
       "      <th>split1_train_score</th>\n",
       "      <th>split2_train_score</th>\n",
       "      <th>mean_train_score</th>\n",
       "      <th>std_train_score</th>\n",
       "    </tr>\n",
       "  </thead>\n",
       "  <tbody>\n",
       "    <tr>\n",
       "      <th>0</th>\n",
       "      <td>8.254259</td>\n",
       "      <td>0.105083</td>\n",
       "      <td>0.084773</td>\n",
       "      <td>0.008579</td>\n",
       "      <td>0.01</td>\n",
       "      <td>0.5</td>\n",
       "      <td>{'learning_rate': 0.01, 'subsample': 0.5}</td>\n",
       "      <td>0.860382</td>\n",
       "      <td>0.868645</td>\n",
       "      <td>0.865508</td>\n",
       "      <td>0.864845</td>\n",
       "      <td>0.003406</td>\n",
       "      <td>7</td>\n",
       "      <td>0.868145</td>\n",
       "      <td>0.864564</td>\n",
       "      <td>0.865356</td>\n",
       "      <td>0.866022</td>\n",
       "      <td>0.001536</td>\n",
       "    </tr>\n",
       "    <tr>\n",
       "      <th>1</th>\n",
       "      <td>8.389564</td>\n",
       "      <td>0.053417</td>\n",
       "      <td>0.081783</td>\n",
       "      <td>0.007463</td>\n",
       "      <td>0.01</td>\n",
       "      <td>0.6</td>\n",
       "      <td>{'learning_rate': 0.01, 'subsample': 0.6}</td>\n",
       "      <td>0.860320</td>\n",
       "      <td>0.868362</td>\n",
       "      <td>0.864828</td>\n",
       "      <td>0.864503</td>\n",
       "      <td>0.003291</td>\n",
       "      <td>8</td>\n",
       "      <td>0.867977</td>\n",
       "      <td>0.864572</td>\n",
       "      <td>0.865354</td>\n",
       "      <td>0.865968</td>\n",
       "      <td>0.001456</td>\n",
       "    </tr>\n",
       "    <tr>\n",
       "      <th>2</th>\n",
       "      <td>8.266893</td>\n",
       "      <td>0.016945</td>\n",
       "      <td>0.083443</td>\n",
       "      <td>0.004099</td>\n",
       "      <td>0.01</td>\n",
       "      <td>0.8</td>\n",
       "      <td>{'learning_rate': 0.01, 'subsample': 0.8}</td>\n",
       "      <td>0.859497</td>\n",
       "      <td>0.867964</td>\n",
       "      <td>0.865265</td>\n",
       "      <td>0.864242</td>\n",
       "      <td>0.003532</td>\n",
       "      <td>9</td>\n",
       "      <td>0.867287</td>\n",
       "      <td>0.864239</td>\n",
       "      <td>0.865048</td>\n",
       "      <td>0.865525</td>\n",
       "      <td>0.001289</td>\n",
       "    </tr>\n",
       "    <tr>\n",
       "      <th>3</th>\n",
       "      <td>8.402198</td>\n",
       "      <td>0.036962</td>\n",
       "      <td>0.109375</td>\n",
       "      <td>0.005543</td>\n",
       "      <td>0.1</td>\n",
       "      <td>0.5</td>\n",
       "      <td>{'learning_rate': 0.1, 'subsample': 0.5}</td>\n",
       "      <td>0.935715</td>\n",
       "      <td>0.977266</td>\n",
       "      <td>0.951272</td>\n",
       "      <td>0.954751</td>\n",
       "      <td>0.017141</td>\n",
       "      <td>4</td>\n",
       "      <td>0.984410</td>\n",
       "      <td>0.973000</td>\n",
       "      <td>0.985115</td>\n",
       "      <td>0.980841</td>\n",
       "      <td>0.005552</td>\n",
       "    </tr>\n",
       "    <tr>\n",
       "      <th>4</th>\n",
       "      <td>8.589030</td>\n",
       "      <td>0.021591</td>\n",
       "      <td>0.106716</td>\n",
       "      <td>0.007768</td>\n",
       "      <td>0.1</td>\n",
       "      <td>0.6</td>\n",
       "      <td>{'learning_rate': 0.1, 'subsample': 0.6}</td>\n",
       "      <td>0.941120</td>\n",
       "      <td>0.976630</td>\n",
       "      <td>0.951425</td>\n",
       "      <td>0.956392</td>\n",
       "      <td>0.014916</td>\n",
       "      <td>2</td>\n",
       "      <td>0.984799</td>\n",
       "      <td>0.976549</td>\n",
       "      <td>0.985967</td>\n",
       "      <td>0.982438</td>\n",
       "      <td>0.004191</td>\n",
       "    </tr>\n",
       "    <tr>\n",
       "      <th>5</th>\n",
       "      <td>8.344353</td>\n",
       "      <td>0.037222</td>\n",
       "      <td>0.103391</td>\n",
       "      <td>0.006582</td>\n",
       "      <td>0.1</td>\n",
       "      <td>0.8</td>\n",
       "      <td>{'learning_rate': 0.1, 'subsample': 0.8}</td>\n",
       "      <td>0.945330</td>\n",
       "      <td>0.973600</td>\n",
       "      <td>0.949189</td>\n",
       "      <td>0.956040</td>\n",
       "      <td>0.012516</td>\n",
       "      <td>3</td>\n",
       "      <td>0.985410</td>\n",
       "      <td>0.975483</td>\n",
       "      <td>0.985371</td>\n",
       "      <td>0.982088</td>\n",
       "      <td>0.004670</td>\n",
       "    </tr>\n",
       "    <tr>\n",
       "      <th>6</th>\n",
       "      <td>8.419153</td>\n",
       "      <td>0.026591</td>\n",
       "      <td>0.121676</td>\n",
       "      <td>0.002443</td>\n",
       "      <td>0.3</td>\n",
       "      <td>0.5</td>\n",
       "      <td>{'learning_rate': 0.3, 'subsample': 0.5}</td>\n",
       "      <td>0.924395</td>\n",
       "      <td>0.964082</td>\n",
       "      <td>0.946322</td>\n",
       "      <td>0.944933</td>\n",
       "      <td>0.016232</td>\n",
       "      <td>5</td>\n",
       "      <td>0.998053</td>\n",
       "      <td>0.997025</td>\n",
       "      <td>0.997433</td>\n",
       "      <td>0.997504</td>\n",
       "      <td>0.000423</td>\n",
       "    </tr>\n",
       "    <tr>\n",
       "      <th>7</th>\n",
       "      <td>8.574404</td>\n",
       "      <td>0.048123</td>\n",
       "      <td>0.125666</td>\n",
       "      <td>0.006359</td>\n",
       "      <td>0.3</td>\n",
       "      <td>0.6</td>\n",
       "      <td>{'learning_rate': 0.3, 'subsample': 0.6}</td>\n",
       "      <td>0.913850</td>\n",
       "      <td>0.962910</td>\n",
       "      <td>0.948425</td>\n",
       "      <td>0.941728</td>\n",
       "      <td>0.020581</td>\n",
       "      <td>6</td>\n",
       "      <td>0.998432</td>\n",
       "      <td>0.998053</td>\n",
       "      <td>0.997983</td>\n",
       "      <td>0.998156</td>\n",
       "      <td>0.000197</td>\n",
       "    </tr>\n",
       "    <tr>\n",
       "      <th>8</th>\n",
       "      <td>6.818445</td>\n",
       "      <td>0.331155</td>\n",
       "      <td>0.090109</td>\n",
       "      <td>0.007313</td>\n",
       "      <td>0.3</td>\n",
       "      <td>0.8</td>\n",
       "      <td>{'learning_rate': 0.3, 'subsample': 0.8}</td>\n",
       "      <td>0.932536</td>\n",
       "      <td>0.977115</td>\n",
       "      <td>0.963043</td>\n",
       "      <td>0.957565</td>\n",
       "      <td>0.018607</td>\n",
       "      <td>1</td>\n",
       "      <td>0.998730</td>\n",
       "      <td>0.997157</td>\n",
       "      <td>0.998653</td>\n",
       "      <td>0.998180</td>\n",
       "      <td>0.000724</td>\n",
       "    </tr>\n",
       "  </tbody>\n",
       "</table>\n",
       "</div>"
      ],
      "text/plain": [
       "   mean_fit_time  std_fit_time  mean_score_time  std_score_time  \\\n",
       "0       8.254259      0.105083         0.084773        0.008579   \n",
       "1       8.389564      0.053417         0.081783        0.007463   \n",
       "2       8.266893      0.016945         0.083443        0.004099   \n",
       "3       8.402198      0.036962         0.109375        0.005543   \n",
       "4       8.589030      0.021591         0.106716        0.007768   \n",
       "5       8.344353      0.037222         0.103391        0.006582   \n",
       "6       8.419153      0.026591         0.121676        0.002443   \n",
       "7       8.574404      0.048123         0.125666        0.006359   \n",
       "8       6.818445      0.331155         0.090109        0.007313   \n",
       "\n",
       "  param_learning_rate param_subsample  \\\n",
       "0                0.01             0.5   \n",
       "1                0.01             0.6   \n",
       "2                0.01             0.8   \n",
       "3                 0.1             0.5   \n",
       "4                 0.1             0.6   \n",
       "5                 0.1             0.8   \n",
       "6                 0.3             0.5   \n",
       "7                 0.3             0.6   \n",
       "8                 0.3             0.8   \n",
       "\n",
       "                                      params  split0_test_score  \\\n",
       "0  {'learning_rate': 0.01, 'subsample': 0.5}           0.860382   \n",
       "1  {'learning_rate': 0.01, 'subsample': 0.6}           0.860320   \n",
       "2  {'learning_rate': 0.01, 'subsample': 0.8}           0.859497   \n",
       "3   {'learning_rate': 0.1, 'subsample': 0.5}           0.935715   \n",
       "4   {'learning_rate': 0.1, 'subsample': 0.6}           0.941120   \n",
       "5   {'learning_rate': 0.1, 'subsample': 0.8}           0.945330   \n",
       "6   {'learning_rate': 0.3, 'subsample': 0.5}           0.924395   \n",
       "7   {'learning_rate': 0.3, 'subsample': 0.6}           0.913850   \n",
       "8   {'learning_rate': 0.3, 'subsample': 0.8}           0.932536   \n",
       "\n",
       "   split1_test_score  split2_test_score  mean_test_score  std_test_score  \\\n",
       "0           0.868645           0.865508         0.864845        0.003406   \n",
       "1           0.868362           0.864828         0.864503        0.003291   \n",
       "2           0.867964           0.865265         0.864242        0.003532   \n",
       "3           0.977266           0.951272         0.954751        0.017141   \n",
       "4           0.976630           0.951425         0.956392        0.014916   \n",
       "5           0.973600           0.949189         0.956040        0.012516   \n",
       "6           0.964082           0.946322         0.944933        0.016232   \n",
       "7           0.962910           0.948425         0.941728        0.020581   \n",
       "8           0.977115           0.963043         0.957565        0.018607   \n",
       "\n",
       "   rank_test_score  split0_train_score  split1_train_score  \\\n",
       "0                7            0.868145            0.864564   \n",
       "1                8            0.867977            0.864572   \n",
       "2                9            0.867287            0.864239   \n",
       "3                4            0.984410            0.973000   \n",
       "4                2            0.984799            0.976549   \n",
       "5                3            0.985410            0.975483   \n",
       "6                5            0.998053            0.997025   \n",
       "7                6            0.998432            0.998053   \n",
       "8                1            0.998730            0.997157   \n",
       "\n",
       "   split2_train_score  mean_train_score  std_train_score  \n",
       "0            0.865356          0.866022         0.001536  \n",
       "1            0.865354          0.865968         0.001456  \n",
       "2            0.865048          0.865525         0.001289  \n",
       "3            0.985115          0.980841         0.005552  \n",
       "4            0.985967          0.982438         0.004191  \n",
       "5            0.985371          0.982088         0.004670  \n",
       "6            0.997433          0.997504         0.000423  \n",
       "7            0.997983          0.998156         0.000197  \n",
       "8            0.998653          0.998180         0.000724  "
      ]
     },
     "execution_count": 48,
     "metadata": {},
     "output_type": "execute_result"
    }
   ],
   "source": [
    "cv_results = pd.DataFrame(grid_search_xgb.cv_results_)\n",
    "cv_results"
   ]
  },
  {
   "cell_type": "code",
   "execution_count": 49,
   "metadata": {},
   "outputs": [
    {
     "data": {
      "image/png": "[encoded data removed]",
      "text/plain": [
       "<matplotlib.figure.Figure at 0x1d5dc2063c8>"
      ]
     },
     "metadata": {},
     "output_type": "display_data"
    }
   ],
   "source": [
    "# plotting AUC with hyperparameter combinations\n",
    "plt.figure(figsize = (16,6))\n",
    "for n, subsample in enumerate(param_grid['subsample']):\n",
    "    #subplot 1(of n)\n",
    "    plt.subplot(1,3,n+1)\n",
    "    depth_cv = cv_results[cv_results['param_subsample'] == subsample]\n",
    "    plt.plot(depth_cv['param_learning_rate'], depth_cv['mean_train_score'])\n",
    "    plt.plot(depth_cv['param_learning_rate'], depth_cv['mean_test_score'])\n",
    "    plt.xlabel(\"learning_rate\")\n",
    "    plt.ylabel(\"AUC\")\n",
    "    plt.title(\"subsample = {}\".format(subsample))\n",
    "    plt.ylim([0.50,1.02])\n",
    "    plt.legend(['train_score','test_score'], loc = 'lower left')"
   ]
  },
  {
   "cell_type": "code",
   "execution_count": 50,
   "metadata": {},
   "outputs": [
    {
     "data": {
      "text/plain": [
       "0.9544586430579916"
      ]
     },
     "execution_count": 50,
     "metadata": {},
     "output_type": "execute_result"
    }
   ],
   "source": [
    "# final predictions\n",
    "pred_test = grid_search_xgb.predict_proba(X_test)[:,1]\n",
    "metrics.roc_auc_score(y_test,pred_test)"
   ]
  },
  {
   "cell_type": "markdown",
   "metadata": {},
   "source": [
    "With Xgboost we got the best auc score of 0.955. So, xgboost performed the best. There is still more of hyper parameter tuning that can be performed with xgboost to check for the improvement."
   ]
  },
  {
   "cell_type": "markdown",
   "metadata": {},
   "source": [
    "### Feature importance"
   ]
  },
  {
   "cell_type": "code",
   "execution_count": 51,
   "metadata": {},
   "outputs": [
    {
     "data": {
      "text/plain": [
       "{'app': 0.1769121,\n",
       " 'channel': 0.17314586,\n",
       " 'day_of_week': 0.050643012,\n",
       " 'day_of_year': 0.0,\n",
       " 'device': 0.15689774,\n",
       " 'hour': 0.054290082,\n",
       " 'ip': 0.055890437,\n",
       " 'ip_count': 0.09737105,\n",
       " 'ip_day_hour': 0.04446315,\n",
       " 'ip_hour_app': 0.027687624,\n",
       " 'ip_hour_channel': 0.0,\n",
       " 'ip_hour_device': 0.04535119,\n",
       " 'ip_hour_os': 0.035611317,\n",
       " 'month': 0.0,\n",
       " 'os': 0.081736505}"
      ]
     },
     "execution_count": 51,
     "metadata": {},
     "output_type": "execute_result"
    }
   ],
   "source": [
    "feature_importance = dict(zip(X_train.columns,grid_search_xgb.best_estimator_.feature_importances_))\n",
    "feature_importance                        "
   ]
  },
  {
   "cell_type": "code",
   "execution_count": 52,
   "metadata": {},
   "outputs": [],
   "source": [
    "feature_importance = grid_search_xgb.best_estimator_.feature_importances_\n",
    "feature_importance = pd.DataFrame(feature_importance, columns= ['importance'])\n",
    "feature_importance['variables'] = X_train.columns"
   ]
  },
  {
   "cell_type": "code",
   "execution_count": 53,
   "metadata": {},
   "outputs": [
    {
     "data": {
      "text/plain": [
       "<matplotlib.axes._subplots.AxesSubplot at 0x1d5e0998c88>"
      ]
     },
     "execution_count": 53,
     "metadata": {},
     "output_type": "execute_result"
    },
    {
     "data": {
      "image/png": "[encoded data removed]",
      "text/plain": [
       "<matplotlib.figure.Figure at 0x1d5dc655940>"
      ]
     },
     "metadata": {},
     "output_type": "display_data"
    }
   ],
   "source": [
    "feature_importance.sort_values(by = 'importance', ascending=False, inplace = True)\n",
    "sns.barplot(y = 'variables', x = 'importance', data = feature_importance)"
   ]
  },
  {
   "cell_type": "code",
   "execution_count": null,
   "metadata": {},
   "outputs": [],
   "source": []
  }
 ],
 "metadata": {
  "kernelspec": {
   "display_name": "Python 3",
   "language": "python",
   "name": "python3"
  },
  "language_info": {
   "codemirror_mode": {
    "name": "ipython",
    "version": 3
   },
   "file_extension": ".py",
   "mimetype": "text/x-python",
   "name": "python",
   "nbconvert_exporter": "python",
   "pygments_lexer": "ipython3",
   "version": "3.6.3"
  }
 },
 "nbformat": 4,
 "nbformat_minor": 2
}

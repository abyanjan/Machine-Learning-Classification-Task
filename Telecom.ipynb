{
 "cells": [
  {
   "cell_type": "markdown",
   "metadata": {},
   "source": [
    "### Predicting Telecom Customer Churn\n",
    "#### Logistic Regression"
   ]
  },
  {
   "cell_type": "code",
   "execution_count": 1,
   "metadata": {},
   "outputs": [],
   "source": [
    "import pandas as pd\n",
    "import numpy as np\n",
    "import matplotlib.pyplot as plt\n",
    "%matplotlib inline\n",
    "\n",
    "import warnings\n",
    "warnings.filterwarnings('ignore')"
   ]
  },
  {
   "cell_type": "code",
   "execution_count": 2,
   "metadata": {},
   "outputs": [],
   "source": [
    "# Import Data\n",
    "churn_data = pd.read_csv('churn_data.csv')\n",
    "customer_data = pd.read_csv('customer_data.csv')\n",
    "internet_data = pd.read_csv('internet_data.csv')"
   ]
  },
  {
   "cell_type": "code",
   "execution_count": 3,
   "metadata": {},
   "outputs": [],
   "source": [
    "# Merging the data sets\n",
    "df = pd.merge(churn_data, customer_data, on = 'customerID', how = 'inner')\n",
    "telecom_df = pd.merge(df, internet_data, on = 'customerID', how = 'inner')"
   ]
  },
  {
   "cell_type": "code",
   "execution_count": 4,
   "metadata": {},
   "outputs": [
    {
     "name": "stdout",
     "output_type": "stream",
     "text": [
      "(7043, 21)\n"
     ]
    },
    {
     "data": {
      "text/html": [
       "<div>\n",
       "<style scoped>\n",
       "    .dataframe tbody tr th:only-of-type {\n",
       "        vertical-align: middle;\n",
       "    }\n",
       "\n",
       "    .dataframe tbody tr th {\n",
       "        vertical-align: top;\n",
       "    }\n",
       "\n",
       "    .dataframe thead th {\n",
       "        text-align: right;\n",
       "    }\n",
       "</style>\n",
       "<table border=\"1\" class=\"dataframe\">\n",
       "  <thead>\n",
       "    <tr style=\"text-align: right;\">\n",
       "      <th></th>\n",
       "      <th>customerID</th>\n",
       "      <th>tenure</th>\n",
       "      <th>PhoneService</th>\n",
       "      <th>Contract</th>\n",
       "      <th>PaperlessBilling</th>\n",
       "      <th>PaymentMethod</th>\n",
       "      <th>MonthlyCharges</th>\n",
       "      <th>TotalCharges</th>\n",
       "      <th>Churn</th>\n",
       "      <th>gender</th>\n",
       "      <th>...</th>\n",
       "      <th>Partner</th>\n",
       "      <th>Dependents</th>\n",
       "      <th>MultipleLines</th>\n",
       "      <th>InternetService</th>\n",
       "      <th>OnlineSecurity</th>\n",
       "      <th>OnlineBackup</th>\n",
       "      <th>DeviceProtection</th>\n",
       "      <th>TechSupport</th>\n",
       "      <th>StreamingTV</th>\n",
       "      <th>StreamingMovies</th>\n",
       "    </tr>\n",
       "  </thead>\n",
       "  <tbody>\n",
       "    <tr>\n",
       "      <th>0</th>\n",
       "      <td>7590-VHVEG</td>\n",
       "      <td>1</td>\n",
       "      <td>No</td>\n",
       "      <td>Month-to-month</td>\n",
       "      <td>Yes</td>\n",
       "      <td>Electronic check</td>\n",
       "      <td>29.85</td>\n",
       "      <td>29.85</td>\n",
       "      <td>No</td>\n",
       "      <td>Female</td>\n",
       "      <td>...</td>\n",
       "      <td>Yes</td>\n",
       "      <td>No</td>\n",
       "      <td>No phone service</td>\n",
       "      <td>DSL</td>\n",
       "      <td>No</td>\n",
       "      <td>Yes</td>\n",
       "      <td>No</td>\n",
       "      <td>No</td>\n",
       "      <td>No</td>\n",
       "      <td>No</td>\n",
       "    </tr>\n",
       "    <tr>\n",
       "      <th>1</th>\n",
       "      <td>5575-GNVDE</td>\n",
       "      <td>34</td>\n",
       "      <td>Yes</td>\n",
       "      <td>One year</td>\n",
       "      <td>No</td>\n",
       "      <td>Mailed check</td>\n",
       "      <td>56.95</td>\n",
       "      <td>1889.5</td>\n",
       "      <td>No</td>\n",
       "      <td>Male</td>\n",
       "      <td>...</td>\n",
       "      <td>No</td>\n",
       "      <td>No</td>\n",
       "      <td>No</td>\n",
       "      <td>DSL</td>\n",
       "      <td>Yes</td>\n",
       "      <td>No</td>\n",
       "      <td>Yes</td>\n",
       "      <td>No</td>\n",
       "      <td>No</td>\n",
       "      <td>No</td>\n",
       "    </tr>\n",
       "    <tr>\n",
       "      <th>2</th>\n",
       "      <td>3668-QPYBK</td>\n",
       "      <td>2</td>\n",
       "      <td>Yes</td>\n",
       "      <td>Month-to-month</td>\n",
       "      <td>Yes</td>\n",
       "      <td>Mailed check</td>\n",
       "      <td>53.85</td>\n",
       "      <td>108.15</td>\n",
       "      <td>Yes</td>\n",
       "      <td>Male</td>\n",
       "      <td>...</td>\n",
       "      <td>No</td>\n",
       "      <td>No</td>\n",
       "      <td>No</td>\n",
       "      <td>DSL</td>\n",
       "      <td>Yes</td>\n",
       "      <td>Yes</td>\n",
       "      <td>No</td>\n",
       "      <td>No</td>\n",
       "      <td>No</td>\n",
       "      <td>No</td>\n",
       "    </tr>\n",
       "    <tr>\n",
       "      <th>3</th>\n",
       "      <td>7795-CFOCW</td>\n",
       "      <td>45</td>\n",
       "      <td>No</td>\n",
       "      <td>One year</td>\n",
       "      <td>No</td>\n",
       "      <td>Bank transfer (automatic)</td>\n",
       "      <td>42.30</td>\n",
       "      <td>1840.75</td>\n",
       "      <td>No</td>\n",
       "      <td>Male</td>\n",
       "      <td>...</td>\n",
       "      <td>No</td>\n",
       "      <td>No</td>\n",
       "      <td>No phone service</td>\n",
       "      <td>DSL</td>\n",
       "      <td>Yes</td>\n",
       "      <td>No</td>\n",
       "      <td>Yes</td>\n",
       "      <td>Yes</td>\n",
       "      <td>No</td>\n",
       "      <td>No</td>\n",
       "    </tr>\n",
       "    <tr>\n",
       "      <th>4</th>\n",
       "      <td>9237-HQITU</td>\n",
       "      <td>2</td>\n",
       "      <td>Yes</td>\n",
       "      <td>Month-to-month</td>\n",
       "      <td>Yes</td>\n",
       "      <td>Electronic check</td>\n",
       "      <td>70.70</td>\n",
       "      <td>151.65</td>\n",
       "      <td>Yes</td>\n",
       "      <td>Female</td>\n",
       "      <td>...</td>\n",
       "      <td>No</td>\n",
       "      <td>No</td>\n",
       "      <td>No</td>\n",
       "      <td>Fiber optic</td>\n",
       "      <td>No</td>\n",
       "      <td>No</td>\n",
       "      <td>No</td>\n",
       "      <td>No</td>\n",
       "      <td>No</td>\n",
       "      <td>No</td>\n",
       "    </tr>\n",
       "  </tbody>\n",
       "</table>\n",
       "<p>5 rows × 21 columns</p>\n",
       "</div>"
      ],
      "text/plain": [
       "   customerID  tenure PhoneService        Contract PaperlessBilling  \\\n",
       "0  7590-VHVEG       1           No  Month-to-month              Yes   \n",
       "1  5575-GNVDE      34          Yes        One year               No   \n",
       "2  3668-QPYBK       2          Yes  Month-to-month              Yes   \n",
       "3  7795-CFOCW      45           No        One year               No   \n",
       "4  9237-HQITU       2          Yes  Month-to-month              Yes   \n",
       "\n",
       "               PaymentMethod  MonthlyCharges TotalCharges Churn  gender  ...  \\\n",
       "0           Electronic check           29.85        29.85    No  Female  ...   \n",
       "1               Mailed check           56.95       1889.5    No    Male  ...   \n",
       "2               Mailed check           53.85       108.15   Yes    Male  ...   \n",
       "3  Bank transfer (automatic)           42.30      1840.75    No    Male  ...   \n",
       "4           Electronic check           70.70       151.65   Yes  Female  ...   \n",
       "\n",
       "   Partner Dependents     MultipleLines InternetService OnlineSecurity  \\\n",
       "0      Yes         No  No phone service             DSL             No   \n",
       "1       No         No                No             DSL            Yes   \n",
       "2       No         No                No             DSL            Yes   \n",
       "3       No         No  No phone service             DSL            Yes   \n",
       "4       No         No                No     Fiber optic             No   \n",
       "\n",
       "  OnlineBackup DeviceProtection TechSupport StreamingTV StreamingMovies  \n",
       "0          Yes               No          No          No              No  \n",
       "1           No              Yes          No          No              No  \n",
       "2          Yes               No          No          No              No  \n",
       "3           No              Yes         Yes          No              No  \n",
       "4           No               No          No          No              No  \n",
       "\n",
       "[5 rows x 21 columns]"
      ]
     },
     "execution_count": 4,
     "metadata": {},
     "output_type": "execute_result"
    }
   ],
   "source": [
    "# quick lok at the data\n",
    "print(telecom_df.shape)\n",
    "telecom_df.head()"
   ]
  },
  {
   "cell_type": "code",
   "execution_count": 5,
   "metadata": {},
   "outputs": [
    {
     "name": "stdout",
     "output_type": "stream",
     "text": [
      "<class 'pandas.core.frame.DataFrame'>\n",
      "Int64Index: 7043 entries, 0 to 7042\n",
      "Data columns (total 21 columns):\n",
      "customerID          7043 non-null object\n",
      "tenure              7043 non-null int64\n",
      "PhoneService        7043 non-null object\n",
      "Contract            7043 non-null object\n",
      "PaperlessBilling    7043 non-null object\n",
      "PaymentMethod       7043 non-null object\n",
      "MonthlyCharges      7043 non-null float64\n",
      "TotalCharges        7043 non-null object\n",
      "Churn               7043 non-null object\n",
      "gender              7043 non-null object\n",
      "SeniorCitizen       7043 non-null int64\n",
      "Partner             7043 non-null object\n",
      "Dependents          7043 non-null object\n",
      "MultipleLines       7043 non-null object\n",
      "InternetService     7043 non-null object\n",
      "OnlineSecurity      7043 non-null object\n",
      "OnlineBackup        7043 non-null object\n",
      "DeviceProtection    7043 non-null object\n",
      "TechSupport         7043 non-null object\n",
      "StreamingTV         7043 non-null object\n",
      "StreamingMovies     7043 non-null object\n",
      "dtypes: float64(1), int64(2), object(18)\n",
      "memory usage: 1.2+ MB\n"
     ]
    }
   ],
   "source": [
    "# Data types\n",
    "telecom_df.info()"
   ]
  },
  {
   "cell_type": "markdown",
   "metadata": {},
   "source": [
    "### Data Preparation"
   ]
  },
  {
   "cell_type": "code",
   "execution_count": 6,
   "metadata": {},
   "outputs": [],
   "source": [
    "# Converting TotalCharges from string to numerical\n",
    "telecom_df['TotalCharges'] = pd.to_numeric(telecom_df['TotalCharges'], errors = 'coerce')\n",
    "\n",
    "# drop customerID\n",
    "telecom_df.drop('customerID', axis = 1, inplace = True)"
   ]
  },
  {
   "cell_type": "code",
   "execution_count": 7,
   "metadata": {},
   "outputs": [],
   "source": [
    "# Dummy variable creation\n",
    "# Converting all categoricals to dummy variables\n",
    "\n",
    "cat_df = telecom_df.select_dtypes(include='object')\n",
    "\n",
    "# store the categorical variables\n",
    "cat_vars = cat_df.columns\n",
    "\n",
    "cat_df = pd.get_dummies(cat_df, drop_first=True)"
   ]
  },
  {
   "cell_type": "code",
   "execution_count": 8,
   "metadata": {},
   "outputs": [
    {
     "data": {
      "text/html": [
       "<div>\n",
       "<style scoped>\n",
       "    .dataframe tbody tr th:only-of-type {\n",
       "        vertical-align: middle;\n",
       "    }\n",
       "\n",
       "    .dataframe tbody tr th {\n",
       "        vertical-align: top;\n",
       "    }\n",
       "\n",
       "    .dataframe thead th {\n",
       "        text-align: right;\n",
       "    }\n",
       "</style>\n",
       "<table border=\"1\" class=\"dataframe\">\n",
       "  <thead>\n",
       "    <tr style=\"text-align: right;\">\n",
       "      <th></th>\n",
       "      <th>PhoneService_Yes</th>\n",
       "      <th>Contract_One year</th>\n",
       "      <th>Contract_Two year</th>\n",
       "      <th>PaperlessBilling_Yes</th>\n",
       "      <th>PaymentMethod_Credit card (automatic)</th>\n",
       "      <th>PaymentMethod_Electronic check</th>\n",
       "      <th>PaymentMethod_Mailed check</th>\n",
       "      <th>Churn_Yes</th>\n",
       "      <th>gender_Male</th>\n",
       "      <th>Partner_Yes</th>\n",
       "      <th>...</th>\n",
       "      <th>OnlineBackup_No internet service</th>\n",
       "      <th>OnlineBackup_Yes</th>\n",
       "      <th>DeviceProtection_No internet service</th>\n",
       "      <th>DeviceProtection_Yes</th>\n",
       "      <th>TechSupport_No internet service</th>\n",
       "      <th>TechSupport_Yes</th>\n",
       "      <th>StreamingTV_No internet service</th>\n",
       "      <th>StreamingTV_Yes</th>\n",
       "      <th>StreamingMovies_No internet service</th>\n",
       "      <th>StreamingMovies_Yes</th>\n",
       "    </tr>\n",
       "  </thead>\n",
       "  <tbody>\n",
       "    <tr>\n",
       "      <th>0</th>\n",
       "      <td>0</td>\n",
       "      <td>0</td>\n",
       "      <td>0</td>\n",
       "      <td>1</td>\n",
       "      <td>0</td>\n",
       "      <td>1</td>\n",
       "      <td>0</td>\n",
       "      <td>0</td>\n",
       "      <td>0</td>\n",
       "      <td>1</td>\n",
       "      <td>...</td>\n",
       "      <td>0</td>\n",
       "      <td>1</td>\n",
       "      <td>0</td>\n",
       "      <td>0</td>\n",
       "      <td>0</td>\n",
       "      <td>0</td>\n",
       "      <td>0</td>\n",
       "      <td>0</td>\n",
       "      <td>0</td>\n",
       "      <td>0</td>\n",
       "    </tr>\n",
       "    <tr>\n",
       "      <th>1</th>\n",
       "      <td>1</td>\n",
       "      <td>1</td>\n",
       "      <td>0</td>\n",
       "      <td>0</td>\n",
       "      <td>0</td>\n",
       "      <td>0</td>\n",
       "      <td>1</td>\n",
       "      <td>0</td>\n",
       "      <td>1</td>\n",
       "      <td>0</td>\n",
       "      <td>...</td>\n",
       "      <td>0</td>\n",
       "      <td>0</td>\n",
       "      <td>0</td>\n",
       "      <td>1</td>\n",
       "      <td>0</td>\n",
       "      <td>0</td>\n",
       "      <td>0</td>\n",
       "      <td>0</td>\n",
       "      <td>0</td>\n",
       "      <td>0</td>\n",
       "    </tr>\n",
       "    <tr>\n",
       "      <th>2</th>\n",
       "      <td>1</td>\n",
       "      <td>0</td>\n",
       "      <td>0</td>\n",
       "      <td>1</td>\n",
       "      <td>0</td>\n",
       "      <td>0</td>\n",
       "      <td>1</td>\n",
       "      <td>1</td>\n",
       "      <td>1</td>\n",
       "      <td>0</td>\n",
       "      <td>...</td>\n",
       "      <td>0</td>\n",
       "      <td>1</td>\n",
       "      <td>0</td>\n",
       "      <td>0</td>\n",
       "      <td>0</td>\n",
       "      <td>0</td>\n",
       "      <td>0</td>\n",
       "      <td>0</td>\n",
       "      <td>0</td>\n",
       "      <td>0</td>\n",
       "    </tr>\n",
       "    <tr>\n",
       "      <th>3</th>\n",
       "      <td>0</td>\n",
       "      <td>1</td>\n",
       "      <td>0</td>\n",
       "      <td>0</td>\n",
       "      <td>0</td>\n",
       "      <td>0</td>\n",
       "      <td>0</td>\n",
       "      <td>0</td>\n",
       "      <td>1</td>\n",
       "      <td>0</td>\n",
       "      <td>...</td>\n",
       "      <td>0</td>\n",
       "      <td>0</td>\n",
       "      <td>0</td>\n",
       "      <td>1</td>\n",
       "      <td>0</td>\n",
       "      <td>1</td>\n",
       "      <td>0</td>\n",
       "      <td>0</td>\n",
       "      <td>0</td>\n",
       "      <td>0</td>\n",
       "    </tr>\n",
       "    <tr>\n",
       "      <th>4</th>\n",
       "      <td>1</td>\n",
       "      <td>0</td>\n",
       "      <td>0</td>\n",
       "      <td>1</td>\n",
       "      <td>0</td>\n",
       "      <td>1</td>\n",
       "      <td>0</td>\n",
       "      <td>1</td>\n",
       "      <td>0</td>\n",
       "      <td>0</td>\n",
       "      <td>...</td>\n",
       "      <td>0</td>\n",
       "      <td>0</td>\n",
       "      <td>0</td>\n",
       "      <td>0</td>\n",
       "      <td>0</td>\n",
       "      <td>0</td>\n",
       "      <td>0</td>\n",
       "      <td>0</td>\n",
       "      <td>0</td>\n",
       "      <td>0</td>\n",
       "    </tr>\n",
       "  </tbody>\n",
       "</table>\n",
       "<p>5 rows × 27 columns</p>\n",
       "</div>"
      ],
      "text/plain": [
       "   PhoneService_Yes  Contract_One year  Contract_Two year  \\\n",
       "0                 0                  0                  0   \n",
       "1                 1                  1                  0   \n",
       "2                 1                  0                  0   \n",
       "3                 0                  1                  0   \n",
       "4                 1                  0                  0   \n",
       "\n",
       "   PaperlessBilling_Yes  PaymentMethod_Credit card (automatic)  \\\n",
       "0                     1                                      0   \n",
       "1                     0                                      0   \n",
       "2                     1                                      0   \n",
       "3                     0                                      0   \n",
       "4                     1                                      0   \n",
       "\n",
       "   PaymentMethod_Electronic check  PaymentMethod_Mailed check  Churn_Yes  \\\n",
       "0                               1                           0          0   \n",
       "1                               0                           1          0   \n",
       "2                               0                           1          1   \n",
       "3                               0                           0          0   \n",
       "4                               1                           0          1   \n",
       "\n",
       "   gender_Male  Partner_Yes  ...  OnlineBackup_No internet service  \\\n",
       "0            0            1  ...                                 0   \n",
       "1            1            0  ...                                 0   \n",
       "2            1            0  ...                                 0   \n",
       "3            1            0  ...                                 0   \n",
       "4            0            0  ...                                 0   \n",
       "\n",
       "   OnlineBackup_Yes  DeviceProtection_No internet service  \\\n",
       "0                 1                                     0   \n",
       "1                 0                                     0   \n",
       "2                 1                                     0   \n",
       "3                 0                                     0   \n",
       "4                 0                                     0   \n",
       "\n",
       "   DeviceProtection_Yes  TechSupport_No internet service  TechSupport_Yes  \\\n",
       "0                     0                                0                0   \n",
       "1                     1                                0                0   \n",
       "2                     0                                0                0   \n",
       "3                     1                                0                1   \n",
       "4                     0                                0                0   \n",
       "\n",
       "   StreamingTV_No internet service  StreamingTV_Yes  \\\n",
       "0                                0                0   \n",
       "1                                0                0   \n",
       "2                                0                0   \n",
       "3                                0                0   \n",
       "4                                0                0   \n",
       "\n",
       "   StreamingMovies_No internet service  StreamingMovies_Yes  \n",
       "0                                    0                    0  \n",
       "1                                    0                    0  \n",
       "2                                    0                    0  \n",
       "3                                    0                    0  \n",
       "4                                    0                    0  \n",
       "\n",
       "[5 rows x 27 columns]"
      ]
     },
     "execution_count": 8,
     "metadata": {},
     "output_type": "execute_result"
    }
   ],
   "source": [
    "cat_df.head()"
   ]
  },
  {
   "cell_type": "code",
   "execution_count": 9,
   "metadata": {},
   "outputs": [],
   "source": [
    "# Merge dummy variables with the original data and drop the original categorical variables\n",
    "telecom_df = pd.concat([telecom_df, cat_df], axis = 1)\n",
    "telecom_df.drop(cat_vars, axis = 1, inplace = True)"
   ]
  },
  {
   "cell_type": "code",
   "execution_count": 10,
   "metadata": {},
   "outputs": [
    {
     "name": "stdout",
     "output_type": "stream",
     "text": [
      "(7043, 31)\n",
      "<class 'pandas.core.frame.DataFrame'>\n",
      "Int64Index: 7043 entries, 0 to 7042\n",
      "Data columns (total 31 columns):\n",
      "tenure                                   7043 non-null int64\n",
      "MonthlyCharges                           7043 non-null float64\n",
      "TotalCharges                             7032 non-null float64\n",
      "SeniorCitizen                            7043 non-null int64\n",
      "PhoneService_Yes                         7043 non-null uint8\n",
      "Contract_One year                        7043 non-null uint8\n",
      "Contract_Two year                        7043 non-null uint8\n",
      "PaperlessBilling_Yes                     7043 non-null uint8\n",
      "PaymentMethod_Credit card (automatic)    7043 non-null uint8\n",
      "PaymentMethod_Electronic check           7043 non-null uint8\n",
      "PaymentMethod_Mailed check               7043 non-null uint8\n",
      "Churn_Yes                                7043 non-null uint8\n",
      "gender_Male                              7043 non-null uint8\n",
      "Partner_Yes                              7043 non-null uint8\n",
      "Dependents_Yes                           7043 non-null uint8\n",
      "MultipleLines_No phone service           7043 non-null uint8\n",
      "MultipleLines_Yes                        7043 non-null uint8\n",
      "InternetService_Fiber optic              7043 non-null uint8\n",
      "InternetService_No                       7043 non-null uint8\n",
      "OnlineSecurity_No internet service       7043 non-null uint8\n",
      "OnlineSecurity_Yes                       7043 non-null uint8\n",
      "OnlineBackup_No internet service         7043 non-null uint8\n",
      "OnlineBackup_Yes                         7043 non-null uint8\n",
      "DeviceProtection_No internet service     7043 non-null uint8\n",
      "DeviceProtection_Yes                     7043 non-null uint8\n",
      "TechSupport_No internet service          7043 non-null uint8\n",
      "TechSupport_Yes                          7043 non-null uint8\n",
      "StreamingTV_No internet service          7043 non-null uint8\n",
      "StreamingTV_Yes                          7043 non-null uint8\n",
      "StreamingMovies_No internet service      7043 non-null uint8\n",
      "StreamingMovies_Yes                      7043 non-null uint8\n",
      "dtypes: float64(2), int64(2), uint8(27)\n",
      "memory usage: 460.8 KB\n"
     ]
    }
   ],
   "source": [
    "print(telecom_df.shape)\n",
    "telecom_df.info()"
   ]
  },
  {
   "cell_type": "code",
   "execution_count": 11,
   "metadata": {},
   "outputs": [
    {
     "data": {
      "text/plain": [
       "tenure                                   0.000000\n",
       "MonthlyCharges                           0.000000\n",
       "TotalCharges                             0.001562\n",
       "SeniorCitizen                            0.000000\n",
       "PhoneService_Yes                         0.000000\n",
       "Contract_One year                        0.000000\n",
       "Contract_Two year                        0.000000\n",
       "PaperlessBilling_Yes                     0.000000\n",
       "PaymentMethod_Credit card (automatic)    0.000000\n",
       "PaymentMethod_Electronic check           0.000000\n",
       "PaymentMethod_Mailed check               0.000000\n",
       "Churn_Yes                                0.000000\n",
       "gender_Male                              0.000000\n",
       "Partner_Yes                              0.000000\n",
       "Dependents_Yes                           0.000000\n",
       "MultipleLines_No phone service           0.000000\n",
       "MultipleLines_Yes                        0.000000\n",
       "InternetService_Fiber optic              0.000000\n",
       "InternetService_No                       0.000000\n",
       "OnlineSecurity_No internet service       0.000000\n",
       "OnlineSecurity_Yes                       0.000000\n",
       "OnlineBackup_No internet service         0.000000\n",
       "OnlineBackup_Yes                         0.000000\n",
       "DeviceProtection_No internet service     0.000000\n",
       "DeviceProtection_Yes                     0.000000\n",
       "TechSupport_No internet service          0.000000\n",
       "TechSupport_Yes                          0.000000\n",
       "StreamingTV_No internet service          0.000000\n",
       "StreamingTV_Yes                          0.000000\n",
       "StreamingMovies_No internet service      0.000000\n",
       "StreamingMovies_Yes                      0.000000\n",
       "dtype: float64"
      ]
     },
     "execution_count": 11,
     "metadata": {},
     "output_type": "execute_result"
    }
   ],
   "source": [
    "# check for missing values\n",
    "missing = telecom_df.isnull().mean()\n",
    "missing"
   ]
  },
  {
   "cell_type": "markdown",
   "metadata": {},
   "source": [
    "We can see only TotalCharges has missing values and the amount of missing values is very less, so we can drop them."
   ]
  },
  {
   "cell_type": "code",
   "execution_count": 12,
   "metadata": {},
   "outputs": [
    {
     "data": {
      "text/plain": [
       "tenure                                   0\n",
       "MonthlyCharges                           0\n",
       "TotalCharges                             0\n",
       "SeniorCitizen                            0\n",
       "PhoneService_Yes                         0\n",
       "Contract_One year                        0\n",
       "Contract_Two year                        0\n",
       "PaperlessBilling_Yes                     0\n",
       "PaymentMethod_Credit card (automatic)    0\n",
       "PaymentMethod_Electronic check           0\n",
       "PaymentMethod_Mailed check               0\n",
       "Churn_Yes                                0\n",
       "gender_Male                              0\n",
       "Partner_Yes                              0\n",
       "Dependents_Yes                           0\n",
       "MultipleLines_No phone service           0\n",
       "MultipleLines_Yes                        0\n",
       "InternetService_Fiber optic              0\n",
       "InternetService_No                       0\n",
       "OnlineSecurity_No internet service       0\n",
       "OnlineSecurity_Yes                       0\n",
       "OnlineBackup_No internet service         0\n",
       "OnlineBackup_Yes                         0\n",
       "DeviceProtection_No internet service     0\n",
       "DeviceProtection_Yes                     0\n",
       "TechSupport_No internet service          0\n",
       "TechSupport_Yes                          0\n",
       "StreamingTV_No internet service          0\n",
       "StreamingTV_Yes                          0\n",
       "StreamingMovies_No internet service      0\n",
       "StreamingMovies_Yes                      0\n",
       "dtype: int64"
      ]
     },
     "execution_count": 12,
     "metadata": {},
     "output_type": "execute_result"
    }
   ],
   "source": [
    "telecom_df = telecom_df.dropna()\n",
    "telecom_df.isnull().sum()"
   ]
  },
  {
   "cell_type": "markdown",
   "metadata": {},
   "source": [
    "### Train Test Split"
   ]
  },
  {
   "cell_type": "code",
   "execution_count": 13,
   "metadata": {},
   "outputs": [
    {
     "name": "stdout",
     "output_type": "stream",
     "text": [
      "(5625, 30)\n",
      "(1407, 30)\n",
      "(5625, 1)\n",
      "(1407, 1)\n"
     ]
    }
   ],
   "source": [
    "from sklearn.model_selection import train_test_split\n",
    "\n",
    "# separate predictors and target\n",
    "X = telecom_df.drop('Churn_Yes', axis = 1)\n",
    "y = telecom_df[['Churn_Yes']]\n",
    "predictors = X.columns\n",
    "\n",
    "X_train, X_test, y_train, y_test = train_test_split(X, y, test_size = 0.2, random_state = 1)\n",
    "\n",
    "print(X_train.shape)\n",
    "print(X_test.shape)\n",
    "print(y_train.shape)\n",
    "print(y_test.shape)"
   ]
  },
  {
   "cell_type": "code",
   "execution_count": 14,
   "metadata": {},
   "outputs": [
    {
     "data": {
      "image/png": "[encoded data removed]",
      "text/plain": [
       "<matplotlib.figure.Figure at 0x1e54c945828>"
      ]
     },
     "metadata": {},
     "output_type": "display_data"
    }
   ],
   "source": [
    "# check for outliers in the continuous numerical variables\n",
    "#X_train[['tenure','MonthlyCharges','TotalCharges']].hist(figsize = (10,5))\n",
    "plt.figure(figsize = (15,5))\n",
    "plt.subplot(1,3,1)\n",
    "plt.boxplot(X_train['tenure'])\n",
    "plt.title('tenure')\n",
    "\n",
    "plt.subplot(1,3,2)\n",
    "plt.boxplot(X_train['MonthlyCharges'])\n",
    "plt.title('MonthlyCharges')\n",
    "\n",
    "plt.subplot(1,3,3)\n",
    "plt.boxplot(X_train['TotalCharges'])\n",
    "plt.title('TotalCharges')\n",
    "\n",
    "plt.show()"
   ]
  },
  {
   "cell_type": "markdown",
   "metadata": {},
   "source": [
    "From the boxplots, we can see that the variables do not have any outliers."
   ]
  },
  {
   "cell_type": "markdown",
   "metadata": {},
   "source": [
    "#### Standardisation"
   ]
  },
  {
   "cell_type": "code",
   "execution_count": 15,
   "metadata": {},
   "outputs": [],
   "source": [
    "# Apply min-max standardisation\n",
    "from sklearn.preprocessing import MinMaxScaler\n",
    "\n",
    "scaler = MinMaxScaler()\n",
    "scaler.fit(X_train)\n",
    "\n",
    "X_train = scaler.transform(X_train)\n",
    "X_test = scaler.transform(X_test)"
   ]
  },
  {
   "cell_type": "code",
   "execution_count": 16,
   "metadata": {},
   "outputs": [],
   "source": [
    "# converting the transformed data back to data frames\n",
    "X_train = pd.DataFrame(X_train, columns=predictors)\n",
    "X_test = pd.DataFrame(X_test, columns = predictors)"
   ]
  },
  {
   "cell_type": "code",
   "execution_count": 17,
   "metadata": {},
   "outputs": [],
   "source": [
    "y_train.reset_index(inplace = True)\n",
    "y_train.drop('index', axis = 1,inplace = True)"
   ]
  },
  {
   "cell_type": "code",
   "execution_count": 18,
   "metadata": {},
   "outputs": [
    {
     "data": {
      "text/html": [
       "<div>\n",
       "<style scoped>\n",
       "    .dataframe tbody tr th:only-of-type {\n",
       "        vertical-align: middle;\n",
       "    }\n",
       "\n",
       "    .dataframe tbody tr th {\n",
       "        vertical-align: top;\n",
       "    }\n",
       "\n",
       "    .dataframe thead th {\n",
       "        text-align: right;\n",
       "    }\n",
       "</style>\n",
       "<table border=\"1\" class=\"dataframe\">\n",
       "  <thead>\n",
       "    <tr style=\"text-align: right;\">\n",
       "      <th></th>\n",
       "      <th>Churn_Yes</th>\n",
       "    </tr>\n",
       "  </thead>\n",
       "  <tbody>\n",
       "    <tr>\n",
       "      <th>0</th>\n",
       "      <td>0</td>\n",
       "    </tr>\n",
       "    <tr>\n",
       "      <th>1</th>\n",
       "      <td>0</td>\n",
       "    </tr>\n",
       "    <tr>\n",
       "      <th>2</th>\n",
       "      <td>0</td>\n",
       "    </tr>\n",
       "    <tr>\n",
       "      <th>3</th>\n",
       "      <td>0</td>\n",
       "    </tr>\n",
       "    <tr>\n",
       "      <th>4</th>\n",
       "      <td>1</td>\n",
       "    </tr>\n",
       "  </tbody>\n",
       "</table>\n",
       "</div>"
      ],
      "text/plain": [
       "   Churn_Yes\n",
       "0          0\n",
       "1          0\n",
       "2          0\n",
       "3          0\n",
       "4          1"
      ]
     },
     "execution_count": 18,
     "metadata": {},
     "output_type": "execute_result"
    }
   ],
   "source": [
    "y_train.head()"
   ]
  },
  {
   "cell_type": "markdown",
   "metadata": {},
   "source": [
    "### Model Training"
   ]
  },
  {
   "cell_type": "code",
   "execution_count": 19,
   "metadata": {},
   "outputs": [],
   "source": [
    "import statsmodels.api as sm"
   ]
  },
  {
   "cell_type": "code",
   "execution_count": 20,
   "metadata": {},
   "outputs": [
    {
     "data": {
      "text/html": [
       "<table class=\"simpletable\">\n",
       "<caption>Generalized Linear Model Regression Results</caption>\n",
       "<tr>\n",
       "  <th>Dep. Variable:</th>       <td>Churn_Yes</td>    <th>  No. Observations:  </th>  <td>  5625</td> \n",
       "</tr>\n",
       "<tr>\n",
       "  <th>Model:</th>                  <td>GLM</td>       <th>  Df Residuals:      </th>  <td>  5601</td> \n",
       "</tr>\n",
       "<tr>\n",
       "  <th>Model Family:</th>        <td>Binomial</td>     <th>  Df Model:          </th>  <td>    23</td> \n",
       "</tr>\n",
       "<tr>\n",
       "  <th>Link Function:</th>         <td>logit</td>      <th>  Scale:             </th> <td>  1.0000</td>\n",
       "</tr>\n",
       "<tr>\n",
       "  <th>Method:</th>                <td>IRLS</td>       <th>  Log-Likelihood:    </th> <td> -2336.9</td>\n",
       "</tr>\n",
       "<tr>\n",
       "  <th>Date:</th>            <td>Tue, 17 Sep 2019</td> <th>  Deviance:          </th> <td>  4673.8</td>\n",
       "</tr>\n",
       "<tr>\n",
       "  <th>Time:</th>                <td>22:11:25</td>     <th>  Pearson chi2:      </th> <td>6.33e+03</td>\n",
       "</tr>\n",
       "<tr>\n",
       "  <th>No. Iterations:</th>          <td>7</td>        <th>                     </th>     <td> </td>   \n",
       "</tr>\n",
       "<tr>\n",
       "  <th>Covariance Type:</th>     <td>nonrobust</td>    <th>                     </th>     <td> </td>   \n",
       "</tr>\n",
       "</table>\n",
       "<table class=\"simpletable\">\n",
       "<tr>\n",
       "                    <td></td>                       <th>coef</th>     <th>std err</th>      <th>z</th>      <th>P>|z|</th>  <th>[0.025</th>    <th>0.975]</th>  \n",
       "</tr>\n",
       "<tr>\n",
       "  <th>const</th>                                 <td>    0.3811</td> <td>    0.411</td> <td>    0.928</td> <td> 0.353</td> <td>   -0.424</td> <td>    1.186</td>\n",
       "</tr>\n",
       "<tr>\n",
       "  <th>tenure</th>                                <td>   -4.3170</td> <td>    0.499</td> <td>   -8.659</td> <td> 0.000</td> <td>   -5.294</td> <td>   -3.340</td>\n",
       "</tr>\n",
       "<tr>\n",
       "  <th>MonthlyCharges</th>                        <td>   -5.1801</td> <td>    3.551</td> <td>   -1.459</td> <td> 0.145</td> <td>  -12.140</td> <td>    1.780</td>\n",
       "</tr>\n",
       "<tr>\n",
       "  <th>TotalCharges</th>                          <td>    2.7237</td> <td>    0.687</td> <td>    3.964</td> <td> 0.000</td> <td>    1.377</td> <td>    4.070</td>\n",
       "</tr>\n",
       "<tr>\n",
       "  <th>SeniorCitizen</th>                         <td>    0.2366</td> <td>    0.094</td> <td>    2.522</td> <td> 0.012</td> <td>    0.053</td> <td>    0.420</td>\n",
       "</tr>\n",
       "<tr>\n",
       "  <th>PhoneService_Yes</th>                      <td>    0.3809</td> <td>    0.558</td> <td>    0.682</td> <td> 0.495</td> <td>   -0.713</td> <td>    1.475</td>\n",
       "</tr>\n",
       "<tr>\n",
       "  <th>Contract_One year</th>                     <td>   -0.6457</td> <td>    0.119</td> <td>   -5.432</td> <td> 0.000</td> <td>   -0.879</td> <td>   -0.413</td>\n",
       "</tr>\n",
       "<tr>\n",
       "  <th>Contract_Two year</th>                     <td>   -1.4395</td> <td>    0.197</td> <td>   -7.303</td> <td> 0.000</td> <td>   -1.826</td> <td>   -1.053</td>\n",
       "</tr>\n",
       "<tr>\n",
       "  <th>PaperlessBilling_Yes</th>                  <td>    0.3031</td> <td>    0.083</td> <td>    3.652</td> <td> 0.000</td> <td>    0.140</td> <td>    0.466</td>\n",
       "</tr>\n",
       "<tr>\n",
       "  <th>PaymentMethod_Credit card (automatic)</th> <td>    0.0618</td> <td>    0.127</td> <td>    0.486</td> <td> 0.627</td> <td>   -0.187</td> <td>    0.311</td>\n",
       "</tr>\n",
       "<tr>\n",
       "  <th>PaymentMethod_Electronic check</th>        <td>    0.3464</td> <td>    0.107</td> <td>    3.247</td> <td> 0.001</td> <td>    0.137</td> <td>    0.556</td>\n",
       "</tr>\n",
       "<tr>\n",
       "  <th>PaymentMethod_Mailed check</th>            <td>   -0.0721</td> <td>    0.129</td> <td>   -0.557</td> <td> 0.577</td> <td>   -0.326</td> <td>    0.182</td>\n",
       "</tr>\n",
       "<tr>\n",
       "  <th>gender_Male</th>                           <td>   -0.0187</td> <td>    0.072</td> <td>   -0.258</td> <td> 0.796</td> <td>   -0.161</td> <td>    0.123</td>\n",
       "</tr>\n",
       "<tr>\n",
       "  <th>Partner_Yes</th>                           <td>   -0.0230</td> <td>    0.087</td> <td>   -0.265</td> <td> 0.791</td> <td>   -0.193</td> <td>    0.147</td>\n",
       "</tr>\n",
       "<tr>\n",
       "  <th>Dependents_Yes</th>                        <td>   -0.1077</td> <td>    0.100</td> <td>   -1.076</td> <td> 0.282</td> <td>   -0.304</td> <td>    0.088</td>\n",
       "</tr>\n",
       "<tr>\n",
       "  <th>MultipleLines_No phone service</th>        <td>    0.0003</td> <td>    0.185</td> <td>    0.001</td> <td> 0.999</td> <td>   -0.362</td> <td>    0.363</td>\n",
       "</tr>\n",
       "<tr>\n",
       "  <th>MultipleLines_Yes</th>                     <td>    0.5151</td> <td>    0.197</td> <td>    2.613</td> <td> 0.009</td> <td>    0.129</td> <td>    0.901</td>\n",
       "</tr>\n",
       "<tr>\n",
       "  <th>InternetService_Fiber optic</th>           <td>    2.0445</td> <td>    0.888</td> <td>    2.302</td> <td> 0.021</td> <td>    0.304</td> <td>    3.785</td>\n",
       "</tr>\n",
       "<tr>\n",
       "  <th>InternetService_No</th>                    <td>   -0.2903</td> <td>    0.128</td> <td>   -2.262</td> <td> 0.024</td> <td>   -0.542</td> <td>   -0.039</td>\n",
       "</tr>\n",
       "<tr>\n",
       "  <th>OnlineSecurity_No internet service</th>    <td>   -0.2903</td> <td>    0.128</td> <td>   -2.262</td> <td> 0.024</td> <td>   -0.542</td> <td>   -0.039</td>\n",
       "</tr>\n",
       "<tr>\n",
       "  <th>OnlineSecurity_Yes</th>                    <td>   -0.0769</td> <td>    0.198</td> <td>   -0.389</td> <td> 0.698</td> <td>   -0.465</td> <td>    0.311</td>\n",
       "</tr>\n",
       "<tr>\n",
       "  <th>OnlineBackup_No internet service</th>      <td>   -0.2903</td> <td>    0.128</td> <td>   -2.262</td> <td> 0.024</td> <td>   -0.542</td> <td>   -0.039</td>\n",
       "</tr>\n",
       "<tr>\n",
       "  <th>OnlineBackup_Yes</th>                      <td>    0.1069</td> <td>    0.195</td> <td>    0.548</td> <td> 0.583</td> <td>   -0.275</td> <td>    0.489</td>\n",
       "</tr>\n",
       "<tr>\n",
       "  <th>DeviceProtection_No internet service</th>  <td>   -0.2903</td> <td>    0.128</td> <td>   -2.262</td> <td> 0.024</td> <td>   -0.542</td> <td>   -0.039</td>\n",
       "</tr>\n",
       "<tr>\n",
       "  <th>DeviceProtection_Yes</th>                  <td>    0.2152</td> <td>    0.197</td> <td>    1.095</td> <td> 0.274</td> <td>   -0.170</td> <td>    0.601</td>\n",
       "</tr>\n",
       "<tr>\n",
       "  <th>TechSupport_No internet service</th>       <td>   -0.2903</td> <td>    0.128</td> <td>   -2.262</td> <td> 0.024</td> <td>   -0.542</td> <td>   -0.039</td>\n",
       "</tr>\n",
       "<tr>\n",
       "  <th>TechSupport_Yes</th>                       <td>   -0.0726</td> <td>    0.201</td> <td>   -0.361</td> <td> 0.718</td> <td>   -0.467</td> <td>    0.322</td>\n",
       "</tr>\n",
       "<tr>\n",
       "  <th>StreamingTV_No internet service</th>       <td>   -0.2903</td> <td>    0.128</td> <td>   -2.262</td> <td> 0.024</td> <td>   -0.542</td> <td>   -0.039</td>\n",
       "</tr>\n",
       "<tr>\n",
       "  <th>StreamingTV_Yes</th>                       <td>    0.7475</td> <td>    0.362</td> <td>    2.063</td> <td> 0.039</td> <td>    0.037</td> <td>    1.458</td>\n",
       "</tr>\n",
       "<tr>\n",
       "  <th>StreamingMovies_No internet service</th>   <td>   -0.2903</td> <td>    0.128</td> <td>   -2.262</td> <td> 0.024</td> <td>   -0.542</td> <td>   -0.039</td>\n",
       "</tr>\n",
       "<tr>\n",
       "  <th>StreamingMovies_Yes</th>                   <td>    0.7826</td> <td>    0.364</td> <td>    2.153</td> <td> 0.031</td> <td>    0.070</td> <td>    1.495</td>\n",
       "</tr>\n",
       "</table>"
      ],
      "text/plain": [
       "<class 'statsmodels.iolib.summary.Summary'>\n",
       "\"\"\"\n",
       "                 Generalized Linear Model Regression Results                  \n",
       "==============================================================================\n",
       "Dep. Variable:              Churn_Yes   No. Observations:                 5625\n",
       "Model:                            GLM   Df Residuals:                     5601\n",
       "Model Family:                Binomial   Df Model:                           23\n",
       "Link Function:                  logit   Scale:                          1.0000\n",
       "Method:                          IRLS   Log-Likelihood:                -2336.9\n",
       "Date:                Tue, 17 Sep 2019   Deviance:                       4673.8\n",
       "Time:                        22:11:25   Pearson chi2:                 6.33e+03\n",
       "No. Iterations:                     7                                         \n",
       "Covariance Type:            nonrobust                                         \n",
       "=========================================================================================================\n",
       "                                            coef    std err          z      P>|z|      [0.025      0.975]\n",
       "---------------------------------------------------------------------------------------------------------\n",
       "const                                     0.3811      0.411      0.928      0.353      -0.424       1.186\n",
       "tenure                                   -4.3170      0.499     -8.659      0.000      -5.294      -3.340\n",
       "MonthlyCharges                           -5.1801      3.551     -1.459      0.145     -12.140       1.780\n",
       "TotalCharges                              2.7237      0.687      3.964      0.000       1.377       4.070\n",
       "SeniorCitizen                             0.2366      0.094      2.522      0.012       0.053       0.420\n",
       "PhoneService_Yes                          0.3809      0.558      0.682      0.495      -0.713       1.475\n",
       "Contract_One year                        -0.6457      0.119     -5.432      0.000      -0.879      -0.413\n",
       "Contract_Two year                        -1.4395      0.197     -7.303      0.000      -1.826      -1.053\n",
       "PaperlessBilling_Yes                      0.3031      0.083      3.652      0.000       0.140       0.466\n",
       "PaymentMethod_Credit card (automatic)     0.0618      0.127      0.486      0.627      -0.187       0.311\n",
       "PaymentMethod_Electronic check            0.3464      0.107      3.247      0.001       0.137       0.556\n",
       "PaymentMethod_Mailed check               -0.0721      0.129     -0.557      0.577      -0.326       0.182\n",
       "gender_Male                              -0.0187      0.072     -0.258      0.796      -0.161       0.123\n",
       "Partner_Yes                              -0.0230      0.087     -0.265      0.791      -0.193       0.147\n",
       "Dependents_Yes                           -0.1077      0.100     -1.076      0.282      -0.304       0.088\n",
       "MultipleLines_No phone service            0.0003      0.185      0.001      0.999      -0.362       0.363\n",
       "MultipleLines_Yes                         0.5151      0.197      2.613      0.009       0.129       0.901\n",
       "InternetService_Fiber optic               2.0445      0.888      2.302      0.021       0.304       3.785\n",
       "InternetService_No                       -0.2903      0.128     -2.262      0.024      -0.542      -0.039\n",
       "OnlineSecurity_No internet service       -0.2903      0.128     -2.262      0.024      -0.542      -0.039\n",
       "OnlineSecurity_Yes                       -0.0769      0.198     -0.389      0.698      -0.465       0.311\n",
       "OnlineBackup_No internet service         -0.2903      0.128     -2.262      0.024      -0.542      -0.039\n",
       "OnlineBackup_Yes                          0.1069      0.195      0.548      0.583      -0.275       0.489\n",
       "DeviceProtection_No internet service     -0.2903      0.128     -2.262      0.024      -0.542      -0.039\n",
       "DeviceProtection_Yes                      0.2152      0.197      1.095      0.274      -0.170       0.601\n",
       "TechSupport_No internet service          -0.2903      0.128     -2.262      0.024      -0.542      -0.039\n",
       "TechSupport_Yes                          -0.0726      0.201     -0.361      0.718      -0.467       0.322\n",
       "StreamingTV_No internet service          -0.2903      0.128     -2.262      0.024      -0.542      -0.039\n",
       "StreamingTV_Yes                           0.7475      0.362      2.063      0.039       0.037       1.458\n",
       "StreamingMovies_No internet service      -0.2903      0.128     -2.262      0.024      -0.542      -0.039\n",
       "StreamingMovies_Yes                       0.7826      0.364      2.153      0.031       0.070       1.495\n",
       "=========================================================================================================\n",
       "\"\"\""
      ]
     },
     "execution_count": 20,
     "metadata": {},
     "output_type": "execute_result"
    }
   ],
   "source": [
    "# first model- Logistic Regression\n",
    "\n",
    "lg_first = sm.GLM( y_train, (sm.add_constant(X_train)),family=sm.families.Binomial())\n",
    "lg_first.fit().summary()"
   ]
  },
  {
   "cell_type": "markdown",
   "metadata": {},
   "source": [
    "From the summary, we can see that there are some variables that have P-values above the 0.05 significance levels. So, we may try to peform variable selection and again do the modeling."
   ]
  },
  {
   "cell_type": "markdown",
   "metadata": {},
   "source": [
    "#### Variable selection with Recursive Feature Elimination (RFE)"
   ]
  },
  {
   "cell_type": "code",
   "execution_count": 21,
   "metadata": {},
   "outputs": [
    {
     "name": "stdout",
     "output_type": "stream",
     "text": [
      "[ True  True  True  True  True  True  True  True False  True False False\n",
      " False False False  True  True  True  True  True False False False False\n",
      " False  True False  True  True  True]\n",
      "[ 1  1  1  1  1  1  1  1  9  1 10 12 11  5  7  1  1  1  1  1  4  8  6 13\n",
      "  2  1  3  1  1  1]\n"
     ]
    }
   ],
   "source": [
    "from sklearn.linear_model import LogisticRegression\n",
    "from sklearn.feature_selection import RFE\n",
    "\n",
    "LR = LogisticRegression()\n",
    "rfe = RFE(LR,n_features_to_select=18)\n",
    "rfe.fit(X_train, y_train)\n",
    "\n",
    "print(rfe.support_)\n",
    "print(rfe.ranking_)"
   ]
  },
  {
   "cell_type": "code",
   "execution_count": 22,
   "metadata": {},
   "outputs": [
    {
     "data": {
      "text/plain": [
       "Index(['tenure', 'MonthlyCharges', 'TotalCharges', 'SeniorCitizen',\n",
       "       'PhoneService_Yes', 'Contract_One year', 'Contract_Two year',\n",
       "       'PaperlessBilling_Yes', 'PaymentMethod_Electronic check',\n",
       "       'MultipleLines_Yes', 'InternetService_Fiber optic',\n",
       "       'InternetService_No', 'OnlineSecurity_No internet service',\n",
       "       'OnlineSecurity_Yes', 'TechSupport_Yes', 'StreamingTV_Yes',\n",
       "       'StreamingMovies_No internet service', 'StreamingMovies_Yes'],\n",
       "      dtype='object')"
      ]
     },
     "execution_count": 22,
     "metadata": {},
     "output_type": "execute_result"
    }
   ],
   "source": [
    "# columns selected by RFE\n",
    "col = X_train.columns[rfe.support_]\n",
    "col"
   ]
  },
  {
   "cell_type": "code",
   "execution_count": 23,
   "metadata": {},
   "outputs": [
    {
     "data": {
      "text/html": [
       "<table class=\"simpletable\">\n",
       "<caption>Generalized Linear Model Regression Results</caption>\n",
       "<tr>\n",
       "  <th>Dep. Variable:</th>       <td>Churn_Yes</td>    <th>  No. Observations:  </th>  <td>  5625</td> \n",
       "</tr>\n",
       "<tr>\n",
       "  <th>Model:</th>                  <td>GLM</td>       <th>  Df Residuals:      </th>  <td>  5608</td> \n",
       "</tr>\n",
       "<tr>\n",
       "  <th>Model Family:</th>        <td>Binomial</td>     <th>  Df Model:          </th>  <td>    16</td> \n",
       "</tr>\n",
       "<tr>\n",
       "  <th>Link Function:</th>         <td>logit</td>      <th>  Scale:             </th> <td>  1.0000</td>\n",
       "</tr>\n",
       "<tr>\n",
       "  <th>Method:</th>                <td>IRLS</td>       <th>  Log-Likelihood:    </th> <td> -2339.1</td>\n",
       "</tr>\n",
       "<tr>\n",
       "  <th>Date:</th>            <td>Tue, 17 Sep 2019</td> <th>  Deviance:          </th> <td>  4678.2</td>\n",
       "</tr>\n",
       "<tr>\n",
       "  <th>Time:</th>                <td>22:11:26</td>     <th>  Pearson chi2:      </th> <td>6.36e+03</td>\n",
       "</tr>\n",
       "<tr>\n",
       "  <th>No. Iterations:</th>          <td>7</td>        <th>                     </th>     <td> </td>   \n",
       "</tr>\n",
       "<tr>\n",
       "  <th>Covariance Type:</th>     <td>nonrobust</td>    <th>                     </th>     <td> </td>   \n",
       "</tr>\n",
       "</table>\n",
       "<table class=\"simpletable\">\n",
       "<tr>\n",
       "                   <td></td>                      <th>coef</th>     <th>std err</th>      <th>z</th>      <th>P>|z|</th>  <th>[0.025</th>    <th>0.975]</th>  \n",
       "</tr>\n",
       "<tr>\n",
       "  <th>const</th>                               <td>    0.1274</td> <td>    0.190</td> <td>    0.669</td> <td> 0.503</td> <td>   -0.246</td> <td>    0.501</td>\n",
       "</tr>\n",
       "<tr>\n",
       "  <th>tenure</th>                              <td>   -4.2950</td> <td>    0.489</td> <td>   -8.789</td> <td> 0.000</td> <td>   -5.253</td> <td>   -3.337</td>\n",
       "</tr>\n",
       "<tr>\n",
       "  <th>MonthlyCharges</th>                      <td>   -2.2996</td> <td>    1.180</td> <td>   -1.949</td> <td> 0.051</td> <td>   -4.612</td> <td>    0.012</td>\n",
       "</tr>\n",
       "<tr>\n",
       "  <th>TotalCharges</th>                        <td>    2.6996</td> <td>    0.682</td> <td>    3.959</td> <td> 0.000</td> <td>    1.363</td> <td>    4.036</td>\n",
       "</tr>\n",
       "<tr>\n",
       "  <th>SeniorCitizen</th>                       <td>    0.2553</td> <td>    0.092</td> <td>    2.769</td> <td> 0.006</td> <td>    0.075</td> <td>    0.436</td>\n",
       "</tr>\n",
       "<tr>\n",
       "  <th>PhoneService_Yes</th>                    <td>   -0.1980</td> <td>    0.270</td> <td>   -0.734</td> <td> 0.463</td> <td>   -0.726</td> <td>    0.330</td>\n",
       "</tr>\n",
       "<tr>\n",
       "  <th>Contract_One year</th>                   <td>   -0.6479</td> <td>    0.118</td> <td>   -5.473</td> <td> 0.000</td> <td>   -0.880</td> <td>   -0.416</td>\n",
       "</tr>\n",
       "<tr>\n",
       "  <th>Contract_Two year</th>                   <td>   -1.4401</td> <td>    0.196</td> <td>   -7.337</td> <td> 0.000</td> <td>   -1.825</td> <td>   -1.055</td>\n",
       "</tr>\n",
       "<tr>\n",
       "  <th>PaperlessBilling_Yes</th>                <td>    0.3125</td> <td>    0.083</td> <td>    3.776</td> <td> 0.000</td> <td>    0.150</td> <td>    0.475</td>\n",
       "</tr>\n",
       "<tr>\n",
       "  <th>PaymentMethod_Electronic check</th>      <td>    0.3505</td> <td>    0.077</td> <td>    4.524</td> <td> 0.000</td> <td>    0.199</td> <td>    0.502</td>\n",
       "</tr>\n",
       "<tr>\n",
       "  <th>MultipleLines_Yes</th>                   <td>    0.3746</td> <td>    0.106</td> <td>    3.528</td> <td> 0.000</td> <td>    0.167</td> <td>    0.583</td>\n",
       "</tr>\n",
       "<tr>\n",
       "  <th>InternetService_Fiber optic</th>         <td>    1.3441</td> <td>    0.307</td> <td>    4.385</td> <td> 0.000</td> <td>    0.743</td> <td>    1.945</td>\n",
       "</tr>\n",
       "<tr>\n",
       "  <th>InternetService_No</th>                  <td>   -0.4461</td> <td>    0.117</td> <td>   -3.825</td> <td> 0.000</td> <td>   -0.675</td> <td>   -0.218</td>\n",
       "</tr>\n",
       "<tr>\n",
       "  <th>OnlineSecurity_No internet service</th>  <td>   -0.4461</td> <td>    0.117</td> <td>   -3.825</td> <td> 0.000</td> <td>   -0.675</td> <td>   -0.218</td>\n",
       "</tr>\n",
       "<tr>\n",
       "  <th>OnlineSecurity_Yes</th>                  <td>   -0.2205</td> <td>    0.111</td> <td>   -1.987</td> <td> 0.047</td> <td>   -0.438</td> <td>   -0.003</td>\n",
       "</tr>\n",
       "<tr>\n",
       "  <th>TechSupport_Yes</th>                     <td>   -0.2143</td> <td>    0.114</td> <td>   -1.887</td> <td> 0.059</td> <td>   -0.437</td> <td>    0.008</td>\n",
       "</tr>\n",
       "<tr>\n",
       "  <th>StreamingTV_Yes</th>                     <td>    0.4696</td> <td>    0.150</td> <td>    3.122</td> <td> 0.002</td> <td>    0.175</td> <td>    0.764</td>\n",
       "</tr>\n",
       "<tr>\n",
       "  <th>StreamingMovies_No internet service</th> <td>   -0.4461</td> <td>    0.117</td> <td>   -3.825</td> <td> 0.000</td> <td>   -0.675</td> <td>   -0.218</td>\n",
       "</tr>\n",
       "<tr>\n",
       "  <th>StreamingMovies_Yes</th>                 <td>    0.5094</td> <td>    0.149</td> <td>    3.410</td> <td> 0.001</td> <td>    0.217</td> <td>    0.802</td>\n",
       "</tr>\n",
       "</table>"
      ],
      "text/plain": [
       "<class 'statsmodels.iolib.summary.Summary'>\n",
       "\"\"\"\n",
       "                 Generalized Linear Model Regression Results                  \n",
       "==============================================================================\n",
       "Dep. Variable:              Churn_Yes   No. Observations:                 5625\n",
       "Model:                            GLM   Df Residuals:                     5608\n",
       "Model Family:                Binomial   Df Model:                           16\n",
       "Link Function:                  logit   Scale:                          1.0000\n",
       "Method:                          IRLS   Log-Likelihood:                -2339.1\n",
       "Date:                Tue, 17 Sep 2019   Deviance:                       4678.2\n",
       "Time:                        22:11:26   Pearson chi2:                 6.36e+03\n",
       "No. Iterations:                     7                                         \n",
       "Covariance Type:            nonrobust                                         \n",
       "=======================================================================================================\n",
       "                                          coef    std err          z      P>|z|      [0.025      0.975]\n",
       "-------------------------------------------------------------------------------------------------------\n",
       "const                                   0.1274      0.190      0.669      0.503      -0.246       0.501\n",
       "tenure                                 -4.2950      0.489     -8.789      0.000      -5.253      -3.337\n",
       "MonthlyCharges                         -2.2996      1.180     -1.949      0.051      -4.612       0.012\n",
       "TotalCharges                            2.6996      0.682      3.959      0.000       1.363       4.036\n",
       "SeniorCitizen                           0.2553      0.092      2.769      0.006       0.075       0.436\n",
       "PhoneService_Yes                       -0.1980      0.270     -0.734      0.463      -0.726       0.330\n",
       "Contract_One year                      -0.6479      0.118     -5.473      0.000      -0.880      -0.416\n",
       "Contract_Two year                      -1.4401      0.196     -7.337      0.000      -1.825      -1.055\n",
       "PaperlessBilling_Yes                    0.3125      0.083      3.776      0.000       0.150       0.475\n",
       "PaymentMethod_Electronic check          0.3505      0.077      4.524      0.000       0.199       0.502\n",
       "MultipleLines_Yes                       0.3746      0.106      3.528      0.000       0.167       0.583\n",
       "InternetService_Fiber optic             1.3441      0.307      4.385      0.000       0.743       1.945\n",
       "InternetService_No                     -0.4461      0.117     -3.825      0.000      -0.675      -0.218\n",
       "OnlineSecurity_No internet service     -0.4461      0.117     -3.825      0.000      -0.675      -0.218\n",
       "OnlineSecurity_Yes                     -0.2205      0.111     -1.987      0.047      -0.438      -0.003\n",
       "TechSupport_Yes                        -0.2143      0.114     -1.887      0.059      -0.437       0.008\n",
       "StreamingTV_Yes                         0.4696      0.150      3.122      0.002       0.175       0.764\n",
       "StreamingMovies_No internet service    -0.4461      0.117     -3.825      0.000      -0.675      -0.218\n",
       "StreamingMovies_Yes                     0.5094      0.149      3.410      0.001       0.217       0.802\n",
       "=======================================================================================================\n",
       "\"\"\""
      ]
     },
     "execution_count": 23,
     "metadata": {},
     "output_type": "execute_result"
    }
   ],
   "source": [
    "# Again train the logistic regression with the selected features\n",
    "lg_second = sm.GLM(y_train, (sm.add_constant(X_train[col])), family=sm.families.Binomial())\n",
    "lg_second.fit().summary()"
   ]
  },
  {
   "cell_type": "markdown",
   "metadata": {},
   "source": [
    "We can now see that almost all the variables have p-values less than 0.05. "
   ]
  },
  {
   "cell_type": "code",
   "execution_count": 24,
   "metadata": {},
   "outputs": [
    {
     "data": {
      "text/plain": [
       "LogisticRegression(C=1.0, class_weight=None, dual=False, fit_intercept=True,\n",
       "          intercept_scaling=1, max_iter=100, multi_class='warn',\n",
       "          n_jobs=None, penalty='l2', random_state=None, solver='warn',\n",
       "          tol=0.0001, verbose=0, warm_start=False)"
      ]
     },
     "execution_count": 24,
     "metadata": {},
     "output_type": "execute_result"
    }
   ],
   "source": [
    "# Fitting the final model\n",
    "LR_final = LogisticRegression()\n",
    "LR_final.fit(X_train[col],y_train)"
   ]
  },
  {
   "cell_type": "code",
   "execution_count": 25,
   "metadata": {},
   "outputs": [],
   "source": [
    "# predictions in test data\n",
    "pred_test = LR_final.predict_proba(X_test[col])"
   ]
  },
  {
   "cell_type": "code",
   "execution_count": 26,
   "metadata": {},
   "outputs": [
    {
     "data": {
      "text/plain": [
       "array([[0.99652835, 0.00347165],\n",
       "       [0.33353666, 0.66646334],\n",
       "       [0.92546239, 0.07453761],\n",
       "       ...,\n",
       "       [0.92284442, 0.07715558],\n",
       "       [0.9345278 , 0.0654722 ],\n",
       "       [0.83217364, 0.16782636]])"
      ]
     },
     "execution_count": 26,
     "metadata": {},
     "output_type": "execute_result"
    }
   ],
   "source": [
    "pred_test"
   ]
  },
  {
   "cell_type": "code",
   "execution_count": 27,
   "metadata": {},
   "outputs": [
    {
     "name": "stdout",
     "output_type": "stream",
     "text": [
      "[0.8423825  0.8322082  0.83719379 0.86152104 0.84239482 0.85255663\n",
      " 0.86127832 0.822411   0.83555016 0.85486246]\n",
      "\n",
      "The average auc score is 0.8442358925457158\n"
     ]
    }
   ],
   "source": [
    "# AUC score\n",
    "from sklearn import metrics\n",
    "from sklearn.model_selection import cross_val_score\n",
    "\n",
    "# auc score with cross validation\n",
    "auc_cv_score = cross_val_score(LR_final,X_train[col],y_train,scoring = 'roc_auc', cv = 10)\n",
    "\n",
    "#auc_score = metrics.roc_auc_score(y_test,pred_test[:,1])\n",
    "#auc_score\n",
    "print(auc_cv_score)\n",
    "print()\n",
    "print(\"The average auc score is {}\".format(np.mean(auc_cv_score)))"
   ]
  },
  {
   "cell_type": "code",
   "execution_count": 28,
   "metadata": {},
   "outputs": [
    {
     "data": {
      "text/plain": [
       "<matplotlib.legend.Legend at 0x1e54dac27f0>"
      ]
     },
     "execution_count": 28,
     "metadata": {},
     "output_type": "execute_result"
    },
    {
     "data": {
      "image/png": "[encoded data removed]",
      "text/plain": [
       "<matplotlib.figure.Figure at 0x1e54da835c0>"
      ]
     },
     "metadata": {},
     "output_type": "display_data"
    }
   ],
   "source": [
    "# AUC plot\n",
    "auc_score = metrics.roc_auc_score(y_test,pred_test[:,1])\n",
    "fpr,tpr, thresholds = metrics.roc_curve(y_test,pred_test[:,1])\n",
    "\n",
    "plt.plot(fpr,tpr, label = \"AUC %0.2f\" % auc_score)\n",
    "plt.plot([0,1],[0,1], 'k--')\n",
    "plt.xlabel('True Positive Rate (tpr)')\n",
    "plt.ylabel('False Positive Rate (fpr)')\n",
    "plt.legend(loc = 'lower right')"
   ]
  },
  {
   "cell_type": "code",
   "execution_count": 29,
   "metadata": {},
   "outputs": [
    {
     "name": "stdout",
     "output_type": "stream",
     "text": [
      "              precision    recall  f1-score   support\n",
      "\n",
      "           0       0.84      0.89      0.86      1041\n",
      "           1       0.62      0.53      0.57       366\n",
      "\n",
      "   micro avg       0.79      0.79      0.79      1407\n",
      "   macro avg       0.73      0.71      0.72      1407\n",
      "weighted avg       0.79      0.79      0.79      1407\n",
      "\n"
     ]
    }
   ],
   "source": [
    "# Classification report\n",
    "pred_class = LR_final.predict(X_test[col])\n",
    "print(metrics.classification_report(y_test, pred_class))"
   ]
  },
  {
   "cell_type": "code",
   "execution_count": 30,
   "metadata": {},
   "outputs": [
    {
     "name": "stdout",
     "output_type": "stream",
     "text": [
      "[[923 118]\n",
      " [171 195]]\n"
     ]
    },
    {
     "data": {
      "text/plain": [
       "<matplotlib.axes._subplots.AxesSubplot at 0x1e54f259f98>"
      ]
     },
     "execution_count": 30,
     "metadata": {},
     "output_type": "execute_result"
    },
    {
     "data": {
      "image/png": "[encoded data removed]",
      "text/plain": [
       "<matplotlib.figure.Figure at 0x1e54dbd0d68>"
      ]
     },
     "metadata": {},
     "output_type": "display_data"
    }
   ],
   "source": [
    "# confusion matrix\n",
    "import seaborn as sns\n",
    "cm = metrics.confusion_matrix(y_test, pred_class)\n",
    "print(cm)\n",
    "sns.heatmap(cm, annot = True,)"
   ]
  },
  {
   "cell_type": "code",
   "execution_count": 31,
   "metadata": {},
   "outputs": [
    {
     "data": {
      "text/plain": [
       "XGBClassifier(base_score=0.5, booster='gbtree', colsample_bylevel=1,\n",
       "       colsample_bytree=1, gamma=0, learning_rate=0.1, max_delta_step=0,\n",
       "       max_depth=3, min_child_weight=1, missing=None, n_estimators=100,\n",
       "       n_jobs=1, nthread=None, objective='binary:logistic', random_state=0,\n",
       "       reg_alpha=0, reg_lambda=1, scale_pos_weight=1, seed=None,\n",
       "       silent=True, subsample=1)"
      ]
     },
     "execution_count": 31,
     "metadata": {},
     "output_type": "execute_result"
    }
   ],
   "source": [
    "# XgBoost\n",
    "import xgboost as xgb\n",
    "\n",
    "xgb_model = xgb.XGBClassifier()\n",
    "xgb_model.fit(X_train[col], y_train)"
   ]
  },
  {
   "cell_type": "code",
   "execution_count": 32,
   "metadata": {},
   "outputs": [],
   "source": [
    "pred_xgb = xgb_model.predict_proba(X_test[col])"
   ]
  },
  {
   "cell_type": "code",
   "execution_count": 33,
   "metadata": {},
   "outputs": [
    {
     "data": {
      "text/plain": [
       "0.8517188705689674"
      ]
     },
     "execution_count": 33,
     "metadata": {},
     "output_type": "execute_result"
    }
   ],
   "source": [
    "# auc\n",
    "metrics.roc_auc_score(y_test, pred_xgb[:,1])"
   ]
  },
  {
   "cell_type": "code",
   "execution_count": null,
   "metadata": {},
   "outputs": [],
   "source": []
  }
 ],
 "metadata": {
  "kernelspec": {
   "display_name": "Python 3",
   "language": "python",
   "name": "python3"
  },
  "language_info": {
   "codemirror_mode": {
    "name": "ipython",
    "version": 3
   },
   "file_extension": ".py",
   "mimetype": "text/x-python",
   "name": "python",
   "nbconvert_exporter": "python",
   "pygments_lexer": "ipython3",
   "version": "3.6.3"
  }
 },
 "nbformat": 4,
 "nbformat_minor": 2
}

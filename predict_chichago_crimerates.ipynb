{
 "cells": [
  {
   "cell_type": "markdown",
   "metadata": {},
   "source": [
    "### PREDICTING CRIME RATE IN CHICAGO USING FACEBOOK PROPHET"
   ]
  },
  {
   "cell_type": "markdown",
   "metadata": {},
   "source": [
    "- The Chicago Crime dataset contains a summary of the reported crimes occurred in the City of Chicago from 2001 to 2017. \n",
    "- Dataset has been obtained from the Chicago Police Department's CLEAR (Citizen Law Enforcement Analysis and Reporting) system.\n",
    "- Dataset contains the following columns: \n",
    "    - ID: Unique identifier for the record.\n",
    "    - Case Number: The Chicago Police Department RD Number (Records Division Number), which is unique to the incident.\n",
    "    - Date: Date when the incident occurred.\n",
    "    - Block: address where the incident occurred\n",
    "    - IUCR: The Illinois Unifrom Crime Reporting code.\n",
    "    - Primary Type: The primary description of the IUCR code.\n",
    "    - Description: The secondary description of the IUCR code, a subcategory of the primary description.\n",
    "    - Location Description: Description of the location where the incident occurred.\n",
    "    - Arrest: Indicates whether an arrest was made.\n",
    "    - Domestic: Indicates whether the incident was domestic-related as defined by the Illinois Domestic Violence Act.\n",
    "    - Beat: Indicates the beat where the incident occurred. A beat is the smallest police geographic area – each beat has a dedicated police beat car. \n",
    "    - District: Indicates the police district where the incident occurred. \n",
    "    - Ward: The ward (City Council district) where the incident occurred. \n",
    "    - Community Area: Indicates the community area where the incident occurred. Chicago has 77 community areas. \n",
    "    - FBI Code: Indicates the crime classification as outlined in the FBI's National Incident-Based Reporting System (NIBRS). \n",
    "    - X Coordinate: The x coordinate of the location where the incident occurred in State Plane Illinois East NAD 1983 projection. \n",
    "    - Y Coordinate: The y coordinate of the location where the incident occurred in State Plane Illinois East NAD 1983 projection. \n",
    "    - Year: Year the incident occurred.\n",
    "    - Updated On: Date and time the record was last updated.\n",
    "    - Latitude: The latitude of the location where the incident occurred. This location is shifted from the actual location for partial redaction but falls on the same block.\n",
    "    - Longitude: The longitude of the location where the incident occurred. This location is shifted from the actual location for partial redaction but falls on the same block.\n",
    "    - Location: The location where the incident occurred in a format that allows for creation of maps and other geographic operations on this data portal. This location is shifted from the actual location for partial redaction but falls on the same block.\n",
    "- Datasource: https://www.kaggle.com/currie32/crimes-in-chicago"
   ]
  },
  {
   "cell_type": "code",
   "execution_count": 1,
   "metadata": {},
   "outputs": [],
   "source": [
    "# Libraries\n",
    "import pandas as pd \n",
    "import numpy as np \n",
    "import matplotlib.pyplot as plt\n",
    "import random\n",
    "import seaborn as sns\n",
    "from fbprophet import Prophet"
   ]
  },
  {
   "cell_type": "markdown",
   "metadata": {},
   "source": [
    "### Dataset"
   ]
  },
  {
   "cell_type": "code",
   "execution_count": 2,
   "metadata": {},
   "outputs": [
    {
     "name": "stderr",
     "output_type": "stream",
     "text": [
      "b'Skipping line 533719: expected 23 fields, saw 24\\n'\n",
      "b'Skipping line 1149094: expected 23 fields, saw 41\\n'\n"
     ]
    }
   ],
   "source": [
    "# dataframes creation for both training and testing datasets \n",
    "chicago_df_1 = pd.read_csv('Chicago_Crimes_2005_to_2007.csv', error_bad_lines=False)\n",
    "chicago_df_2 = pd.read_csv('Chicago_Crimes_2008_to_2011.csv', error_bad_lines=False)\n",
    "chicago_df_3 = pd.read_csv('Chicago_Crimes_2012_to_2017.csv', error_bad_lines=False)"
   ]
  },
  {
   "cell_type": "code",
   "execution_count": 3,
   "metadata": {},
   "outputs": [],
   "source": [
    "# combine that datasets\n",
    "chicago_df = pd.concat([chicago_df_1, chicago_df_2, chicago_df_3], ignore_index=False, axis=0)"
   ]
  },
  {
   "cell_type": "markdown",
   "metadata": {},
   "source": [
    "### Exploring the data"
   ]
  },
  {
   "cell_type": "code",
   "execution_count": 4,
   "metadata": {},
   "outputs": [
    {
     "data": {
      "text/plain": [
       "(6017767, 23)"
      ]
     },
     "execution_count": 4,
     "metadata": {},
     "output_type": "execute_result"
    }
   ],
   "source": [
    "chicago_df.shape"
   ]
  },
  {
   "cell_type": "code",
   "execution_count": 5,
   "metadata": {},
   "outputs": [
    {
     "data": {
      "text/html": [
       "<div>\n",
       "<style scoped>\n",
       "    .dataframe tbody tr th:only-of-type {\n",
       "        vertical-align: middle;\n",
       "    }\n",
       "\n",
       "    .dataframe tbody tr th {\n",
       "        vertical-align: top;\n",
       "    }\n",
       "\n",
       "    .dataframe thead th {\n",
       "        text-align: right;\n",
       "    }\n",
       "</style>\n",
       "<table border=\"1\" class=\"dataframe\">\n",
       "  <thead>\n",
       "    <tr style=\"text-align: right;\">\n",
       "      <th></th>\n",
       "      <th>Unnamed: 0</th>\n",
       "      <th>ID</th>\n",
       "      <th>Case Number</th>\n",
       "      <th>Date</th>\n",
       "      <th>Block</th>\n",
       "      <th>IUCR</th>\n",
       "      <th>Primary Type</th>\n",
       "      <th>Description</th>\n",
       "      <th>Location Description</th>\n",
       "      <th>Arrest</th>\n",
       "      <th>...</th>\n",
       "      <th>Ward</th>\n",
       "      <th>Community Area</th>\n",
       "      <th>FBI Code</th>\n",
       "      <th>X Coordinate</th>\n",
       "      <th>Y Coordinate</th>\n",
       "      <th>Year</th>\n",
       "      <th>Updated On</th>\n",
       "      <th>Latitude</th>\n",
       "      <th>Longitude</th>\n",
       "      <th>Location</th>\n",
       "    </tr>\n",
       "  </thead>\n",
       "  <tbody>\n",
       "    <tr>\n",
       "      <td>0</td>\n",
       "      <td>0</td>\n",
       "      <td>4673626</td>\n",
       "      <td>HM274058</td>\n",
       "      <td>04/02/2006 01:00:00 PM</td>\n",
       "      <td>055XX N MANGO AVE</td>\n",
       "      <td>2825</td>\n",
       "      <td>OTHER OFFENSE</td>\n",
       "      <td>HARASSMENT BY TELEPHONE</td>\n",
       "      <td>RESIDENCE</td>\n",
       "      <td>False</td>\n",
       "      <td>...</td>\n",
       "      <td>45.0</td>\n",
       "      <td>11.0</td>\n",
       "      <td>26</td>\n",
       "      <td>1136872.0</td>\n",
       "      <td>1936499.0</td>\n",
       "      <td>2006</td>\n",
       "      <td>04/15/2016 08:55:02 AM</td>\n",
       "      <td>41.981913</td>\n",
       "      <td>-87.771996</td>\n",
       "      <td>(41.981912692, -87.771996382)</td>\n",
       "    </tr>\n",
       "    <tr>\n",
       "      <td>1</td>\n",
       "      <td>1</td>\n",
       "      <td>4673627</td>\n",
       "      <td>HM202199</td>\n",
       "      <td>02/26/2006 01:40:48 PM</td>\n",
       "      <td>065XX S RHODES AVE</td>\n",
       "      <td>2017</td>\n",
       "      <td>NARCOTICS</td>\n",
       "      <td>MANU/DELIVER:CRACK</td>\n",
       "      <td>SIDEWALK</td>\n",
       "      <td>True</td>\n",
       "      <td>...</td>\n",
       "      <td>20.0</td>\n",
       "      <td>42.0</td>\n",
       "      <td>18</td>\n",
       "      <td>1181027.0</td>\n",
       "      <td>1861693.0</td>\n",
       "      <td>2006</td>\n",
       "      <td>04/15/2016 08:55:02 AM</td>\n",
       "      <td>41.775733</td>\n",
       "      <td>-87.611920</td>\n",
       "      <td>(41.775732538, -87.611919814)</td>\n",
       "    </tr>\n",
       "    <tr>\n",
       "      <td>2</td>\n",
       "      <td>2</td>\n",
       "      <td>4673628</td>\n",
       "      <td>HM113861</td>\n",
       "      <td>01/08/2006 11:16:00 PM</td>\n",
       "      <td>013XX E 69TH ST</td>\n",
       "      <td>051A</td>\n",
       "      <td>ASSAULT</td>\n",
       "      <td>AGGRAVATED: HANDGUN</td>\n",
       "      <td>OTHER</td>\n",
       "      <td>False</td>\n",
       "      <td>...</td>\n",
       "      <td>5.0</td>\n",
       "      <td>69.0</td>\n",
       "      <td>04A</td>\n",
       "      <td>1186023.0</td>\n",
       "      <td>1859609.0</td>\n",
       "      <td>2006</td>\n",
       "      <td>04/15/2016 08:55:02 AM</td>\n",
       "      <td>41.769897</td>\n",
       "      <td>-87.593671</td>\n",
       "      <td>(41.769897392, -87.593670899)</td>\n",
       "    </tr>\n",
       "    <tr>\n",
       "      <td>3</td>\n",
       "      <td>4</td>\n",
       "      <td>4673629</td>\n",
       "      <td>HM274049</td>\n",
       "      <td>04/05/2006 06:45:00 PM</td>\n",
       "      <td>061XX W NEWPORT AVE</td>\n",
       "      <td>0460</td>\n",
       "      <td>BATTERY</td>\n",
       "      <td>SIMPLE</td>\n",
       "      <td>RESIDENCE</td>\n",
       "      <td>False</td>\n",
       "      <td>...</td>\n",
       "      <td>38.0</td>\n",
       "      <td>17.0</td>\n",
       "      <td>08B</td>\n",
       "      <td>1134772.0</td>\n",
       "      <td>1922299.0</td>\n",
       "      <td>2006</td>\n",
       "      <td>04/15/2016 08:55:02 AM</td>\n",
       "      <td>41.942984</td>\n",
       "      <td>-87.780057</td>\n",
       "      <td>(41.942984005, -87.780056951)</td>\n",
       "    </tr>\n",
       "    <tr>\n",
       "      <td>4</td>\n",
       "      <td>5</td>\n",
       "      <td>4673630</td>\n",
       "      <td>HM187120</td>\n",
       "      <td>02/17/2006 09:03:14 PM</td>\n",
       "      <td>037XX W 60TH ST</td>\n",
       "      <td>1811</td>\n",
       "      <td>NARCOTICS</td>\n",
       "      <td>POSS: CANNABIS 30GMS OR LESS</td>\n",
       "      <td>ALLEY</td>\n",
       "      <td>True</td>\n",
       "      <td>...</td>\n",
       "      <td>13.0</td>\n",
       "      <td>65.0</td>\n",
       "      <td>18</td>\n",
       "      <td>1152412.0</td>\n",
       "      <td>1864560.0</td>\n",
       "      <td>2006</td>\n",
       "      <td>04/15/2016 08:55:02 AM</td>\n",
       "      <td>41.784211</td>\n",
       "      <td>-87.716745</td>\n",
       "      <td>(41.784210853, -87.71674491)</td>\n",
       "    </tr>\n",
       "  </tbody>\n",
       "</table>\n",
       "<p>5 rows × 23 columns</p>\n",
       "</div>"
      ],
      "text/plain": [
       "   Unnamed: 0       ID Case Number                    Date  \\\n",
       "0           0  4673626    HM274058  04/02/2006 01:00:00 PM   \n",
       "1           1  4673627    HM202199  02/26/2006 01:40:48 PM   \n",
       "2           2  4673628    HM113861  01/08/2006 11:16:00 PM   \n",
       "3           4  4673629    HM274049  04/05/2006 06:45:00 PM   \n",
       "4           5  4673630    HM187120  02/17/2006 09:03:14 PM   \n",
       "\n",
       "                 Block  IUCR   Primary Type                   Description  \\\n",
       "0    055XX N MANGO AVE  2825  OTHER OFFENSE       HARASSMENT BY TELEPHONE   \n",
       "1   065XX S RHODES AVE  2017      NARCOTICS            MANU/DELIVER:CRACK   \n",
       "2      013XX E 69TH ST  051A        ASSAULT           AGGRAVATED: HANDGUN   \n",
       "3  061XX W NEWPORT AVE  0460        BATTERY                        SIMPLE   \n",
       "4      037XX W 60TH ST  1811      NARCOTICS  POSS: CANNABIS 30GMS OR LESS   \n",
       "\n",
       "  Location Description  Arrest  ...  Ward  Community Area  FBI Code  \\\n",
       "0            RESIDENCE   False  ...  45.0            11.0        26   \n",
       "1             SIDEWALK    True  ...  20.0            42.0        18   \n",
       "2                OTHER   False  ...   5.0            69.0       04A   \n",
       "3            RESIDENCE   False  ...  38.0            17.0       08B   \n",
       "4                ALLEY    True  ...  13.0            65.0        18   \n",
       "\n",
       "   X Coordinate  Y Coordinate  Year              Updated On   Latitude  \\\n",
       "0     1136872.0     1936499.0  2006  04/15/2016 08:55:02 AM  41.981913   \n",
       "1     1181027.0     1861693.0  2006  04/15/2016 08:55:02 AM  41.775733   \n",
       "2     1186023.0     1859609.0  2006  04/15/2016 08:55:02 AM  41.769897   \n",
       "3     1134772.0     1922299.0  2006  04/15/2016 08:55:02 AM  41.942984   \n",
       "4     1152412.0     1864560.0  2006  04/15/2016 08:55:02 AM  41.784211   \n",
       "\n",
       "   Longitude                       Location  \n",
       "0 -87.771996  (41.981912692, -87.771996382)  \n",
       "1 -87.611920  (41.775732538, -87.611919814)  \n",
       "2 -87.593671  (41.769897392, -87.593670899)  \n",
       "3 -87.780057  (41.942984005, -87.780056951)  \n",
       "4 -87.716745   (41.784210853, -87.71674491)  \n",
       "\n",
       "[5 rows x 23 columns]"
      ]
     },
     "execution_count": 5,
     "metadata": {},
     "output_type": "execute_result"
    }
   ],
   "source": [
    "chicago_df.head()"
   ]
  },
  {
   "cell_type": "code",
   "execution_count": 6,
   "metadata": {},
   "outputs": [
    {
     "name": "stdout",
     "output_type": "stream",
     "text": [
      "<class 'pandas.core.frame.DataFrame'>\n",
      "Int64Index: 6017767 entries, 0 to 1456713\n",
      "Data columns (total 23 columns):\n",
      "Unnamed: 0              int64\n",
      "ID                      int64\n",
      "Case Number             object\n",
      "Date                    object\n",
      "Block                   object\n",
      "IUCR                    object\n",
      "Primary Type            object\n",
      "Description             object\n",
      "Location Description    object\n",
      "Arrest                  bool\n",
      "Domestic                bool\n",
      "Beat                    int64\n",
      "District                float64\n",
      "Ward                    float64\n",
      "Community Area          float64\n",
      "FBI Code                object\n",
      "X Coordinate            float64\n",
      "Y Coordinate            float64\n",
      "Year                    int64\n",
      "Updated On              object\n",
      "Latitude                float64\n",
      "Longitude               float64\n",
      "Location                object\n",
      "dtypes: bool(2), float64(7), int64(4), object(10)\n",
      "memory usage: 1021.5+ MB\n"
     ]
    }
   ],
   "source": [
    "chicago_df.info()"
   ]
  },
  {
   "cell_type": "code",
   "execution_count": 7,
   "metadata": {},
   "outputs": [
    {
     "data": {
      "text/html": [
       "<div>\n",
       "<style scoped>\n",
       "    .dataframe tbody tr th:only-of-type {\n",
       "        vertical-align: middle;\n",
       "    }\n",
       "\n",
       "    .dataframe tbody tr th {\n",
       "        vertical-align: top;\n",
       "    }\n",
       "\n",
       "    .dataframe thead th {\n",
       "        text-align: right;\n",
       "    }\n",
       "</style>\n",
       "<table border=\"1\" class=\"dataframe\">\n",
       "  <thead>\n",
       "    <tr style=\"text-align: right;\">\n",
       "      <th></th>\n",
       "      <th>Date</th>\n",
       "      <th>Block</th>\n",
       "      <th>Primary Type</th>\n",
       "      <th>Description</th>\n",
       "      <th>Location Description</th>\n",
       "      <th>Arrest</th>\n",
       "      <th>Domestic</th>\n",
       "    </tr>\n",
       "  </thead>\n",
       "  <tbody>\n",
       "    <tr>\n",
       "      <td>0</td>\n",
       "      <td>04/02/2006 01:00:00 PM</td>\n",
       "      <td>055XX N MANGO AVE</td>\n",
       "      <td>OTHER OFFENSE</td>\n",
       "      <td>HARASSMENT BY TELEPHONE</td>\n",
       "      <td>RESIDENCE</td>\n",
       "      <td>False</td>\n",
       "      <td>False</td>\n",
       "    </tr>\n",
       "    <tr>\n",
       "      <td>1</td>\n",
       "      <td>02/26/2006 01:40:48 PM</td>\n",
       "      <td>065XX S RHODES AVE</td>\n",
       "      <td>NARCOTICS</td>\n",
       "      <td>MANU/DELIVER:CRACK</td>\n",
       "      <td>SIDEWALK</td>\n",
       "      <td>True</td>\n",
       "      <td>False</td>\n",
       "    </tr>\n",
       "    <tr>\n",
       "      <td>2</td>\n",
       "      <td>01/08/2006 11:16:00 PM</td>\n",
       "      <td>013XX E 69TH ST</td>\n",
       "      <td>ASSAULT</td>\n",
       "      <td>AGGRAVATED: HANDGUN</td>\n",
       "      <td>OTHER</td>\n",
       "      <td>False</td>\n",
       "      <td>False</td>\n",
       "    </tr>\n",
       "    <tr>\n",
       "      <td>3</td>\n",
       "      <td>04/05/2006 06:45:00 PM</td>\n",
       "      <td>061XX W NEWPORT AVE</td>\n",
       "      <td>BATTERY</td>\n",
       "      <td>SIMPLE</td>\n",
       "      <td>RESIDENCE</td>\n",
       "      <td>False</td>\n",
       "      <td>False</td>\n",
       "    </tr>\n",
       "    <tr>\n",
       "      <td>4</td>\n",
       "      <td>02/17/2006 09:03:14 PM</td>\n",
       "      <td>037XX W 60TH ST</td>\n",
       "      <td>NARCOTICS</td>\n",
       "      <td>POSS: CANNABIS 30GMS OR LESS</td>\n",
       "      <td>ALLEY</td>\n",
       "      <td>True</td>\n",
       "      <td>False</td>\n",
       "    </tr>\n",
       "  </tbody>\n",
       "</table>\n",
       "</div>"
      ],
      "text/plain": [
       "                     Date                Block   Primary Type  \\\n",
       "0  04/02/2006 01:00:00 PM    055XX N MANGO AVE  OTHER OFFENSE   \n",
       "1  02/26/2006 01:40:48 PM   065XX S RHODES AVE      NARCOTICS   \n",
       "2  01/08/2006 11:16:00 PM      013XX E 69TH ST        ASSAULT   \n",
       "3  04/05/2006 06:45:00 PM  061XX W NEWPORT AVE        BATTERY   \n",
       "4  02/17/2006 09:03:14 PM      037XX W 60TH ST      NARCOTICS   \n",
       "\n",
       "                    Description Location Description  Arrest  Domestic  \n",
       "0       HARASSMENT BY TELEPHONE            RESIDENCE   False     False  \n",
       "1            MANU/DELIVER:CRACK             SIDEWALK    True     False  \n",
       "2           AGGRAVATED: HANDGUN                OTHER   False     False  \n",
       "3                        SIMPLE            RESIDENCE   False     False  \n",
       "4  POSS: CANNABIS 30GMS OR LESS                ALLEY    True     False  "
      ]
     },
     "execution_count": 7,
     "metadata": {},
     "output_type": "execute_result"
    }
   ],
   "source": [
    "# Taking only few of the coulumns for furthet analysis\n",
    "chicago_df = chicago_df[['Date','Block','Primary Type','Description','Location Description','Arrest','Domestic']]\n",
    "chicago_df.head()"
   ]
  },
  {
   "cell_type": "code",
   "execution_count": 8,
   "metadata": {},
   "outputs": [],
   "source": [
    "# converting Date to DateTime object\n",
    "chicago_df['Date'] = pd.to_datetime(chicago_df.Date,format='%m/%d/%Y %I:%M:%S %p')"
   ]
  },
  {
   "cell_type": "code",
   "execution_count": 9,
   "metadata": {},
   "outputs": [
    {
     "data": {
      "text/html": [
       "<div>\n",
       "<style scoped>\n",
       "    .dataframe tbody tr th:only-of-type {\n",
       "        vertical-align: middle;\n",
       "    }\n",
       "\n",
       "    .dataframe tbody tr th {\n",
       "        vertical-align: top;\n",
       "    }\n",
       "\n",
       "    .dataframe thead th {\n",
       "        text-align: right;\n",
       "    }\n",
       "</style>\n",
       "<table border=\"1\" class=\"dataframe\">\n",
       "  <thead>\n",
       "    <tr style=\"text-align: right;\">\n",
       "      <th></th>\n",
       "      <th>Date</th>\n",
       "      <th>Block</th>\n",
       "      <th>Primary Type</th>\n",
       "      <th>Description</th>\n",
       "      <th>Location Description</th>\n",
       "      <th>Arrest</th>\n",
       "      <th>Domestic</th>\n",
       "    </tr>\n",
       "  </thead>\n",
       "  <tbody>\n",
       "    <tr>\n",
       "      <td>0</td>\n",
       "      <td>2006-04-02 13:00:00</td>\n",
       "      <td>055XX N MANGO AVE</td>\n",
       "      <td>OTHER OFFENSE</td>\n",
       "      <td>HARASSMENT BY TELEPHONE</td>\n",
       "      <td>RESIDENCE</td>\n",
       "      <td>False</td>\n",
       "      <td>False</td>\n",
       "    </tr>\n",
       "    <tr>\n",
       "      <td>1</td>\n",
       "      <td>2006-02-26 13:40:48</td>\n",
       "      <td>065XX S RHODES AVE</td>\n",
       "      <td>NARCOTICS</td>\n",
       "      <td>MANU/DELIVER:CRACK</td>\n",
       "      <td>SIDEWALK</td>\n",
       "      <td>True</td>\n",
       "      <td>False</td>\n",
       "    </tr>\n",
       "    <tr>\n",
       "      <td>2</td>\n",
       "      <td>2006-01-08 23:16:00</td>\n",
       "      <td>013XX E 69TH ST</td>\n",
       "      <td>ASSAULT</td>\n",
       "      <td>AGGRAVATED: HANDGUN</td>\n",
       "      <td>OTHER</td>\n",
       "      <td>False</td>\n",
       "      <td>False</td>\n",
       "    </tr>\n",
       "    <tr>\n",
       "      <td>3</td>\n",
       "      <td>2006-04-05 18:45:00</td>\n",
       "      <td>061XX W NEWPORT AVE</td>\n",
       "      <td>BATTERY</td>\n",
       "      <td>SIMPLE</td>\n",
       "      <td>RESIDENCE</td>\n",
       "      <td>False</td>\n",
       "      <td>False</td>\n",
       "    </tr>\n",
       "    <tr>\n",
       "      <td>4</td>\n",
       "      <td>2006-02-17 21:03:14</td>\n",
       "      <td>037XX W 60TH ST</td>\n",
       "      <td>NARCOTICS</td>\n",
       "      <td>POSS: CANNABIS 30GMS OR LESS</td>\n",
       "      <td>ALLEY</td>\n",
       "      <td>True</td>\n",
       "      <td>False</td>\n",
       "    </tr>\n",
       "  </tbody>\n",
       "</table>\n",
       "</div>"
      ],
      "text/plain": [
       "                 Date                Block   Primary Type  \\\n",
       "0 2006-04-02 13:00:00    055XX N MANGO AVE  OTHER OFFENSE   \n",
       "1 2006-02-26 13:40:48   065XX S RHODES AVE      NARCOTICS   \n",
       "2 2006-01-08 23:16:00      013XX E 69TH ST        ASSAULT   \n",
       "3 2006-04-05 18:45:00  061XX W NEWPORT AVE        BATTERY   \n",
       "4 2006-02-17 21:03:14      037XX W 60TH ST      NARCOTICS   \n",
       "\n",
       "                    Description Location Description  Arrest  Domestic  \n",
       "0       HARASSMENT BY TELEPHONE            RESIDENCE   False     False  \n",
       "1            MANU/DELIVER:CRACK             SIDEWALK    True     False  \n",
       "2           AGGRAVATED: HANDGUN                OTHER   False     False  \n",
       "3                        SIMPLE            RESIDENCE   False     False  \n",
       "4  POSS: CANNABIS 30GMS OR LESS                ALLEY    True     False  "
      ]
     },
     "execution_count": 9,
     "metadata": {},
     "output_type": "execute_result"
    }
   ],
   "source": [
    "chicago_df.head()"
   ]
  },
  {
   "cell_type": "code",
   "execution_count": 10,
   "metadata": {},
   "outputs": [
    {
     "data": {
      "text/html": [
       "<div>\n",
       "<style scoped>\n",
       "    .dataframe tbody tr th:only-of-type {\n",
       "        vertical-align: middle;\n",
       "    }\n",
       "\n",
       "    .dataframe tbody tr th {\n",
       "        vertical-align: top;\n",
       "    }\n",
       "\n",
       "    .dataframe thead th {\n",
       "        text-align: right;\n",
       "    }\n",
       "</style>\n",
       "<table border=\"1\" class=\"dataframe\">\n",
       "  <thead>\n",
       "    <tr style=\"text-align: right;\">\n",
       "      <th></th>\n",
       "      <th>Date</th>\n",
       "      <th>Block</th>\n",
       "      <th>Primary Type</th>\n",
       "      <th>Description</th>\n",
       "      <th>Location Description</th>\n",
       "      <th>Arrest</th>\n",
       "      <th>Domestic</th>\n",
       "    </tr>\n",
       "    <tr>\n",
       "      <th>Date</th>\n",
       "      <th></th>\n",
       "      <th></th>\n",
       "      <th></th>\n",
       "      <th></th>\n",
       "      <th></th>\n",
       "      <th></th>\n",
       "      <th></th>\n",
       "    </tr>\n",
       "  </thead>\n",
       "  <tbody>\n",
       "    <tr>\n",
       "      <td>2006-04-02 13:00:00</td>\n",
       "      <td>2006-04-02 13:00:00</td>\n",
       "      <td>055XX N MANGO AVE</td>\n",
       "      <td>OTHER OFFENSE</td>\n",
       "      <td>HARASSMENT BY TELEPHONE</td>\n",
       "      <td>RESIDENCE</td>\n",
       "      <td>False</td>\n",
       "      <td>False</td>\n",
       "    </tr>\n",
       "    <tr>\n",
       "      <td>2006-02-26 13:40:48</td>\n",
       "      <td>2006-02-26 13:40:48</td>\n",
       "      <td>065XX S RHODES AVE</td>\n",
       "      <td>NARCOTICS</td>\n",
       "      <td>MANU/DELIVER:CRACK</td>\n",
       "      <td>SIDEWALK</td>\n",
       "      <td>True</td>\n",
       "      <td>False</td>\n",
       "    </tr>\n",
       "    <tr>\n",
       "      <td>2006-01-08 23:16:00</td>\n",
       "      <td>2006-01-08 23:16:00</td>\n",
       "      <td>013XX E 69TH ST</td>\n",
       "      <td>ASSAULT</td>\n",
       "      <td>AGGRAVATED: HANDGUN</td>\n",
       "      <td>OTHER</td>\n",
       "      <td>False</td>\n",
       "      <td>False</td>\n",
       "    </tr>\n",
       "    <tr>\n",
       "      <td>2006-04-05 18:45:00</td>\n",
       "      <td>2006-04-05 18:45:00</td>\n",
       "      <td>061XX W NEWPORT AVE</td>\n",
       "      <td>BATTERY</td>\n",
       "      <td>SIMPLE</td>\n",
       "      <td>RESIDENCE</td>\n",
       "      <td>False</td>\n",
       "      <td>False</td>\n",
       "    </tr>\n",
       "    <tr>\n",
       "      <td>2006-02-17 21:03:14</td>\n",
       "      <td>2006-02-17 21:03:14</td>\n",
       "      <td>037XX W 60TH ST</td>\n",
       "      <td>NARCOTICS</td>\n",
       "      <td>POSS: CANNABIS 30GMS OR LESS</td>\n",
       "      <td>ALLEY</td>\n",
       "      <td>True</td>\n",
       "      <td>False</td>\n",
       "    </tr>\n",
       "  </tbody>\n",
       "</table>\n",
       "</div>"
      ],
      "text/plain": [
       "                                   Date                Block   Primary Type  \\\n",
       "Date                                                                          \n",
       "2006-04-02 13:00:00 2006-04-02 13:00:00    055XX N MANGO AVE  OTHER OFFENSE   \n",
       "2006-02-26 13:40:48 2006-02-26 13:40:48   065XX S RHODES AVE      NARCOTICS   \n",
       "2006-01-08 23:16:00 2006-01-08 23:16:00      013XX E 69TH ST        ASSAULT   \n",
       "2006-04-05 18:45:00 2006-04-05 18:45:00  061XX W NEWPORT AVE        BATTERY   \n",
       "2006-02-17 21:03:14 2006-02-17 21:03:14      037XX W 60TH ST      NARCOTICS   \n",
       "\n",
       "                                      Description Location Description  \\\n",
       "Date                                                                     \n",
       "2006-04-02 13:00:00       HARASSMENT BY TELEPHONE            RESIDENCE   \n",
       "2006-02-26 13:40:48            MANU/DELIVER:CRACK             SIDEWALK   \n",
       "2006-01-08 23:16:00           AGGRAVATED: HANDGUN                OTHER   \n",
       "2006-04-05 18:45:00                        SIMPLE            RESIDENCE   \n",
       "2006-02-17 21:03:14  POSS: CANNABIS 30GMS OR LESS                ALLEY   \n",
       "\n",
       "                     Arrest  Domestic  \n",
       "Date                                   \n",
       "2006-04-02 13:00:00   False     False  \n",
       "2006-02-26 13:40:48    True     False  \n",
       "2006-01-08 23:16:00   False     False  \n",
       "2006-04-05 18:45:00   False     False  \n",
       "2006-02-17 21:03:14    True     False  "
      ]
     },
     "execution_count": 10,
     "metadata": {},
     "output_type": "execute_result"
    }
   ],
   "source": [
    "# setting the Date column as the index\n",
    "chicago_df.index = pd.DatetimeIndex(chicago_df.Date)\n",
    "chicago_df.head()"
   ]
  },
  {
   "cell_type": "code",
   "execution_count": 11,
   "metadata": {},
   "outputs": [
    {
     "data": {
      "text/plain": [
       "THEFT                                1245111\n",
       "BATTERY                              1079178\n",
       "CRIMINAL DAMAGE                       702702\n",
       "NARCOTICS                             674831\n",
       "BURGLARY                              369056\n",
       "OTHER OFFENSE                         368169\n",
       "ASSAULT                               360244\n",
       "MOTOR VEHICLE THEFT                   271624\n",
       "ROBBERY                               229467\n",
       "DECEPTIVE PRACTICE                    225180\n",
       "CRIMINAL TRESPASS                     171596\n",
       "PROSTITUTION                           60735\n",
       "WEAPONS VIOLATION                      60335\n",
       "PUBLIC PEACE VIOLATION                 48403\n",
       "OFFENSE INVOLVING CHILDREN             40260\n",
       "CRIM SEXUAL ASSAULT                    22789\n",
       "SEX OFFENSE                            20172\n",
       "GAMBLING                               14755\n",
       "INTERFERENCE WITH PUBLIC OFFICER       14009\n",
       "LIQUOR LAW VIOLATION                   12129\n",
       "ARSON                                   9269\n",
       "HOMICIDE                                5879\n",
       "KIDNAPPING                              4734\n",
       "INTIMIDATION                            3324\n",
       "STALKING                                2866\n",
       "OBSCENITY                                422\n",
       "PUBLIC INDECENCY                         134\n",
       "OTHER NARCOTIC VIOLATION                 122\n",
       "NON-CRIMINAL                              96\n",
       "CONCEALED CARRY LICENSE VIOLATION         90\n",
       "NON - CRIMINAL                            38\n",
       "HUMAN TRAFFICKING                         28\n",
       "RITUALISM                                 16\n",
       "NON-CRIMINAL (SUBJECT SPECIFIED)           4\n",
       "Name: Primary Type, dtype: int64"
      ]
     },
     "execution_count": 11,
     "metadata": {},
     "output_type": "execute_result"
    }
   ],
   "source": [
    "# Primary Type\n",
    "chicago_df['Primary Type'].value_counts()"
   ]
  },
  {
   "cell_type": "code",
   "execution_count": 12,
   "metadata": {},
   "outputs": [
    {
     "data": {
      "text/plain": [
       "Index(['THEFT', 'BATTERY', 'CRIMINAL DAMAGE', 'NARCOTICS', 'BURGLARY',\n",
       "       'OTHER OFFENSE', 'ASSAULT', 'MOTOR VEHICLE THEFT', 'ROBBERY',\n",
       "       'DECEPTIVE PRACTICE', 'CRIMINAL TRESPASS', 'PROSTITUTION',\n",
       "       'WEAPONS VIOLATION', 'PUBLIC PEACE VIOLATION',\n",
       "       'OFFENSE INVOLVING CHILDREN'],\n",
       "      dtype='object')"
      ]
     },
     "execution_count": 12,
     "metadata": {},
     "output_type": "execute_result"
    }
   ],
   "source": [
    "# taking only the top 15\n",
    "top_15_primary_type = chicago_df['Primary Type'].value_counts().iloc[:15].index\n",
    "top_15_primary_type"
   ]
  },
  {
   "cell_type": "code",
   "execution_count": 13,
   "metadata": {},
   "outputs": [
    {
     "data": {
      "text/plain": [
       "<matplotlib.axes._subplots.AxesSubplot at 0x2b003c898d0>"
      ]
     },
     "execution_count": 13,
     "metadata": {},
     "output_type": "execute_result"
    },
    {
     "data": {
      "image/png": "[encoded data removed]",
      "text/plain": [
       "<Figure size 720x432 with 1 Axes>"
      ]
     },
     "metadata": {
      "needs_background": "light"
     },
     "output_type": "display_data"
    }
   ],
   "source": [
    "plt.figure(figsize = (10,6))\n",
    "sns.countplot(y = 'Primary Type', data = chicago_df, order = top_15_primary_type)"
   ]
  },
  {
   "cell_type": "code",
   "execution_count": 14,
   "metadata": {},
   "outputs": [
    {
     "data": {
      "text/plain": [
       "<matplotlib.axes._subplots.AxesSubplot at 0x2b003d4c668>"
      ]
     },
     "execution_count": 14,
     "metadata": {},
     "output_type": "execute_result"
    },
    {
     "data": {
      "image/png": "[encoded data removed]",
      "text/plain": [
       "<Figure size 720x432 with 1 Axes>"
      ]
     },
     "metadata": {
      "needs_background": "light"
     },
     "output_type": "display_data"
    }
   ],
   "source": [
    "# top 15 Location Description \n",
    "plt.figure(figsize = (10,6))\n",
    "sns.countplot(y = 'Location Description', data = chicago_df, \n",
    "              order = chicago_df['Location Description'].value_counts().iloc[:15].index)"
   ]
  },
  {
   "cell_type": "code",
   "execution_count": 15,
   "metadata": {},
   "outputs": [
    {
     "data": {
      "text/plain": [
       "Date\n",
       "2005-12-31    455811\n",
       "2006-12-31    794684\n",
       "2007-12-31    621848\n",
       "2008-12-31    852053\n",
       "2009-12-31    783900\n",
       "2010-12-31    700691\n",
       "2011-12-31    352066\n",
       "2012-12-31    335670\n",
       "2013-12-31    306703\n",
       "2014-12-31    274527\n",
       "2015-12-31    262995\n",
       "2016-12-31    265462\n",
       "2017-12-31     11357\n",
       "Freq: A-DEC, dtype: int64"
      ]
     },
     "execution_count": 15,
     "metadata": {},
     "output_type": "execute_result"
    }
   ],
   "source": [
    "# Number of crimes in evey year\n",
    "chicago_df.resample('Y').size()"
   ]
  },
  {
   "cell_type": "code",
   "execution_count": 16,
   "metadata": {},
   "outputs": [
    {
     "data": {
      "text/plain": [
       "Text(0, 0.5, 'Number of Crimes')"
      ]
     },
     "execution_count": 16,
     "metadata": {},
     "output_type": "execute_result"
    },
    {
     "data": {
      "image/png": "[encoded data removed]",
      "text/plain": [
       "<Figure size 720x288 with 1 Axes>"
      ]
     },
     "metadata": {
      "needs_background": "light"
     },
     "output_type": "display_data"
    }
   ],
   "source": [
    "plt.figure(figsize = (10,4))\n",
    "plt.plot(chicago_df.resample('Y').size())\n",
    "plt.title('Crime Counts Per Year')\n",
    "plt.xlabel('Year')\n",
    "plt.ylabel('Number of Crimes')"
   ]
  },
  {
   "cell_type": "code",
   "execution_count": 17,
   "metadata": {},
   "outputs": [
    {
     "data": {
      "text/plain": [
       "Text(0, 0.5, 'Number of Crimes')"
      ]
     },
     "execution_count": 17,
     "metadata": {},
     "output_type": "execute_result"
    },
    {
     "data": {
      "image/png": "[encoded data removed]",
      "text/plain": [
       "<Figure size 720x288 with 1 Axes>"
      ]
     },
     "metadata": {
      "needs_background": "light"
     },
     "output_type": "display_data"
    }
   ],
   "source": [
    "# Monthly crime counts\n",
    "plt.figure(figsize = (10,4))\n",
    "plt.plot(chicago_df.resample('M').size())\n",
    "plt.title('Monthly Crime Counts')\n",
    "plt.xlabel('Month')\n",
    "plt.ylabel('Number of Crimes')"
   ]
  },
  {
   "cell_type": "code",
   "execution_count": 18,
   "metadata": {},
   "outputs": [
    {
     "data": {
      "text/plain": [
       "Text(0, 0.5, 'Number of Crimes')"
      ]
     },
     "execution_count": 18,
     "metadata": {},
     "output_type": "execute_result"
    },
    {
     "data": {
      "image/png": "[encoded data removed]",
      "text/plain": [
       "<Figure size 720x288 with 1 Axes>"
      ]
     },
     "metadata": {
      "needs_background": "light"
     },
     "output_type": "display_data"
    }
   ],
   "source": [
    "# Quaterly crime counts\n",
    "plt.figure(figsize = (10,4))\n",
    "plt.plot(chicago_df.resample('Q').size())\n",
    "plt.title('Quaterly Crime Counts')\n",
    "plt.xlabel('Quater')\n",
    "plt.ylabel('Number of Crimes')"
   ]
  },
  {
   "cell_type": "markdown",
   "metadata": {},
   "source": [
    "### Prepare Data"
   ]
  },
  {
   "cell_type": "code",
   "execution_count": 19,
   "metadata": {},
   "outputs": [
    {
     "data": {
      "text/html": [
       "<div>\n",
       "<style scoped>\n",
       "    .dataframe tbody tr th:only-of-type {\n",
       "        vertical-align: middle;\n",
       "    }\n",
       "\n",
       "    .dataframe tbody tr th {\n",
       "        vertical-align: top;\n",
       "    }\n",
       "\n",
       "    .dataframe thead th {\n",
       "        text-align: right;\n",
       "    }\n",
       "</style>\n",
       "<table border=\"1\" class=\"dataframe\">\n",
       "  <thead>\n",
       "    <tr style=\"text-align: right;\">\n",
       "      <th></th>\n",
       "      <th>Date</th>\n",
       "      <th>Crime_Count</th>\n",
       "    </tr>\n",
       "  </thead>\n",
       "  <tbody>\n",
       "    <tr>\n",
       "      <td>0</td>\n",
       "      <td>2005-01-31</td>\n",
       "      <td>33983</td>\n",
       "    </tr>\n",
       "    <tr>\n",
       "      <td>1</td>\n",
       "      <td>2005-02-28</td>\n",
       "      <td>32042</td>\n",
       "    </tr>\n",
       "    <tr>\n",
       "      <td>2</td>\n",
       "      <td>2005-03-31</td>\n",
       "      <td>36970</td>\n",
       "    </tr>\n",
       "    <tr>\n",
       "      <td>3</td>\n",
       "      <td>2005-04-30</td>\n",
       "      <td>38963</td>\n",
       "    </tr>\n",
       "    <tr>\n",
       "      <td>4</td>\n",
       "      <td>2005-05-31</td>\n",
       "      <td>40572</td>\n",
       "    </tr>\n",
       "    <tr>\n",
       "      <td>...</td>\n",
       "      <td>...</td>\n",
       "      <td>...</td>\n",
       "    </tr>\n",
       "    <tr>\n",
       "      <td>140</td>\n",
       "      <td>2016-09-30</td>\n",
       "      <td>23235</td>\n",
       "    </tr>\n",
       "    <tr>\n",
       "      <td>141</td>\n",
       "      <td>2016-10-31</td>\n",
       "      <td>23314</td>\n",
       "    </tr>\n",
       "    <tr>\n",
       "      <td>142</td>\n",
       "      <td>2016-11-30</td>\n",
       "      <td>21140</td>\n",
       "    </tr>\n",
       "    <tr>\n",
       "      <td>143</td>\n",
       "      <td>2016-12-31</td>\n",
       "      <td>19580</td>\n",
       "    </tr>\n",
       "    <tr>\n",
       "      <td>144</td>\n",
       "      <td>2017-01-31</td>\n",
       "      <td>11357</td>\n",
       "    </tr>\n",
       "  </tbody>\n",
       "</table>\n",
       "<p>145 rows × 2 columns</p>\n",
       "</div>"
      ],
      "text/plain": [
       "          Date  Crime_Count\n",
       "0   2005-01-31        33983\n",
       "1   2005-02-28        32042\n",
       "2   2005-03-31        36970\n",
       "3   2005-04-30        38963\n",
       "4   2005-05-31        40572\n",
       "..         ...          ...\n",
       "140 2016-09-30        23235\n",
       "141 2016-10-31        23314\n",
       "142 2016-11-30        21140\n",
       "143 2016-12-31        19580\n",
       "144 2017-01-31        11357\n",
       "\n",
       "[145 rows x 2 columns]"
      ]
     },
     "execution_count": 19,
     "metadata": {},
     "output_type": "execute_result"
    }
   ],
   "source": [
    "# Monthly crime counts\n",
    "chicago_prophet_df = chicago_df.resample('M').size().reset_index()\n",
    "chicago_prophet_df.columns = ['Date', 'Crime_Count']\n",
    "chicago_prophet_df"
   ]
  },
  {
   "cell_type": "code",
   "execution_count": 20,
   "metadata": {},
   "outputs": [
    {
     "data": {
      "text/html": [
       "<div>\n",
       "<style scoped>\n",
       "    .dataframe tbody tr th:only-of-type {\n",
       "        vertical-align: middle;\n",
       "    }\n",
       "\n",
       "    .dataframe tbody tr th {\n",
       "        vertical-align: top;\n",
       "    }\n",
       "\n",
       "    .dataframe thead th {\n",
       "        text-align: right;\n",
       "    }\n",
       "</style>\n",
       "<table border=\"1\" class=\"dataframe\">\n",
       "  <thead>\n",
       "    <tr style=\"text-align: right;\">\n",
       "      <th></th>\n",
       "      <th>ds</th>\n",
       "      <th>y</th>\n",
       "    </tr>\n",
       "  </thead>\n",
       "  <tbody>\n",
       "    <tr>\n",
       "      <td>0</td>\n",
       "      <td>2005-01-31</td>\n",
       "      <td>33983</td>\n",
       "    </tr>\n",
       "    <tr>\n",
       "      <td>1</td>\n",
       "      <td>2005-02-28</td>\n",
       "      <td>32042</td>\n",
       "    </tr>\n",
       "    <tr>\n",
       "      <td>2</td>\n",
       "      <td>2005-03-31</td>\n",
       "      <td>36970</td>\n",
       "    </tr>\n",
       "    <tr>\n",
       "      <td>3</td>\n",
       "      <td>2005-04-30</td>\n",
       "      <td>38963</td>\n",
       "    </tr>\n",
       "    <tr>\n",
       "      <td>4</td>\n",
       "      <td>2005-05-31</td>\n",
       "      <td>40572</td>\n",
       "    </tr>\n",
       "  </tbody>\n",
       "</table>\n",
       "</div>"
      ],
      "text/plain": [
       "          ds      y\n",
       "0 2005-01-31  33983\n",
       "1 2005-02-28  32042\n",
       "2 2005-03-31  36970\n",
       "3 2005-04-30  38963\n",
       "4 2005-05-31  40572"
      ]
     },
     "execution_count": 20,
     "metadata": {},
     "output_type": "execute_result"
    }
   ],
   "source": [
    "# Renaming the columns for the prophet model\n",
    "chicago_prophet_df_final = chicago_prophet_df.rename(columns = {'Date':'ds','Crime_Count':'y'})\n",
    "chicago_prophet_df_final.head()"
   ]
  },
  {
   "cell_type": "markdown",
   "metadata": {},
   "source": [
    "### Modeling"
   ]
  },
  {
   "cell_type": "code",
   "execution_count": 21,
   "metadata": {},
   "outputs": [
    {
     "name": "stderr",
     "output_type": "stream",
     "text": [
      "INFO:numexpr.utils:NumExpr defaulting to 4 threads.\n",
      "INFO:fbprophet:Disabling weekly seasonality. Run prophet with weekly_seasonality=True to override this.\n",
      "INFO:fbprophet:Disabling daily seasonality. Run prophet with daily_seasonality=True to override this.\n",
      "C:\\Users\\abyanjan.FSE17-32\\Anaconda3\\lib\\site-packages\\pystan\\misc.py:399: FutureWarning:\n",
      "\n",
      "Conversion of the second argument of issubdtype from `float` to `np.floating` is deprecated. In future, it will be treated as `np.float64 == np.dtype(float).type`.\n",
      "\n"
     ]
    },
    {
     "data": {
      "text/plain": [
       "<fbprophet.forecaster.Prophet at 0x2b03fedea20>"
      ]
     },
     "execution_count": 21,
     "metadata": {},
     "output_type": "execute_result"
    }
   ],
   "source": [
    "model = Prophet()\n",
    "model.fit(chicago_prophet_df_final)"
   ]
  },
  {
   "cell_type": "code",
   "execution_count": 22,
   "metadata": {},
   "outputs": [
    {
     "data": {
      "text/html": [
       "<div>\n",
       "<style scoped>\n",
       "    .dataframe tbody tr th:only-of-type {\n",
       "        vertical-align: middle;\n",
       "    }\n",
       "\n",
       "    .dataframe tbody tr th {\n",
       "        vertical-align: top;\n",
       "    }\n",
       "\n",
       "    .dataframe thead th {\n",
       "        text-align: right;\n",
       "    }\n",
       "</style>\n",
       "<table border=\"1\" class=\"dataframe\">\n",
       "  <thead>\n",
       "    <tr style=\"text-align: right;\">\n",
       "      <th></th>\n",
       "      <th>ds</th>\n",
       "      <th>trend</th>\n",
       "      <th>yhat_lower</th>\n",
       "      <th>yhat_upper</th>\n",
       "      <th>trend_lower</th>\n",
       "      <th>trend_upper</th>\n",
       "      <th>additive_terms</th>\n",
       "      <th>additive_terms_lower</th>\n",
       "      <th>additive_terms_upper</th>\n",
       "      <th>yearly</th>\n",
       "      <th>yearly_lower</th>\n",
       "      <th>yearly_upper</th>\n",
       "      <th>multiplicative_terms</th>\n",
       "      <th>multiplicative_terms_lower</th>\n",
       "      <th>multiplicative_terms_upper</th>\n",
       "      <th>yhat</th>\n",
       "    </tr>\n",
       "  </thead>\n",
       "  <tbody>\n",
       "    <tr>\n",
       "      <td>0</td>\n",
       "      <td>2005-01-31</td>\n",
       "      <td>60454.773642</td>\n",
       "      <td>37696.340427</td>\n",
       "      <td>72090.011582</td>\n",
       "      <td>60454.773642</td>\n",
       "      <td>60454.773642</td>\n",
       "      <td>-4762.404217</td>\n",
       "      <td>-4762.404217</td>\n",
       "      <td>-4762.404217</td>\n",
       "      <td>-4762.404217</td>\n",
       "      <td>-4762.404217</td>\n",
       "      <td>-4762.404217</td>\n",
       "      <td>0.0</td>\n",
       "      <td>0.0</td>\n",
       "      <td>0.0</td>\n",
       "      <td>55692.369426</td>\n",
       "    </tr>\n",
       "    <tr>\n",
       "      <td>1</td>\n",
       "      <td>2005-02-28</td>\n",
       "      <td>60322.370911</td>\n",
       "      <td>34321.342079</td>\n",
       "      <td>66871.755196</td>\n",
       "      <td>60322.370911</td>\n",
       "      <td>60322.370911</td>\n",
       "      <td>-9500.516358</td>\n",
       "      <td>-9500.516358</td>\n",
       "      <td>-9500.516358</td>\n",
       "      <td>-9500.516358</td>\n",
       "      <td>-9500.516358</td>\n",
       "      <td>-9500.516358</td>\n",
       "      <td>0.0</td>\n",
       "      <td>0.0</td>\n",
       "      <td>0.0</td>\n",
       "      <td>50821.854553</td>\n",
       "    </tr>\n",
       "    <tr>\n",
       "      <td>2</td>\n",
       "      <td>2005-03-31</td>\n",
       "      <td>60175.782173</td>\n",
       "      <td>41545.065186</td>\n",
       "      <td>75881.644301</td>\n",
       "      <td>60175.782173</td>\n",
       "      <td>60175.782173</td>\n",
       "      <td>-1224.151952</td>\n",
       "      <td>-1224.151952</td>\n",
       "      <td>-1224.151952</td>\n",
       "      <td>-1224.151952</td>\n",
       "      <td>-1224.151952</td>\n",
       "      <td>-1224.151952</td>\n",
       "      <td>0.0</td>\n",
       "      <td>0.0</td>\n",
       "      <td>0.0</td>\n",
       "      <td>58951.630221</td>\n",
       "    </tr>\n",
       "    <tr>\n",
       "      <td>3</td>\n",
       "      <td>2005-04-30</td>\n",
       "      <td>60033.922104</td>\n",
       "      <td>45406.276275</td>\n",
       "      <td>77768.411190</td>\n",
       "      <td>60033.922104</td>\n",
       "      <td>60033.922104</td>\n",
       "      <td>1182.829000</td>\n",
       "      <td>1182.829000</td>\n",
       "      <td>1182.829000</td>\n",
       "      <td>1182.829000</td>\n",
       "      <td>1182.829000</td>\n",
       "      <td>1182.829000</td>\n",
       "      <td>0.0</td>\n",
       "      <td>0.0</td>\n",
       "      <td>0.0</td>\n",
       "      <td>61216.751104</td>\n",
       "    </tr>\n",
       "    <tr>\n",
       "      <td>4</td>\n",
       "      <td>2005-05-31</td>\n",
       "      <td>59887.333366</td>\n",
       "      <td>47685.681290</td>\n",
       "      <td>81838.456833</td>\n",
       "      <td>59887.333366</td>\n",
       "      <td>59887.333366</td>\n",
       "      <td>5498.247964</td>\n",
       "      <td>5498.247964</td>\n",
       "      <td>5498.247964</td>\n",
       "      <td>5498.247964</td>\n",
       "      <td>5498.247964</td>\n",
       "      <td>5498.247964</td>\n",
       "      <td>0.0</td>\n",
       "      <td>0.0</td>\n",
       "      <td>0.0</td>\n",
       "      <td>65385.581330</td>\n",
       "    </tr>\n",
       "    <tr>\n",
       "      <td>...</td>\n",
       "      <td>...</td>\n",
       "      <td>...</td>\n",
       "      <td>...</td>\n",
       "      <td>...</td>\n",
       "      <td>...</td>\n",
       "      <td>...</td>\n",
       "      <td>...</td>\n",
       "      <td>...</td>\n",
       "      <td>...</td>\n",
       "      <td>...</td>\n",
       "      <td>...</td>\n",
       "      <td>...</td>\n",
       "      <td>...</td>\n",
       "      <td>...</td>\n",
       "      <td>...</td>\n",
       "      <td>...</td>\n",
       "    </tr>\n",
       "    <tr>\n",
       "      <td>505</td>\n",
       "      <td>2018-01-27</td>\n",
       "      <td>10104.146683</td>\n",
       "      <td>-10142.210066</td>\n",
       "      <td>21794.581823</td>\n",
       "      <td>9972.202323</td>\n",
       "      <td>10260.254935</td>\n",
       "      <td>-4977.920771</td>\n",
       "      <td>-4977.920771</td>\n",
       "      <td>-4977.920771</td>\n",
       "      <td>-4977.920771</td>\n",
       "      <td>-4977.920771</td>\n",
       "      <td>-4977.920771</td>\n",
       "      <td>0.0</td>\n",
       "      <td>0.0</td>\n",
       "      <td>0.0</td>\n",
       "      <td>5126.225912</td>\n",
       "    </tr>\n",
       "    <tr>\n",
       "      <td>506</td>\n",
       "      <td>2018-01-28</td>\n",
       "      <td>10091.080010</td>\n",
       "      <td>-12518.586444</td>\n",
       "      <td>20707.334875</td>\n",
       "      <td>9958.033146</td>\n",
       "      <td>10247.505942</td>\n",
       "      <td>-4922.571939</td>\n",
       "      <td>-4922.571939</td>\n",
       "      <td>-4922.571939</td>\n",
       "      <td>-4922.571939</td>\n",
       "      <td>-4922.571939</td>\n",
       "      <td>-4922.571939</td>\n",
       "      <td>0.0</td>\n",
       "      <td>0.0</td>\n",
       "      <td>0.0</td>\n",
       "      <td>5168.508071</td>\n",
       "    </tr>\n",
       "    <tr>\n",
       "      <td>507</td>\n",
       "      <td>2018-01-29</td>\n",
       "      <td>10078.013336</td>\n",
       "      <td>-11491.992802</td>\n",
       "      <td>21277.731554</td>\n",
       "      <td>9943.865629</td>\n",
       "      <td>10235.546383</td>\n",
       "      <td>-4867.895035</td>\n",
       "      <td>-4867.895035</td>\n",
       "      <td>-4867.895035</td>\n",
       "      <td>-4867.895035</td>\n",
       "      <td>-4867.895035</td>\n",
       "      <td>-4867.895035</td>\n",
       "      <td>0.0</td>\n",
       "      <td>0.0</td>\n",
       "      <td>0.0</td>\n",
       "      <td>5210.118301</td>\n",
       "    </tr>\n",
       "    <tr>\n",
       "      <td>508</td>\n",
       "      <td>2018-01-30</td>\n",
       "      <td>10064.946663</td>\n",
       "      <td>-12624.175105</td>\n",
       "      <td>21224.478747</td>\n",
       "      <td>9930.417217</td>\n",
       "      <td>10223.812863</td>\n",
       "      <td>-4816.721706</td>\n",
       "      <td>-4816.721706</td>\n",
       "      <td>-4816.721706</td>\n",
       "      <td>-4816.721706</td>\n",
       "      <td>-4816.721706</td>\n",
       "      <td>-4816.721706</td>\n",
       "      <td>0.0</td>\n",
       "      <td>0.0</td>\n",
       "      <td>0.0</td>\n",
       "      <td>5248.224956</td>\n",
       "    </tr>\n",
       "    <tr>\n",
       "      <td>509</td>\n",
       "      <td>2018-01-31</td>\n",
       "      <td>10051.879989</td>\n",
       "      <td>-11347.675638</td>\n",
       "      <td>22114.041294</td>\n",
       "      <td>9916.994805</td>\n",
       "      <td>10212.060427</td>\n",
       "      <td>-4772.140541</td>\n",
       "      <td>-4772.140541</td>\n",
       "      <td>-4772.140541</td>\n",
       "      <td>-4772.140541</td>\n",
       "      <td>-4772.140541</td>\n",
       "      <td>-4772.140541</td>\n",
       "      <td>0.0</td>\n",
       "      <td>0.0</td>\n",
       "      <td>0.0</td>\n",
       "      <td>5279.739449</td>\n",
       "    </tr>\n",
       "  </tbody>\n",
       "</table>\n",
       "<p>510 rows × 16 columns</p>\n",
       "</div>"
      ],
      "text/plain": [
       "            ds         trend    yhat_lower    yhat_upper   trend_lower  \\\n",
       "0   2005-01-31  60454.773642  37696.340427  72090.011582  60454.773642   \n",
       "1   2005-02-28  60322.370911  34321.342079  66871.755196  60322.370911   \n",
       "2   2005-03-31  60175.782173  41545.065186  75881.644301  60175.782173   \n",
       "3   2005-04-30  60033.922104  45406.276275  77768.411190  60033.922104   \n",
       "4   2005-05-31  59887.333366  47685.681290  81838.456833  59887.333366   \n",
       "..         ...           ...           ...           ...           ...   \n",
       "505 2018-01-27  10104.146683 -10142.210066  21794.581823   9972.202323   \n",
       "506 2018-01-28  10091.080010 -12518.586444  20707.334875   9958.033146   \n",
       "507 2018-01-29  10078.013336 -11491.992802  21277.731554   9943.865629   \n",
       "508 2018-01-30  10064.946663 -12624.175105  21224.478747   9930.417217   \n",
       "509 2018-01-31  10051.879989 -11347.675638  22114.041294   9916.994805   \n",
       "\n",
       "      trend_upper  additive_terms  additive_terms_lower  additive_terms_upper  \\\n",
       "0    60454.773642    -4762.404217          -4762.404217          -4762.404217   \n",
       "1    60322.370911    -9500.516358          -9500.516358          -9500.516358   \n",
       "2    60175.782173    -1224.151952          -1224.151952          -1224.151952   \n",
       "3    60033.922104     1182.829000           1182.829000           1182.829000   \n",
       "4    59887.333366     5498.247964           5498.247964           5498.247964   \n",
       "..            ...             ...                   ...                   ...   \n",
       "505  10260.254935    -4977.920771          -4977.920771          -4977.920771   \n",
       "506  10247.505942    -4922.571939          -4922.571939          -4922.571939   \n",
       "507  10235.546383    -4867.895035          -4867.895035          -4867.895035   \n",
       "508  10223.812863    -4816.721706          -4816.721706          -4816.721706   \n",
       "509  10212.060427    -4772.140541          -4772.140541          -4772.140541   \n",
       "\n",
       "          yearly  yearly_lower  yearly_upper  multiplicative_terms  \\\n",
       "0   -4762.404217  -4762.404217  -4762.404217                   0.0   \n",
       "1   -9500.516358  -9500.516358  -9500.516358                   0.0   \n",
       "2   -1224.151952  -1224.151952  -1224.151952                   0.0   \n",
       "3    1182.829000   1182.829000   1182.829000                   0.0   \n",
       "4    5498.247964   5498.247964   5498.247964                   0.0   \n",
       "..           ...           ...           ...                   ...   \n",
       "505 -4977.920771  -4977.920771  -4977.920771                   0.0   \n",
       "506 -4922.571939  -4922.571939  -4922.571939                   0.0   \n",
       "507 -4867.895035  -4867.895035  -4867.895035                   0.0   \n",
       "508 -4816.721706  -4816.721706  -4816.721706                   0.0   \n",
       "509 -4772.140541  -4772.140541  -4772.140541                   0.0   \n",
       "\n",
       "     multiplicative_terms_lower  multiplicative_terms_upper          yhat  \n",
       "0                           0.0                         0.0  55692.369426  \n",
       "1                           0.0                         0.0  50821.854553  \n",
       "2                           0.0                         0.0  58951.630221  \n",
       "3                           0.0                         0.0  61216.751104  \n",
       "4                           0.0                         0.0  65385.581330  \n",
       "..                          ...                         ...           ...  \n",
       "505                         0.0                         0.0   5126.225912  \n",
       "506                         0.0                         0.0   5168.508071  \n",
       "507                         0.0                         0.0   5210.118301  \n",
       "508                         0.0                         0.0   5248.224956  \n",
       "509                         0.0                         0.0   5279.739449  \n",
       "\n",
       "[510 rows x 16 columns]"
      ]
     },
     "execution_count": 22,
     "metadata": {},
     "output_type": "execute_result"
    }
   ],
   "source": [
    "# Make predictions for the next 1 year\n",
    "future = model.make_future_dataframe(periods = 365)\n",
    "forecast = model.predict(future)\n",
    "\n",
    "forecast"
   ]
  },
  {
   "cell_type": "code",
   "execution_count": 23,
   "metadata": {},
   "outputs": [
    {
     "data": {
      "image/png": "[encoded data removed]",
      "text/plain": [
       "<Figure size 720x432 with 1 Axes>"
      ]
     },
     "metadata": {},
     "output_type": "display_data"
    }
   ],
   "source": [
    "# plotting the predictions\n",
    "figure = model.plot(forecast,xlabel = 'Year', ylabel = 'Crime Rate')"
   ]
  },
  {
   "cell_type": "code",
   "execution_count": 24,
   "metadata": {},
   "outputs": [
    {
     "data": {
      "image/png": "[encoded data removed]",
      "text/plain": [
       "<Figure size 648x432 with 2 Axes>"
      ]
     },
     "metadata": {},
     "output_type": "display_data"
    }
   ],
   "source": [
    "# component plot\n",
    "figure = model.plot_components(forecast)"
   ]
  },
  {
   "cell_type": "code",
   "execution_count": null,
   "metadata": {},
   "outputs": [],
   "source": []
  }
 ],
 "metadata": {
  "kernelspec": {
   "display_name": "Python 3",
   "language": "python",
   "name": "python3"
  },
  "language_info": {
   "codemirror_mode": {
    "name": "ipython",
    "version": 3
   },
   "file_extension": ".py",
   "mimetype": "text/x-python",
   "name": "python",
   "nbconvert_exporter": "python",
   "pygments_lexer": "ipython3",
   "version": "3.6.9"
  }
 },
 "nbformat": 4,
 "nbformat_minor": 2
}
